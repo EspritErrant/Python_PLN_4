{
 "cells": [
  {
   "cell_type": "markdown",
   "metadata": {},
   "source": [
    "# Saisir une commande"
   ]
  },
  {
   "cell_type": "markdown",
   "metadata": {},
   "source": [
    "## Voir le résultat"
   ]
  },
  {
   "cell_type": "code",
   "execution_count": 1,
   "metadata": {},
   "outputs": [
    {
     "name": "stdout",
     "output_type": "stream",
     "text": [
      "Ceci est une ligne de texte.\n"
     ]
    }
   ],
   "source": [
    "print(\"Ceci est une ligne de texte.\")"
   ]
  },
  {
   "cell_type": "markdown",
   "metadata": {},
   "source": [
    "# Obtenir de l’aide de Python"
   ]
  },
  {
   "cell_type": "markdown",
   "metadata": {},
   "source": [
    "## Entrer dans le mode Aide"
   ]
  },
  {
   "cell_type": "code",
   "execution_count": 2,
   "metadata": {},
   "outputs": [
    {
     "name": "stdout",
     "output_type": "stream",
     "text": [
      "Copyright (c) 2001-2021 Python Software Foundation.\n",
      "All Rights Reserved.\n",
      "\n",
      "Copyright (c) 2000 BeOpen.com.\n",
      "All Rights Reserved.\n",
      "\n",
      "Copyright (c) 1995-2001 Corporation for National Research Initiatives.\n",
      "All Rights Reserved.\n",
      "\n",
      "Copyright (c) 1991-1995 Stichting Mathematisch Centrum, Amsterdam.\n",
      "All Rights Reserved.\n"
     ]
    }
   ],
   "source": [
    "copyright()"
   ]
  },
  {
   "cell_type": "code",
   "execution_count": 3,
   "metadata": {},
   "outputs": [
    {
     "name": "stdout",
     "output_type": "stream",
     "text": [
      "    Thanks to CWI, CNRI, BeOpen.com, Zope Corporation and a cast of thousands\n",
      "    for supporting Python development.  See www.python.org for more information.\n"
     ]
    }
   ],
   "source": [
    "credits()"
   ]
  },
  {
   "cell_type": "code",
   "execution_count": 4,
   "metadata": {},
   "outputs": [
    {
     "name": "stdout",
     "output_type": "stream",
     "text": [
      "See https://www.python.org/psf/license/\n"
     ]
    }
   ],
   "source": [
    "license()"
   ]
  },
  {
   "cell_type": "markdown",
   "metadata": {},
   "source": [
    "## Demander de l’aide"
   ]
  },
  {
   "cell_type": "code",
   "execution_count": null,
   "metadata": {},
   "outputs": [
    {
     "name": "stdout",
     "output_type": "stream",
     "text": [
      "\n",
      "Welcome to Python 3.8's help utility!\n",
      "\n",
      "If this is your first time using Python, you should definitely check out\n",
      "the tutorial on the Internet at https://docs.python.org/3.8/tutorial/.\n",
      "\n",
      "Enter the name of any module, keyword, or topic to get help on writing\n",
      "Python programs and using Python modules.  To quit this help utility and\n",
      "return to the interpreter, just type \"quit\".\n",
      "\n",
      "To get a list of available modules, keywords, symbols, or topics, type\n",
      "\"modules\", \"keywords\", \"symbols\", or \"topics\".  Each module also comes\n",
      "with a one-line summary of what it does; to list the modules whose name\n",
      "or summary contain a given string such as \"spam\", type \"modules spam\".\n",
      "\n"
     ]
    }
   ],
   "source": [
    "help()"
   ]
  },
  {
   "cell_type": "markdown",
   "metadata": {},
   "source": [
    "## Obtenir de l’aide directement"
   ]
  },
  {
   "cell_type": "code",
   "execution_count": null,
   "metadata": {},
   "outputs": [],
   "source": [
    "help('print')"
   ]
  },
  {
   "cell_type": "code",
   "execution_count": null,
   "metadata": {},
   "outputs": [],
   "source": [
    "help('topics')"
   ]
  },
  {
   "cell_type": "markdown",
   "metadata": {},
   "source": [
    "# En savoir plus sur les fonctions et les objets"
   ]
  },
  {
   "cell_type": "markdown",
   "metadata": {},
   "source": [
    "## Crier « Bonjour » ne sert à rien : utilisez plutôt dir()"
   ]
  },
  {
   "cell_type": "code",
   "execution_count": null,
   "metadata": {},
   "outputs": [],
   "source": [
    "dir()"
   ]
  },
  {
   "cell_type": "code",
   "execution_count": null,
   "metadata": {},
   "outputs": [],
   "source": [
    "myNum = 2056\n",
    "dir(myNum)"
   ]
  },
  {
   "cell_type": "code",
   "execution_count": null,
   "metadata": {},
   "outputs": [],
   "source": [
    "myNum.bit_length()"
   ]
  },
  {
   "cell_type": "markdown",
   "metadata": {},
   "source": [
    "## Qu’est-ce que c’est que ces doubles barres de soulignement ?"
   ]
  },
  {
   "cell_type": "code",
   "execution_count": null,
   "metadata": {},
   "outputs": [],
   "source": [
    "myNum.__eq__(2056)"
   ]
  },
  {
   "cell_type": "code",
   "execution_count": null,
   "metadata": {},
   "outputs": [],
   "source": [
    "myNum == 2056"
   ]
  },
  {
   "cell_type": "markdown",
   "metadata": {},
   "source": [
    "## Exploiter les classes"
   ]
  },
  {
   "cell_type": "code",
   "execution_count": null,
   "metadata": {},
   "outputs": [],
   "source": [
    "myNum.to_bytes(4, byteorder = 'big')"
   ]
  },
  {
   "cell_type": "code",
   "execution_count": null,
   "metadata": {},
   "outputs": [],
   "source": [
    "dir(myNum.to_bytes(4, byteorder = 'big'))"
   ]
  },
  {
   "cell_type": "code",
   "execution_count": null,
   "metadata": {},
   "outputs": [],
   "source": [
    "myNum.to_bytes(4, byteorder = 'big').replace(b'\\x00', b'\\x01')"
   ]
  },
  {
   "cell_type": "code",
   "execution_count": null,
   "metadata": {},
   "outputs": [],
   "source": [
    "myNum.from_bytes(myNum.to_bytes(4, byteorder = 'big').replace(b'\\x00', b'\\x01'), 'big')"
   ]
  },
  {
   "cell_type": "markdown",
   "metadata": {},
   "source": [
    "# Jouer au détective"
   ]
  },
  {
   "cell_type": "markdown",
   "metadata": {},
   "source": [
    "## Accéder au module inspect"
   ]
  },
  {
   "cell_type": "code",
   "execution_count": 24,
   "metadata": {},
   "outputs": [],
   "source": [
    "import inspect"
   ]
  },
  {
   "cell_type": "markdown",
   "metadata": {},
   "source": [
    "## Utiliser le module inspect"
   ]
  },
  {
   "cell_type": "code",
   "execution_count": 25,
   "metadata": {},
   "outputs": [
    {
     "data": {
      "text/plain": [
       "True"
      ]
     },
     "execution_count": 25,
     "metadata": {},
     "output_type": "execute_result"
    }
   ],
   "source": [
    "inspect.ismodule(inspect)"
   ]
  },
  {
   "cell_type": "code",
   "execution_count": 26,
   "metadata": {},
   "outputs": [
    {
     "data": {
      "text/plain": [
       "[('__abs__', <method-wrapper '__abs__' of int object at 0x000002095F6EDA50>),\n",
       " ('__add__', <method-wrapper '__add__' of int object at 0x000002095F6EDA50>),\n",
       " ('__and__', <method-wrapper '__and__' of int object at 0x000002095F6EDA50>),\n",
       " ('__bool__', <method-wrapper '__bool__' of int object at 0x000002095F6EDA50>),\n",
       " ('__ceil__', <function int.__ceil__>),\n",
       " ('__class__', int),\n",
       " ('__delattr__',\n",
       "  <method-wrapper '__delattr__' of int object at 0x000002095F6EDA50>),\n",
       " ('__dir__', <function int.__dir__()>),\n",
       " ('__divmod__',\n",
       "  <method-wrapper '__divmod__' of int object at 0x000002095F6EDA50>),\n",
       " ('__doc__',\n",
       "  \"int([x]) -> integer\\nint(x, base=10) -> integer\\n\\nConvert a number or string to an integer, or return 0 if no arguments\\nare given.  If x is a number, return x.__int__().  For floating point\\nnumbers, this truncates towards zero.\\n\\nIf x is not a number or if base is given, then x must be a string,\\nbytes, or bytearray instance representing an integer literal in the\\ngiven base.  The literal can be preceded by '+' or '-' and be surrounded\\nby whitespace.  The base defaults to 10.  Valid bases are 0 and 2-36.\\nBase 0 means to interpret the base from the string as an integer literal.\\n>>> int('0b100', base=0)\\n4\"),\n",
       " ('__eq__', <method-wrapper '__eq__' of int object at 0x000002095F6EDA50>),\n",
       " ('__float__',\n",
       "  <method-wrapper '__float__' of int object at 0x000002095F6EDA50>),\n",
       " ('__floor__', <function int.__floor__>),\n",
       " ('__floordiv__',\n",
       "  <method-wrapper '__floordiv__' of int object at 0x000002095F6EDA50>),\n",
       " ('__format__', <function int.__format__(format_spec, /)>),\n",
       " ('__ge__', <method-wrapper '__ge__' of int object at 0x000002095F6EDA50>),\n",
       " ('__getattribute__',\n",
       "  <method-wrapper '__getattribute__' of int object at 0x000002095F6EDA50>),\n",
       " ('__getnewargs__', <function int.__getnewargs__()>),\n",
       " ('__gt__', <method-wrapper '__gt__' of int object at 0x000002095F6EDA50>),\n",
       " ('__hash__', <method-wrapper '__hash__' of int object at 0x000002095F6EDA50>),\n",
       " ('__index__',\n",
       "  <method-wrapper '__index__' of int object at 0x000002095F6EDA50>),\n",
       " ('__init__', <method-wrapper '__init__' of int object at 0x000002095F6EDA50>),\n",
       " ('__init_subclass__', <function int.__init_subclass__>),\n",
       " ('__int__', <method-wrapper '__int__' of int object at 0x000002095F6EDA50>),\n",
       " ('__invert__',\n",
       "  <method-wrapper '__invert__' of int object at 0x000002095F6EDA50>),\n",
       " ('__le__', <method-wrapper '__le__' of int object at 0x000002095F6EDA50>),\n",
       " ('__lshift__',\n",
       "  <method-wrapper '__lshift__' of int object at 0x000002095F6EDA50>),\n",
       " ('__lt__', <method-wrapper '__lt__' of int object at 0x000002095F6EDA50>),\n",
       " ('__mod__', <method-wrapper '__mod__' of int object at 0x000002095F6EDA50>),\n",
       " ('__mul__', <method-wrapper '__mul__' of int object at 0x000002095F6EDA50>),\n",
       " ('__ne__', <method-wrapper '__ne__' of int object at 0x000002095F6EDA50>),\n",
       " ('__neg__', <method-wrapper '__neg__' of int object at 0x000002095F6EDA50>),\n",
       " ('__new__', <function int.__new__(*args, **kwargs)>),\n",
       " ('__or__', <method-wrapper '__or__' of int object at 0x000002095F6EDA50>),\n",
       " ('__pos__', <method-wrapper '__pos__' of int object at 0x000002095F6EDA50>),\n",
       " ('__pow__', <method-wrapper '__pow__' of int object at 0x000002095F6EDA50>),\n",
       " ('__radd__', <method-wrapper '__radd__' of int object at 0x000002095F6EDA50>),\n",
       " ('__rand__', <method-wrapper '__rand__' of int object at 0x000002095F6EDA50>),\n",
       " ('__rdivmod__',\n",
       "  <method-wrapper '__rdivmod__' of int object at 0x000002095F6EDA50>),\n",
       " ('__reduce__', <function int.__reduce__()>),\n",
       " ('__reduce_ex__', <function int.__reduce_ex__(protocol, /)>),\n",
       " ('__repr__', <method-wrapper '__repr__' of int object at 0x000002095F6EDA50>),\n",
       " ('__rfloordiv__',\n",
       "  <method-wrapper '__rfloordiv__' of int object at 0x000002095F6EDA50>),\n",
       " ('__rlshift__',\n",
       "  <method-wrapper '__rlshift__' of int object at 0x000002095F6EDA50>),\n",
       " ('__rmod__', <method-wrapper '__rmod__' of int object at 0x000002095F6EDA50>),\n",
       " ('__rmul__', <method-wrapper '__rmul__' of int object at 0x000002095F6EDA50>),\n",
       " ('__ror__', <method-wrapper '__ror__' of int object at 0x000002095F6EDA50>),\n",
       " ('__round__', <function int.__round__>),\n",
       " ('__rpow__', <method-wrapper '__rpow__' of int object at 0x000002095F6EDA50>),\n",
       " ('__rrshift__',\n",
       "  <method-wrapper '__rrshift__' of int object at 0x000002095F6EDA50>),\n",
       " ('__rshift__',\n",
       "  <method-wrapper '__rshift__' of int object at 0x000002095F6EDA50>),\n",
       " ('__rsub__', <method-wrapper '__rsub__' of int object at 0x000002095F6EDA50>),\n",
       " ('__rtruediv__',\n",
       "  <method-wrapper '__rtruediv__' of int object at 0x000002095F6EDA50>),\n",
       " ('__rxor__', <method-wrapper '__rxor__' of int object at 0x000002095F6EDA50>),\n",
       " ('__setattr__',\n",
       "  <method-wrapper '__setattr__' of int object at 0x000002095F6EDA50>),\n",
       " ('__sizeof__', <function int.__sizeof__()>),\n",
       " ('__str__', <method-wrapper '__str__' of int object at 0x000002095F6EDA50>),\n",
       " ('__sub__', <method-wrapper '__sub__' of int object at 0x000002095F6EDA50>),\n",
       " ('__subclasshook__', <function int.__subclasshook__>),\n",
       " ('__truediv__',\n",
       "  <method-wrapper '__truediv__' of int object at 0x000002095F6EDA50>),\n",
       " ('__trunc__', <function int.__trunc__>),\n",
       " ('__xor__', <method-wrapper '__xor__' of int object at 0x000002095F6EDA50>),\n",
       " ('as_integer_ratio', <function int.as_integer_ratio()>),\n",
       " ('bit_length', <function int.bit_length()>),\n",
       " ('conjugate', <function int.conjugate>),\n",
       " ('denominator', 1),\n",
       " ('from_bytes', <function int.from_bytes(bytes, byteorder, *, signed=False)>),\n",
       " ('imag', 0),\n",
       " ('numerator', 2056),\n",
       " ('real', 2056),\n",
       " ('to_bytes', <function int.to_bytes(length, byteorder, *, signed=False)>)]"
      ]
     },
     "execution_count": 26,
     "metadata": {},
     "output_type": "execute_result"
    }
   ],
   "source": [
    "inspect.getmembers(myNum)"
   ]
  },
  {
   "cell_type": "code",
   "execution_count": null,
   "metadata": {},
   "outputs": [],
   "source": []
  }
 ],
 "metadata": {
  "kernelspec": {
   "display_name": "Python 3 (ipykernel)",
   "language": "python",
   "name": "python3"
  },
  "language_info": {
   "codemirror_mode": {
    "name": "ipython",
    "version": 3
   },
   "file_extension": ".py",
   "mimetype": "text/x-python",
   "name": "python",
   "nbconvert_exporter": "python",
   "pygments_lexer": "ipython3",
   "version": "3.8.11"
  }
 },
 "nbformat": 4,
 "nbformat_minor": 4
}
