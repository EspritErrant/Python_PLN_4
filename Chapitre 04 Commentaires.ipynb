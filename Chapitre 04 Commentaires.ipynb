{
 "cells": [
  {
   "cell_type": "markdown",
   "metadata": {},
   "source": [
    "# Ajouter des commentaires"
   ]
  },
  {
   "cell_type": "markdown",
   "metadata": {},
   "source": [
    "## Comprendre les commentaires"
   ]
  },
  {
   "cell_type": "code",
   "execution_count": 1,
   "metadata": {},
   "outputs": [
    {
     "name": "stdout",
     "output_type": "stream",
     "text": [
      "Bonjour !\n"
     ]
    }
   ],
   "source": [
    "# Ceci est un commentaire.\n",
    "print(\"Bonjour !\") #Ceci est également un commentaire."
   ]
  },
  {
   "cell_type": "markdown",
   "metadata": {},
   "source": [
    "## Créer des commentaires multilignes"
   ]
  },
  {
   "cell_type": "code",
   "execution_count": 2,
   "metadata": {},
   "outputs": [
    {
     "data": {
      "text/plain": [
       "'\\n    Application : Commentaires.py\\n    Écrit par : John\\n    Objectif : Montre comment utiliser les commentaires.\\n'"
      ]
     },
     "execution_count": 2,
     "metadata": {},
     "output_type": "execute_result"
    }
   ],
   "source": [
    "\"\"\"\n",
    "    Application : Commentaires.py\n",
    "    Écrit par : John\n",
    "    Objectif : Montre comment utiliser les commentaires.\n",
    "\"\"\""
   ]
  },
  {
   "cell_type": "code",
   "execution_count": 3,
   "metadata": {},
   "outputs": [
    {
     "data": {
      "text/plain": [
       "'\\nprint(\"Cette ligne de code ne sera pas exécutée non plus.\")\\n'"
      ]
     },
     "execution_count": 3,
     "metadata": {},
     "output_type": "execute_result"
    }
   ],
   "source": [
    "# print(\"Ce code ne sera jamais exécuté car il est commenté\")\n",
    "\n",
    "'''\n",
    "print(\"Cette ligne de code ne sera pas exécutée non plus.\")\n",
    "'''"
   ]
  },
  {
   "cell_type": "code",
   "execution_count": 4,
   "metadata": {},
   "outputs": [
    {
     "name": "stdout",
     "output_type": "stream",
     "text": [
      "\n",
      "  Ceci est une chaîne sur plusieurs lignes\n",
      "  qui est assignée à maChaine.\n",
      "  \n"
     ]
    }
   ],
   "source": [
    "maChaine = '''\n",
    "  Ceci est une chaîne sur plusieurs lignes\n",
    "  qui est assignée à maChaine.\n",
    "  '''\n",
    "print(maChaine)"
   ]
  },
  {
   "cell_type": "markdown",
   "metadata": {},
   "source": [
    "# Rendre votre notebook informatif et descriptif"
   ]
  },
  {
   "cell_type": "markdown",
   "metadata": {},
   "source": [
    "## Travailler avec des cellules de texte\n",
    "1.   Élément de liste\n",
    "> *   Élément de liste\n",
    ">> *   Autre niveau de liste\n",
    ">> *   Autre niveau de liste\n",
    "> *   Élément de liste\n",
    "2.   Élément de liste"
   ]
  },
  {
   "cell_type": "markdown",
   "metadata": {},
   "source": [
    "## Ajouter des en-têtes de section"
   ]
  },
  {
   "cell_type": "code",
   "execution_count": null,
   "metadata": {},
   "outputs": [],
   "source": []
  }
 ],
 "metadata": {
  "kernelspec": {
   "display_name": "Python 3 (ipykernel)",
   "language": "python",
   "name": "python3"
  },
  "language_info": {
   "codemirror_mode": {
    "name": "ipython",
    "version": 3
   },
   "file_extension": ".py",
   "mimetype": "text/x-python",
   "name": "python",
   "nbconvert_exporter": "python",
   "pygments_lexer": "ipython3",
   "version": "3.8.11"
  }
 },
 "nbformat": 4,
 "nbformat_minor": 2
}
