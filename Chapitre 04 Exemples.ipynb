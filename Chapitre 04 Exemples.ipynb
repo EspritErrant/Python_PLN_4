{
 "cells": [
  {
   "cell_type": "markdown",
   "metadata": {
    "id": "MJxq46tfTXBX"
   },
   "source": [
    "# Créer l'application"
   ]
  },
  {
   "cell_type": "markdown",
   "metadata": {
    "id": "m3dfeLeSbJda"
   },
   "source": [
    "## Développer le code"
   ]
  },
  {
   "cell_type": "code",
   "execution_count": 1,
   "metadata": {
    "colab": {
     "base_uri": "https://localhost:8080/"
    },
    "id": "dCVtQwI5TMmF",
    "outputId": "253b1acb-ea7f-4437-a3ce-33982bc7609f"
   },
   "outputs": [],
   "source": [
    "# Définit une fonction pour encapsuler le code d'une tâche qui accepte\n",
    "# deux informations dans des contenants appelés variables\n",
    "# dont le nom est valeur1 et valeur2.\n",
    "def ajouteQuelquechose(valeur1, valeur2):\n",
    "    \n",
    "    # Additionne les deux valeurs et retourne le résultat\n",
    "    # au programme appelant.\n",
    "    return valeur1 + valeur2\n",
    "\n",
    "# Appelle la fonction ajouteQuelquechose() avec deux nombres \n",
    "# pour les additionner puis utiliser print() pour afficher le résultat.\n",
    "print(ajouteQuelquechose(1, 2))"
   ]
  },
  {
   "cell_type": "markdown",
   "metadata": {
    "id": "6ur5f4Mri6lr"
   },
   "source": [
    "## Interagir avec des champs de formulaires"
   ]
  },
  {
   "cell_type": "code",
   "execution_count": 1,
   "metadata": {
    "colab": {
     "base_uri": "https://localhost:8080/"
    },
    "id": "s-TfQ_hWTVaA",
    "outputId": "0dc31f90-b951-4cde-dbf1-64e036e2cf97"
   },
   "outputs": [
    {
     "name": "stdout",
     "output_type": "stream",
     "text": [
      "Saisissez votre nom : Dom\n",
      "Votre nom est : Dom\n"
     ]
    }
   ],
   "source": [
    "name = input(\"Saisissez votre nom : \")\n",
    "print(f\"Votre nom est : {name}\")"
   ]
  },
  {
   "cell_type": "code",
   "execution_count": 2,
   "metadata": {
    "colab": {
     "base_uri": "https://localhost:8080/"
    },
    "id": "_HnrTFoUvy2J",
    "outputId": "9f05958a-fd26-45ae-be04-2d5126016856"
   },
   "outputs": [
    {
     "name": "stdout",
     "output_type": "stream",
     "text": [
      "Votre nom est : John\n"
     ]
    }
   ],
   "source": [
    "YourName = \"John\" #@param {type:\"string\"}\n",
    "print(f\"Votre nom est : {YourName}\")"
   ]
  },
  {
   "cell_type": "code",
   "execution_count": null,
   "metadata": {},
   "outputs": [],
   "source": []
  }
 ],
 "metadata": {
  "colab": {
   "name": "BPP4D3E; 04; Sample.ipynb",
   "provenance": []
  },
  "kernelspec": {
   "display_name": "Python 3 (ipykernel)",
   "language": "python",
   "name": "python3"
  },
  "language_info": {
   "codemirror_mode": {
    "name": "ipython",
    "version": 3
   },
   "file_extension": ".py",
   "mimetype": "text/x-python",
   "name": "python",
   "nbconvert_exporter": "python",
   "pygments_lexer": "ipython3",
   "version": "3.8.11"
  }
 },
 "nbformat": 4,
 "nbformat_minor": 1
}
