{
 "cells": [
  {
   "cell_type": "markdown",
   "metadata": {},
   "source": [
    "# Python et ses principaux types de données"
   ]
  },
  {
   "cell_type": "markdown",
   "metadata": {},
   "source": [
    "## Placer des informations dans des variables"
   ]
  },
  {
   "cell_type": "code",
   "execution_count": 1,
   "metadata": {},
   "outputs": [
    {
     "name": "stdout",
     "output_type": "stream",
     "text": [
      "5\n"
     ]
    }
   ],
   "source": [
    "myVar = 5\n",
    "print(myVar)"
   ]
  },
  {
   "cell_type": "markdown",
   "metadata": {},
   "source": [
    "## Comprendre les types numériques\n",
    "### Entiers"
   ]
  },
  {
   "cell_type": "code",
   "execution_count": 2,
   "metadata": {},
   "outputs": [
    {
     "name": "stdout",
     "output_type": "stream",
     "text": [
      "100 Binaire :  4\n",
      "100 Octal :  64\n",
      "100 Décimal :  100\n",
      "100 Hexadécimal : 256\n",
      "0b100000000\n",
      "0o400\n",
      "0x100\n"
     ]
    }
   ],
   "source": [
    "Test = 0b100\n",
    "print(\"100 Binaire : \", Test)\n",
    "\n",
    "Test = 0o100\n",
    "print(\"100 Octal : \", Test)\n",
    "\n",
    "Test = 100\n",
    "print (\"100 Décimal : \", Test)\n",
    "\n",
    "Test = 0x100\n",
    "print(\"100 Hexadécimal :\", Test)\n",
    "\n",
    "print(bin(Test))\n",
    "print(oct(Test))\n",
    "print(hex(Test))"
   ]
  },
  {
   "cell_type": "markdown",
   "metadata": {},
   "source": [
    "### Valeurs en virgule flottante"
   ]
  },
  {
   "cell_type": "code",
   "execution_count": 3,
   "metadata": {},
   "outputs": [
    {
     "name": "stdout",
     "output_type": "stream",
     "text": [
      "Affectation directe :  255.0\n",
      "Notation scientifique :  255.0\n",
      "Exposant négatif :  0.0255\n"
     ]
    }
   ],
   "source": [
    "Test = 255.0\n",
    "print(\"Affectation directe : \", Test)\n",
    "\n",
    "Test = 2.55e2\n",
    "print(\"Notation scientifique : \", Test)\n",
    "\n",
    "Test = 2.55e-2\n",
    "print(\"Exposant négatif : \", Test)"
   ]
  },
  {
   "cell_type": "markdown",
   "metadata": {},
   "source": [
    "### Nombres complexes"
   ]
  },
  {
   "cell_type": "code",
   "execution_count": 5,
   "metadata": {},
   "outputs": [
    {
     "name": "stdout",
     "output_type": "stream",
     "text": [
      "Partie réelle :  3.0\n",
      "Partie imaginaire :  4.0\n"
     ]
    }
   ],
   "source": [
    "myComplex = 3 + 4j\n",
    "print(\"Partie réelle : \", myComplex.real)\n",
    "print(\"Partie imaginaire : \", myComplex.imag)"
   ]
  },
  {
   "cell_type": "markdown",
   "metadata": {},
   "source": [
    "### Comprendre les valeurs booléennes"
   ]
  },
  {
   "cell_type": "code",
   "execution_count": 6,
   "metadata": {},
   "outputs": [
    {
     "name": "stdout",
     "output_type": "stream",
     "text": [
      "Est-ce que 1 > 2?  False\n"
     ]
    }
   ],
   "source": [
    "myBool = 1 > 2\n",
    "print(\"Est-ce que 1 > 2? \", myBool)"
   ]
  },
  {
   "cell_type": "markdown",
   "metadata": {},
   "source": [
    "# *Déterminer le type d’une variable*"
   ]
  },
  {
   "cell_type": "code",
   "execution_count": 7,
   "metadata": {},
   "outputs": [
    {
     "name": "stdout",
     "output_type": "stream",
     "text": [
      "<class 'int'>\n"
     ]
    }
   ],
   "source": [
    "myInt = 5\n",
    "print(type(myInt))"
   ]
  },
  {
   "cell_type": "markdown",
   "metadata": {},
   "source": [
    "### Comprendre les chaînes de caractères"
   ]
  },
  {
   "cell_type": "code",
   "execution_count": 7,
   "metadata": {},
   "outputs": [
    {
     "name": "stdout",
     "output_type": "stream",
     "text": [
      "65\n",
      "123\n",
      "<class 'int'>\n"
     ]
    }
   ],
   "source": [
    "print(ord(\"A\"))\n",
    "\n",
    "myInt = int(\"123\")\n",
    "print(myInt)\n",
    "\n",
    "print(type(myInt))"
   ]
  },
  {
   "cell_type": "code",
   "execution_count": 8,
   "metadata": {},
   "outputs": [
    {
     "name": "stdout",
     "output_type": "stream",
     "text": [
      "1234.56\n",
      "<class 'str'>\n"
     ]
    }
   ],
   "source": [
    "myStr = str(1234.56)\n",
    "print(myStr)\n",
    "print(type(myStr))"
   ]
  },
  {
   "cell_type": "markdown",
   "metadata": {},
   "source": [
    "# Travailler avec des dates et des heures"
   ]
  },
  {
   "cell_type": "code",
   "execution_count": 9,
   "metadata": {},
   "outputs": [
    {
     "name": "stdout",
     "output_type": "stream",
     "text": [
      "2023-04-16 17:39:59.764105\n"
     ]
    }
   ],
   "source": [
    "import datetime\n",
    "print(datetime.datetime.now())"
   ]
  },
  {
   "cell_type": "code",
   "execution_count": 10,
   "metadata": {},
   "outputs": [
    {
     "name": "stdout",
     "output_type": "stream",
     "text": [
      "2023-04-16\n"
     ]
    }
   ],
   "source": [
    "print(str(datetime.datetime.now().date()))"
   ]
  },
  {
   "cell_type": "code",
   "execution_count": null,
   "metadata": {
    "collapsed": true
   },
   "outputs": [],
   "source": []
  }
 ],
 "metadata": {
  "kernelspec": {
   "display_name": "Python 3 (ipykernel)",
   "language": "python",
   "name": "python3"
  },
  "language_info": {
   "codemirror_mode": {
    "name": "ipython",
    "version": 3
   },
   "file_extension": ".py",
   "mimetype": "text/x-python",
   "name": "python",
   "nbconvert_exporter": "python",
   "pygments_lexer": "ipython3",
   "version": "3.8.11"
  }
 },
 "nbformat": 4,
 "nbformat_minor": 2
}
