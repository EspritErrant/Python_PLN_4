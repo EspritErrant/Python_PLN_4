{
 "cells": [
  {
   "cell_type": "markdown",
   "metadata": {},
   "source": [
    "# Prendre des décisions simples avec l’instruction if"
   ]
  },
  {
   "cell_type": "markdown",
   "metadata": {},
   "source": [
    "## Comprendre l’instruction if"
   ]
  },
  {
   "cell_type": "code",
   "execution_count": 1,
   "metadata": {},
   "outputs": [
    {
     "name": "stdout",
     "output_type": "stream",
     "text": [
      "TestMe est égal à 6 !\n"
     ]
    }
   ],
   "source": [
    "TestMe = 6\n",
    "if TestMe == 6:\n",
    "   print(\"TestMe est égal à 6 !\")"
   ]
  },
  {
   "cell_type": "markdown",
   "metadata": {},
   "source": [
    "## Utiliser l’instruction if dans une application"
   ]
  },
  {
   "cell_type": "markdown",
   "metadata": {},
   "source": [
    "### Travailler avec les opérateurs relationnels"
   ]
  },
  {
   "cell_type": "code",
   "execution_count": 2,
   "metadata": {},
   "outputs": [
    {
     "name": "stdout",
     "output_type": "stream",
     "text": [
      "TestMe est égal à 6 !\n"
     ]
    }
   ],
   "source": [
    "TestMe = 6\n",
    "if TestMe == 6:\n",
    "   print(\"TestMe est égal à 6 !\")"
   ]
  },
  {
   "cell_type": "markdown",
   "metadata": {},
   "source": [
    "### Effectuer des tâches multiples"
   ]
  },
  {
   "cell_type": "code",
   "execution_count": 3,
   "metadata": {},
   "outputs": [
    {
     "name": "stdout",
     "output_type": "stream",
     "text": [
      "TestMe est égal à 6 !\n",
      "Terminé !\n"
     ]
    }
   ],
   "source": [
    "TestMe = 6\n",
    "if TestMe == 6:\n",
    "   print(\"TestMe est égal à 6 !\")\n",
    "   print(\"Terminé !\")"
   ]
  },
  {
   "cell_type": "markdown",
   "metadata": {},
   "source": [
    "### Effectuer des comparaisons multiples en utilisant des opérateurs logiques"
   ]
  },
  {
   "cell_type": "code",
   "execution_count": 4,
   "metadata": {},
   "outputs": [
    {
     "name": "stdout",
     "output_type": "stream",
     "text": [
      "Tapez un nombre entre 1 et 10: 5\n",
      "Vous avez tapé :  5\n"
     ]
    }
   ],
   "source": [
    "Value = int(input(\"Tapez un nombre entre 1 et 10: \"))\n",
    "if (Value > 0) and (Value <= 10):\n",
    "   print(\"Vous avez tapé : \", Value)"
   ]
  },
  {
   "cell_type": "code",
   "execution_count": 5,
   "metadata": {},
   "outputs": [
    {
     "name": "stdout",
     "output_type": "stream",
     "text": [
      "Tapez un nombre entre 1 et 10: 22\n"
     ]
    }
   ],
   "source": [
    "Value = int(input(\"Tapez un nombre entre 1 et 10: \"))\n",
    "if (Value > 0) and (Value <= 10):\n",
    "   print(\"Vous avez tapé : \", Value)"
   ]
  },
  {
   "cell_type": "code",
   "execution_count": 6,
   "metadata": {},
   "outputs": [
    {
     "name": "stdout",
     "output_type": "stream",
     "text": [
      "Tapez un nombre entre 1 et 10: 5.5\n"
     ]
    },
    {
     "ename": "ValueError",
     "evalue": "invalid literal for int() with base 10: '5.5'",
     "output_type": "error",
     "traceback": [
      "\u001b[1;31m---------------------------------------------------------------------------\u001b[0m",
      "\u001b[1;31mValueError\u001b[0m                                Traceback (most recent call last)",
      "\u001b[1;32m~\\AppData\\Local\\Temp/ipykernel_19376/804805842.py\u001b[0m in \u001b[0;36m<module>\u001b[1;34m\u001b[0m\n\u001b[1;32m----> 1\u001b[1;33m \u001b[0mValue\u001b[0m \u001b[1;33m=\u001b[0m \u001b[0mint\u001b[0m\u001b[1;33m(\u001b[0m\u001b[0minput\u001b[0m\u001b[1;33m(\u001b[0m\u001b[1;34m\"Tapez un nombre entre 1 et 10: \"\u001b[0m\u001b[1;33m)\u001b[0m\u001b[1;33m)\u001b[0m\u001b[1;33m\u001b[0m\u001b[1;33m\u001b[0m\u001b[0m\n\u001b[0m\u001b[0;32m      2\u001b[0m \u001b[1;32mif\u001b[0m \u001b[1;33m(\u001b[0m\u001b[0mValue\u001b[0m \u001b[1;33m>\u001b[0m \u001b[1;36m0\u001b[0m\u001b[1;33m)\u001b[0m \u001b[1;32mand\u001b[0m \u001b[1;33m(\u001b[0m\u001b[0mValue\u001b[0m \u001b[1;33m<=\u001b[0m \u001b[1;36m10\u001b[0m\u001b[1;33m)\u001b[0m\u001b[1;33m:\u001b[0m\u001b[1;33m\u001b[0m\u001b[1;33m\u001b[0m\u001b[0m\n\u001b[0;32m      3\u001b[0m    \u001b[0mprint\u001b[0m\u001b[1;33m(\u001b[0m\u001b[1;34m\"Vous avez tapé : \"\u001b[0m\u001b[1;33m,\u001b[0m \u001b[0mValue\u001b[0m\u001b[1;33m)\u001b[0m\u001b[1;33m\u001b[0m\u001b[1;33m\u001b[0m\u001b[0m\n",
      "\u001b[1;31mValueError\u001b[0m: invalid literal for int() with base 10: '5.5'"
     ]
    }
   ],
   "source": [
    "Value = int(input(\"Tapez un nombre entre 1 et 10: \"))\n",
    "if (Value > 0) and (Value <= 10):\n",
    "   print(\"Vous avez tapé : \", Value)"
   ]
  },
  {
   "cell_type": "code",
   "execution_count": 7,
   "metadata": {},
   "outputs": [
    {
     "name": "stdout",
     "output_type": "stream",
     "text": [
      "Tapez un nombre entre 1 et 10: Hello\n"
     ]
    },
    {
     "ename": "ValueError",
     "evalue": "invalid literal for int() with base 10: 'Hello'",
     "output_type": "error",
     "traceback": [
      "\u001b[1;31m---------------------------------------------------------------------------\u001b[0m",
      "\u001b[1;31mValueError\u001b[0m                                Traceback (most recent call last)",
      "\u001b[1;32m~\\AppData\\Local\\Temp/ipykernel_19376/804805842.py\u001b[0m in \u001b[0;36m<module>\u001b[1;34m\u001b[0m\n\u001b[1;32m----> 1\u001b[1;33m \u001b[0mValue\u001b[0m \u001b[1;33m=\u001b[0m \u001b[0mint\u001b[0m\u001b[1;33m(\u001b[0m\u001b[0minput\u001b[0m\u001b[1;33m(\u001b[0m\u001b[1;34m\"Tapez un nombre entre 1 et 10: \"\u001b[0m\u001b[1;33m)\u001b[0m\u001b[1;33m)\u001b[0m\u001b[1;33m\u001b[0m\u001b[1;33m\u001b[0m\u001b[0m\n\u001b[0m\u001b[0;32m      2\u001b[0m \u001b[1;32mif\u001b[0m \u001b[1;33m(\u001b[0m\u001b[0mValue\u001b[0m \u001b[1;33m>\u001b[0m \u001b[1;36m0\u001b[0m\u001b[1;33m)\u001b[0m \u001b[1;32mand\u001b[0m \u001b[1;33m(\u001b[0m\u001b[0mValue\u001b[0m \u001b[1;33m<=\u001b[0m \u001b[1;36m10\u001b[0m\u001b[1;33m)\u001b[0m\u001b[1;33m:\u001b[0m\u001b[1;33m\u001b[0m\u001b[1;33m\u001b[0m\u001b[0m\n\u001b[0;32m      3\u001b[0m    \u001b[0mprint\u001b[0m\u001b[1;33m(\u001b[0m\u001b[1;34m\"Vous avez tapé : \"\u001b[0m\u001b[1;33m,\u001b[0m \u001b[0mValue\u001b[0m\u001b[1;33m)\u001b[0m\u001b[1;33m\u001b[0m\u001b[1;33m\u001b[0m\u001b[0m\n",
      "\u001b[1;31mValueError\u001b[0m: invalid literal for int() with base 10: 'Hello'"
     ]
    }
   ],
   "source": [
    "Value = int(input(\"Tapez un nombre entre 1 et 10: \"))\n",
    "if (Value > 0) and (Value <= 10):\n",
    "   print(\"Vous avez tapé : \", Value)"
   ]
  },
  {
   "cell_type": "markdown",
   "metadata": {},
   "source": [
    "# Choisir entre plusieurs alternatives avec l’instruction if…else"
   ]
  },
  {
   "cell_type": "markdown",
   "metadata": {},
   "source": [
    "## Utiliser l’instruction if…else dans une application"
   ]
  },
  {
   "cell_type": "code",
   "execution_count": 8,
   "metadata": {},
   "outputs": [
    {
     "name": "stdout",
     "output_type": "stream",
     "text": [
      "Tapez un nombre entre 1 et 10 : 22\n",
      "Vous avez tapé une valeur incorrecte !\n"
     ]
    }
   ],
   "source": [
    "Value = int(input(\"Tapez un nombre entre 1 et 10 : \"))\n",
    "if (Value > 0) and (Value <= 10):\n",
    "   print(\"Vous avez tapé : \", Value)\n",
    "else:\n",
    "   print(\"Vous avez tapé une valeur incorrecte !\")"
   ]
  },
  {
   "cell_type": "markdown",
   "metadata": {
    "collapsed": true
   },
   "source": [
    "## Utiliser l’instruction if…elif dans une application"
   ]
  },
  {
   "cell_type": "code",
   "execution_count": 9,
   "metadata": {},
   "outputs": [
    {
     "name": "stdout",
     "output_type": "stream",
     "text": [
      "1. Rouge\n",
      "2. Orange\n",
      "3. Jaune\n",
      "4. Vert\n",
      "5. Bleu\n",
      "6. Pourpre\n",
      "Choisissez votre couleur favorite : 1\n",
      "Vous avez choisi Rouge !\n"
     ]
    }
   ],
   "source": [
    "print(\"1. Rouge\")\n",
    "print(\"2. Orange\")\n",
    "print(\"3. Jaune\")\n",
    "print(\"4. Vert\")\n",
    "print(\"5. Bleu\")\n",
    "print(\"6. Pourpre\")\n",
    "\n",
    "Choice = int(input(\"Choisissez votre couleur favorite : \"))\n",
    "\n",
    "if (Choice == 1):\n",
    "   print(\"Vous avez choisi Rouge !\")\n",
    "elif (Choice == 2):\n",
    "   print(\"Vous avez choisi Orange !\")\n",
    "elif (Choice == 3):\n",
    "   print(\"Vous avez choisi Jaune !\")\n",
    "elif (Choice == 4):\n",
    "   print(\"Vous avez choisi Vert !\")\n",
    "elif (Choice == 5):\n",
    "   print(\"Vous avez choisi Bleu !\")\n",
    "elif (Choice == 6):\n",
    "   print(\"Vous avez choisi Pourpre !\")\n",
    "else:\n",
    "   print(\"Vous avez fait un choix invalide !\")"
   ]
  },
  {
   "cell_type": "markdown",
   "metadata": {},
   "source": [
    "# Utiliser des décisions imbriquées"
   ]
  },
  {
   "cell_type": "markdown",
   "metadata": {},
   "source": [
    "## Utiliser des instructions if ou if…else multiples"
   ]
  },
  {
   "cell_type": "code",
   "execution_count": 10,
   "metadata": {},
   "outputs": [
    {
     "name": "stdout",
     "output_type": "stream",
     "text": [
      "Tapez un nombre entre 1 et 10 : 5\n",
      "Tapez un nombre entre 1 et 10 : 2\n",
      "Votre nombre secret est :  10\n"
     ]
    }
   ],
   "source": [
    "One = int(input(\"Tapez un nombre entre 1 et 10 : \"))\n",
    "Two = int(input(\"Tapez un nombre entre 1 et 10 : \"))\n",
    "if (One >= 1) and (One <= 10):\n",
    "   if (Two >= 1) and (Two <= 10):\n",
    "      print(\"Votre nombre secret est : \", One * Two)\n",
    "   else:\n",
    "      print(\"La seconde valeur est incorrecte !\")\n",
    "else:\n",
    "   print(\"La première valeur est incorrecte !\")"
   ]
  },
  {
   "cell_type": "markdown",
   "metadata": {},
   "source": [
    "## Combiner d’autres types de décisions"
   ]
  },
  {
   "cell_type": "code",
   "execution_count": 11,
   "metadata": {},
   "outputs": [
    {
     "name": "stdout",
     "output_type": "stream",
     "text": [
      "1. Oeufs\n",
      "2. Crêpes\n",
      "3. Gaufres\n",
      "4. Céréales\n",
      "Que voulez-vous au petit déjeuner ? 1\n",
      "1. Galette au froment\n",
      "2. Beignet\n",
      "3. Galette de seigle\n",
      "4. Crêpe nature\n",
      "Choisissez un type de crêpe : 2\n",
      "Vous avez choisi des œufs avec des beignets.\n"
     ]
    }
   ],
   "source": [
    "print(\"1. Oeufs\")\n",
    "print(\"2. Crêpes\")\n",
    "print(\"3. Gaufres\")\n",
    "print(\"4. Céréales\")\n",
    "MainChoice = int(input(\"Que voulez-vous au petit déjeuner ? \"))\n",
    "\n",
    "if (MainChoice == 2):\n",
    "   Meal = \"Crêpes\"\n",
    "elif (MainChoice == 3):\n",
    "   Meal = \"Gaufres\"\n",
    "\n",
    "if (MainChoice == 1):\n",
    "   print(\"1. Galette au froment\")\n",
    "   print(\"2. Beignet\")\n",
    "   print(\"3. Galette de seigle\")\n",
    "   print(\"4. Crêpe nature\")\n",
    "   Pancake = int(input(\"Choisissez un type de crêpe : \"))\n",
    "\n",
    "   if (Pancake == 1):\n",
    "      print(\"Vous avez choisi des œufs avec une galette au froment.\")\n",
    "   elif (Pancake == 2):\n",
    "      print(\"Vous avez choisi des œufs avec des beignets.\")\n",
    "   elif (Pancake == 3):\n",
    "      print(\"Vous avez choisi des œufs avec une galette de seigle.\")\n",
    "   elif (Pancake == 4):\n",
    "      print(\"Vous avez choisi des œufs avec une crêpe nature.\")\n",
    "   else:\n",
    "      print(\"Nous avons des œufs, mais pas ce type de crêpe.\")\n",
    "      \n",
    "elif (MainChoice == 2) or (MainChoice == 3):\n",
    "   print(\"1. Sirop\")\n",
    "   print(\"2. Confiture de fraises\")\n",
    "   print(\"3. Sucre en poudre\")\n",
    "   Topping = int(input(\"Choisissez une garniture : \"))\n",
    "\n",
    "   if (Topping == 1):\n",
    "      print (\"Vous avez choisi \" + Meal + \" au sirop.\")\n",
    "   elif (Topping == 2):\n",
    "      print (\"Vous avez choisi \" + Meal + \" à la confiture de fraises.\")\n",
    "   elif (Topping == 3):\n",
    "      print (\"Vous avez choisi \" + Meal + \" avec du sucre en poudre.\")\n",
    "   else:\n",
    "      print (\"Nous avons des \" + Meal + \", mais pas cette garniture.\")\n",
    "      \n",
    "elif (MainChoice == 4):\n",
    "   print(\"Vous avez choisi des céréales.\")\n",
    "   \n",
    "else:\n",
    "   print(\"Désolé, nous n’avons pas cela dans notre menu !\")"
   ]
  },
  {
   "cell_type": "code",
   "execution_count": null,
   "metadata": {
    "collapsed": true
   },
   "outputs": [],
   "source": []
  }
 ],
 "metadata": {
  "kernelspec": {
   "display_name": "Python 3 (ipykernel)",
   "language": "python",
   "name": "python3"
  },
  "language_info": {
   "codemirror_mode": {
    "name": "ipython",
    "version": 3
   },
   "file_extension": ".py",
   "mimetype": "text/x-python",
   "name": "python",
   "nbconvert_exporter": "python",
   "pygments_lexer": "ipython3",
   "version": "3.8.11"
  }
 },
 "nbformat": 4,
 "nbformat_minor": 2
}
