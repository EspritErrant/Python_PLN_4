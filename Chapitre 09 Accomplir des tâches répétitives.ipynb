{
 "cells": [
  {
   "cell_type": "markdown",
   "metadata": {},
   "source": [
    "# Traiter des données en utilisant l’instruction for"
   ]
  },
  {
   "cell_type": "markdown",
   "metadata": {},
   "source": [
    "## Créer une boucle for simple"
   ]
  },
  {
   "cell_type": "code",
   "execution_count": 1,
   "metadata": {},
   "outputs": [
    {
     "name": "stdout",
     "output_type": "stream",
     "text": [
      "La lettre  1  est  B\n",
      "La lettre  2  est  o\n",
      "La lettre  3  est  n\n",
      "La lettre  4  est  j\n",
      "La lettre  5  est  o\n",
      "La lettre  6  est  u\n",
      "La lettre  7  est  r\n",
      "La lettre  8  est   \n",
      "La lettre  9  est  !\n"
     ]
    }
   ],
   "source": [
    "LetterNum = 1\n",
    "for Letter in \"Bonjour !\":\n",
    "   print(\"La lettre \", LetterNum, \" est \", Letter)\n",
    "   LetterNum+=1"
   ]
  },
  {
   "cell_type": "markdown",
   "metadata": {},
   "source": [
    "## Contrôler l’exécution avec l’instruction break"
   ]
  },
  {
   "cell_type": "code",
   "execution_count": 2,
   "metadata": {},
   "outputs": [
    {
     "name": "stdout",
     "output_type": "stream",
     "text": [
      "Tapez un mot d’au plus 8 caractères : Bonjour\n",
      "La lettre  1  est  B\n",
      "La lettre  2  est  o\n",
      "La lettre  3  est  n\n",
      "La lettre  4  est  j\n",
      "La lettre  5  est  o\n",
      "La lettre  6  est  u\n",
      "La lettre  7  est  r\n"
     ]
    }
   ],
   "source": [
    "Value = input(\"Tapez un mot d’au plus 8 caractères : \")\n",
    "LetterNum = 1\n",
    "\n",
    "for Letter in Value:\n",
    "   print(\"La lettre \", LetterNum, \" est \", Letter)\n",
    "   LetterNum+=1\n",
    "   if LetterNum > 8:\n",
    "      print(\"La chaîne est trop longue !\")\n",
    "      break"
   ]
  },
  {
   "cell_type": "markdown",
   "metadata": {},
   "source": [
    "## Contrôler l’exécution avec l’instruction continue"
   ]
  },
  {
   "cell_type": "code",
   "execution_count": 3,
   "metadata": {},
   "outputs": [
    {
     "name": "stdout",
     "output_type": "stream",
     "text": [
      "La lettre  1  est  B\n",
      "La lettre  2  est  o\n",
      "La lettre  3  est  n\n",
      "La lettre  4  est  o\n",
      "La lettre  5  est  u\n",
      "La lettre  6  est  r\n",
      "La lettre  7  est   \n",
      "La lettre  8  est  !\n"
     ]
    }
   ],
   "source": [
    "LetterNum = 1\n",
    "for Letter in \"Bonjour !\":\n",
    "   if Letter == \"j\":\n",
    "      continue\n",
    "      print(\"La lettre j rencontrée, traitement interrompu.\")\n",
    "   print(\"La lettre \", LetterNum, \" est \", Letter)\n",
    "   LetterNum+=1"
   ]
  },
  {
   "cell_type": "markdown",
   "metadata": {},
   "source": [
    "## Ne rien faire avec l’instruction pass"
   ]
  },
  {
   "cell_type": "code",
   "execution_count": 4,
   "metadata": {},
   "outputs": [
    {
     "name": "stdout",
     "output_type": "stream",
     "text": [
      "La lettre  1  est  B\n",
      "La lettre  2  est  o\n",
      "La lettre  3  est  n\n",
      "La lettre j rencontrée, non traitée.\n",
      "La lettre  4  est  j\n",
      "La lettre  5  est  o\n",
      "La lettre  6  est  u\n",
      "La lettre  7  est  r\n",
      "La lettre  8  est   \n",
      "La lettre  9  est  !\n"
     ]
    }
   ],
   "source": [
    "LetterNum = 1\n",
    "for Letter in \"Bonjour !\":\n",
    "   if Letter == \"j\":\n",
    "      pass # Ajouter du code plus tard ici pour traiter j\n",
    "      print(\"La lettre j rencontrée, non traitée.\")\n",
    "   print(\"La lettre \", LetterNum, \" est \", Letter)\n",
    "   LetterNum+=1"
   ]
  },
  {
   "cell_type": "markdown",
   "metadata": {},
   "source": [
    "## Valider la saisie avec la clause else"
   ]
  },
  {
   "cell_type": "code",
   "execution_count": 5,
   "metadata": {},
   "outputs": [
    {
     "name": "stdout",
     "output_type": "stream",
     "text": [
      "Tapez moins de 8 caractères : Bonjour\n",
      "La lettre  1  est  B\n",
      "La lettre  2  est  o\n",
      "La lettre  3  est  n\n",
      "La lettre  4  est  j\n",
      "La lettre  5  est  o\n",
      "La lettre  6  est  u\n",
      "La lettre  7  est  r\n"
     ]
    }
   ],
   "source": [
    "Value = input(\"Tapez moins de 8 caractères : \")\n",
    "LetterNum = 1\n",
    "\n",
    "for Letter in Value:\n",
    "   print (\"La lettre \", LetterNum, \" est \", Letter)\n",
    "   LetterNum+=1\n",
    "   if (Letter == \"\" or Letter == Value[-1]):\n",
    "      break\n",
    "else:\n",
    "   print(\"La chaîne est vide.\")"
   ]
  },
  {
   "cell_type": "markdown",
   "metadata": {},
   "source": [
    "# Traiter des données avec l’instruction while"
   ]
  },
  {
   "cell_type": "markdown",
   "metadata": {},
   "source": [
    "## Utiliser l’instruction while dans une application"
   ]
  },
  {
   "cell_type": "code",
   "execution_count": 6,
   "metadata": {},
   "outputs": [
    {
     "name": "stdout",
     "output_type": "stream",
     "text": [
      "0\n",
      "1\n",
      "2\n",
      "3\n",
      "4\n"
     ]
    }
   ],
   "source": [
    "Sum = 0\n",
    "while Sum < 5:\n",
    "   print(Sum)\n",
    "   Sum+=1"
   ]
  },
  {
   "cell_type": "markdown",
   "metadata": {},
   "source": [
    "## Imbriquer des boucles"
   ]
  },
  {
   "cell_type": "code",
   "execution_count": 7,
   "metadata": {},
   "outputs": [
    {
     "name": "stdout",
     "output_type": "stream",
     "text": [
      "        1    2    3    4    5    6    7    8    9   10 \n",
      "   1    1    2    3    4    5    6    7    8    9   10 \n",
      "   2    2    4    6    8   10   12   14   16   18   20 \n",
      "   3    3    6    9   12   15   18   21   24   27   30 \n",
      "   4    4    8   12   16   20   24   28   32   36   40 \n",
      "   5    5   10   15   20   25   30   35   40   45   50 \n",
      "   6    6   12   18   24   30   36   42   48   54   60 \n",
      "   7    7   14   21   28   35   42   49   56   63   70 \n",
      "   8    8   16   24   32   40   48   56   64   72   80 \n",
      "   9    9   18   27   36   45   54   63   72   81   90 \n",
      "  10   10   20   30   40   50   60   70   80   90  100 \n"
     ]
    }
   ],
   "source": [
    "X = 1\n",
    "Y = 1\n",
    "print ('{:>4}'.format(' '), end= ' ')\n",
    "for X in range(1, 11):\n",
    "   print('{:>4}'.format(X), end=' ')\n",
    "print()\n",
    "for X in range(1,11):\n",
    "   print('{:>4}'.format(X), end=' ')\n",
    "   while Y <= 10:\n",
    "      print('{:>4}'.format(X * Y), end=' ')\n",
    "      Y+=1\n",
    "   print()\n",
    "   Y=1"
   ]
  },
  {
   "cell_type": "code",
   "execution_count": null,
   "metadata": {},
   "outputs": [],
   "source": []
  }
 ],
 "metadata": {
  "kernelspec": {
   "display_name": "Python 3 (ipykernel)",
   "language": "python",
   "name": "python3"
  },
  "language_info": {
   "codemirror_mode": {
    "name": "ipython",
    "version": 3
   },
   "file_extension": ".py",
   "mimetype": "text/x-python",
   "name": "python",
   "nbconvert_exporter": "python",
   "pygments_lexer": "ipython3",
   "version": "3.8.11"
  }
 },
 "nbformat": 4,
 "nbformat_minor": 2
}
