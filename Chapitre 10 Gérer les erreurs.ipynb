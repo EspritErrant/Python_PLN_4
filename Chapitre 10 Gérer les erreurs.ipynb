{
 "cells": [
  {
   "cell_type": "markdown",
   "metadata": {},
   "source": [
    "# Intercepter les exceptions"
   ]
  },
  {
   "cell_type": "markdown",
   "metadata": {},
   "source": [
    "## Gérer les exceptions de base"
   ]
  },
  {
   "cell_type": "markdown",
   "metadata": {},
   "source": [
    "### Gérer une unique exception"
   ]
  },
  {
   "cell_type": "code",
   "execution_count": 1,
   "metadata": {},
   "outputs": [
    {
     "name": "stdout",
     "output_type": "stream",
     "text": [
      "Tapez un nombre entre 1 et 10 : 7\n",
      "Vous avez tapé :  7\n"
     ]
    }
   ],
   "source": [
    "try:\n",
    "   Value = int(input(\"Tapez un nombre entre 1 et 10 : \"))\n",
    "except ValueError:\n",
    "   print(\"Vous devez taper un nombre entre 1 et 10 !\")\n",
    "else:\n",
    "   if (Value > 0) and (Value <= 10):\n",
    "      print(\"Vous avez tapé : \", Value)\n",
    "   else:\n",
    "      print(\"La valeur que vous avez tapée est incorrecte !\")"
   ]
  },
  {
   "cell_type": "markdown",
   "metadata": {},
   "source": [
    "### Utiliser la clause except sans exception"
   ]
  },
  {
   "cell_type": "code",
   "execution_count": 2,
   "metadata": {},
   "outputs": [
    {
     "ename": "SyntaxError",
     "evalue": "default 'except:' must be last (Temp/ipykernel_13580/3986212978.py, line 2)",
     "output_type": "error",
     "traceback": [
      "\u001b[1;36m  File \u001b[1;32m\"C:\\Users\\Dom\\AppData\\Local\\Temp/ipykernel_13580/3986212978.py\"\u001b[1;36m, line \u001b[1;32m2\u001b[0m\n\u001b[1;33m    Value = int(input(\"Tapez un nombre entre 1 et 10 : \"))\u001b[0m\n\u001b[1;37m    ^\u001b[0m\n\u001b[1;31mSyntaxError\u001b[0m\u001b[1;31m:\u001b[0m default 'except:' must be last\n"
     ]
    }
   ],
   "source": [
    "try:\n",
    "   Value = int(input(\"Tapez un nombre entre 1 et 10 : \"))\n",
    "except:\n",
    "   print(\"Erreur générique!\")\n",
    "except ValueError:\n",
    "   print(\"Vous devez taper un nombre entre 1 et 10 !\")\n",
    "else:\n",
    "\n",
    "   if (Value > 0) and (Value <= 10):\n",
    "      print(\"Vous avez tapé : \", Value)\n",
    "   else:\n",
    "      print(\"La valeur que vous avez tapée est incorrecte !\")"
   ]
  },
  {
   "cell_type": "code",
   "execution_count": 3,
   "metadata": {},
   "outputs": [
    {
     "name": "stdout",
     "output_type": "stream",
     "text": [
      "Tapez un nombre entre 1 et 10 : 5.5\n",
      "Vous devez taper un nombre entre 1 et 10 !\n"
     ]
    }
   ],
   "source": [
    "try:\n",
    "   Value = int(input(\"Tapez un nombre entre 1 et 10 : \"))\n",
    "except ValueError:\n",
    "   print(\"Vous devez taper un nombre entre 1 et 10 !\")\n",
    "except:\n",
    "   print(\"Erreur générique!\")\n",
    "else:\n",
    "   if (Value > 0) and (Value <= 10):\n",
    "      print(\"Vous avez tapé : \", Value)\n",
    "   else:\n",
    "      print(\"La valeur que vous avez tapée est incorrecte !\")"
   ]
  },
  {
   "cell_type": "markdown",
   "metadata": {},
   "source": [
    "### Exceptions et arguments"
   ]
  },
  {
   "cell_type": "code",
   "execution_count": 4,
   "metadata": {},
   "outputs": [
    {
     "name": "stdout",
     "output_type": "stream",
     "text": [
      "Erreur lors de l’ouverture du fichier ! \r\n",
      "Numéro de l’erreur : 2\r\n",
      "Texte de l’erreur : No such file or directory\n"
     ]
    }
   ],
   "source": [
    "import sys\n",
    "try:\n",
    "   File = open(\"myfile.txt\")\n",
    "except IOError as e:\n",
    "   print(\"Erreur lors de l’ouverture du fichier ! \\r\\n\" +\n",
    "      \"Numéro de l’erreur : {0}\\r\\n\".format(e.errno) +\n",
    "      \"Texte de l’erreur : {0}\".format(e.strerror))\n",
    "else:\n",
    "   print(\"Le fichier a bien été ouvert.\")\n",
    "   File.close()"
   ]
  },
  {
   "cell_type": "markdown",
   "metadata": {},
   "source": [
    "# **_Encadré :_** Obtenir la liste des arguments d’une exception"
   ]
  },
  {
   "cell_type": "code",
   "execution_count": 5,
   "metadata": {},
   "outputs": [
    {
     "name": "stdout",
     "output_type": "stream",
     "text": [
      "2\n",
      "No such file or directory\n"
     ]
    }
   ],
   "source": [
    "import sys\n",
    "try:\n",
    "   File = open(\"myfile.txt\")\n",
    "except IOError as e:\n",
    "   for Arg in e.args:\n",
    "      print(Arg)\n",
    "else:\n",
    "   print(\"Le fichier a bien été ouvert.\")\n",
    "   File.close()"
   ]
  },
  {
   "cell_type": "code",
   "execution_count": 6,
   "metadata": {},
   "outputs": [
    {
     "name": "stdout",
     "output_type": "stream",
     "text": [
      "args  =  (2, 'No such file or directory')\n",
      "Attribut  characters_written  non accessible.\n",
      "errno  =  2\n",
      "filename  =  myfile.txt\n",
      "filename2  =  None\n",
      "strerror  =  No such file or directory\n",
      "winerror  =  None\n",
      "with_traceback  =  <built-in method with_traceback of FileNotFoundError object at 0x00000214987541C0>\n"
     ]
    }
   ],
   "source": [
    "import sys\n",
    "try:\n",
    "   File = open(\"myfile.txt\")\n",
    "except IOError as e:\n",
    "   for Entry in dir(e):\n",
    "      if (not Entry.startswith(\"_\")):\n",
    "         try:\n",
    "            print(Entry, \" = \", e.__getattribute__(Entry))\n",
    "         except AttributeError:\n",
    "            print(\"Attribut \", Entry, \" non accessible.\")\n",
    "else:\n",
    "   print(\"Le fichier a bien été ouvert.\")\n",
    "   File.close()"
   ]
  },
  {
   "cell_type": "markdown",
   "metadata": {},
   "source": [
    "### Gérer de multiples exceptions avec une seule clause except"
   ]
  },
  {
   "cell_type": "code",
   "execution_count": 7,
   "metadata": {},
   "outputs": [
    {
     "name": "stdout",
     "output_type": "stream",
     "text": [
      "Tapez un nom entre 1 et 10 : 7\n",
      "Vous avez tapé :  7\n"
     ]
    }
   ],
   "source": [
    "try:\n",
    "   Value = int(input(\"Tapez un nom entre 1 et 10 : \"))\n",
    "except (ValueError, KeyboardInterrupt):\n",
    "   print(\"Vous devez taper un nombre entre 1 et 10 !\")\n",
    "else:\n",
    "   if (Value > 0) and (Value <= 10):\n",
    "      print(\"Vous avez tapé : \", Value)\n",
    "   else:\n",
    "      print(\"La valeur que vous avez tapée est incorrecte !\")"
   ]
  },
  {
   "cell_type": "markdown",
   "metadata": {},
   "source": [
    "### Gérer des exceptions multiples avec plusieurs clauses except"
   ]
  },
  {
   "cell_type": "code",
   "execution_count": 8,
   "metadata": {},
   "outputs": [
    {
     "name": "stdout",
     "output_type": "stream",
     "text": [
      "Tapez un nombre entre 1 et 10 : 7\n",
      "Vous avez tapé :  7\n"
     ]
    }
   ],
   "source": [
    "try:\n",
    "   Value = int(input(\"Tapez un nombre entre 1 et 10 : \"))\n",
    "except ValueError:\n",
    "   print(\"Vous devez taper un nombre entre 1 et 10 !\")\n",
    "except KeyboardInterrupt:\n",
    "   print(\"Vous avez appuyé sur Ctrl + C!\")\n",
    "else:\n",
    "   if (Value > 0) and (Value <= 10):\n",
    "      print(\"Vous avez tapé : \", Value)\n",
    "   else:\n",
    "      print(\"La valeur que vous avez tapée est incorrecte !\")"
   ]
  },
  {
   "cell_type": "markdown",
   "metadata": {},
   "source": [
    "## Gérer des exceptions en allant du plus spécifique au moins spécifique"
   ]
  },
  {
   "cell_type": "code",
   "execution_count": 9,
   "metadata": {},
   "outputs": [
    {
     "name": "stdout",
     "output_type": "stream",
     "text": [
      "Tapez le premier nombre : 8\n",
      "Tapez le second nombre : 0\n",
      "Une erreur de math non définie s’est produite.\n"
     ]
    }
   ],
   "source": [
    "try:\n",
    "   Value1 = int(input(\"Tapez le premier nombre : \"))\n",
    "   Value2 = int(input(\"Tapez le second nombre : \"))\n",
    "   Output = Value1 / Value2\n",
    "except ValueError:\n",
    "   print(\"Vous devez taper un nombre entier !\")\n",
    "except KeyboardInterrupt:\n",
    "   print(\"Vous avez appuyé sur Ctrl+C !\")\n",
    "except ArithmeticError:\n",
    "   print(\"Une erreur de math non définie s’est produite.\")\n",
    "except ZeroDivisionError:\n",
    "   print(\"Tentative de division par zéro !\")\n",
    "else:\n",
    "   print(Output)"
   ]
  },
  {
   "cell_type": "code",
   "execution_count": 10,
   "metadata": {},
   "outputs": [
    {
     "name": "stdout",
     "output_type": "stream",
     "text": [
      "Tapez le premier nombre : 8\n",
      "Tapez le second nombre : 2\n",
      "4.0\n"
     ]
    }
   ],
   "source": [
    "try:\n",
    "   Value1 = int(input(\"Tapez le premier nombre : \"))\n",
    "   Value2 = int(input(\"Tapez le second nombre : \"))\n",
    "   Output = Value1 / Value2\n",
    "except ValueError:\n",
    "   print(\"Vous devez taper un nombre entier !\")\n",
    "except KeyboardInterrupt:\n",
    "   print(\"Vous avez appuyé sur Ctrl+C !\")\n",
    "except ArithmeticError:\n",
    "   print(\"Une erreur de math non définie s’est produite.\")\n",
    "except ZeroDivisionError:\n",
    "   print(\"Tentative de division par zéro !\")\n",
    "else:\n",
    "   print(Output)"
   ]
  },
  {
   "cell_type": "markdown",
   "metadata": {},
   "source": [
    "## Imbriquer des exceptions"
   ]
  },
  {
   "cell_type": "code",
   "execution_count": 11,
   "metadata": {},
   "outputs": [
    {
     "name": "stdout",
     "output_type": "stream",
     "text": [
      "Tapez un nombre entier : 5.5\n",
      "Vous devez taper un nombre entier !\n",
      "Essayer à nouveau (o/n) ? n\n"
     ]
    }
   ],
   "source": [
    "TryAgain = True\n",
    "while TryAgain:\n",
    "   try:\n",
    "      Value = int(input(\"Tapez un nombre entier : \"))\n",
    "   except ValueError:\n",
    "      print(\"Vous devez taper un nombre entier !\")\n",
    "      try:\n",
    "         DoOver = input(\"Essayer à nouveau (o/n) ? \")\n",
    "      except:\n",
    "         print(\"OK, à la prochaine fois !\")\n",
    "         TryAgain = False\n",
    "      else:\n",
    "         if (str.upper(DoOver) == \"N\"):\n",
    "            TryAgain = False\n",
    "   except KeyboardInterrupt:\n",
    "      print(\"Vous avez appuyé sur Ctrl+C !\")\n",
    "      print(\"À la prochaine fois !\")\n",
    "      TryAgain = False\n",
    "   else:\n",
    "      print(Value)\n",
    "      TryAgain = False"
   ]
  },
  {
   "cell_type": "markdown",
   "metadata": {},
   "source": [
    "# Lever des exceptions"
   ]
  },
  {
   "cell_type": "markdown",
   "metadata": {},
   "source": [
    "## Lever des exceptions lors de conditions exceptionnelles"
   ]
  },
  {
   "cell_type": "code",
   "execution_count": 12,
   "metadata": {},
   "outputs": [
    {
     "name": "stdout",
     "output_type": "stream",
     "text": [
      "ValueError Exception!\n"
     ]
    }
   ],
   "source": [
    "try:\n",
    "   raise ValueError\n",
    "except ValueError:\n",
    "   print(\"ValueError Exception!\")"
   ]
  },
  {
   "cell_type": "markdown",
   "metadata": {},
   "source": [
    "## Passer à l’appelant des informations sur une erreur"
   ]
  },
  {
   "cell_type": "code",
   "execution_count": 13,
   "metadata": {},
   "outputs": [
    {
     "name": "stdout",
     "output_type": "stream",
     "text": [
      "Exception ValueError ! La valeur doit être comprise entre 1 et 10.\n"
     ]
    }
   ],
   "source": [
    "try:\n",
    "   Ex = ValueError()\n",
    "   Ex.strerror = \"La valeur doit être comprise entre 1 et 10.\"\n",
    "   raise Ex\n",
    "except ValueError as e:\n",
    "   print(\"Exception ValueError !\", e.strerror)"
   ]
  },
  {
   "cell_type": "markdown",
   "metadata": {},
   "source": [
    "# Créer et utiliser des exceptions personnalisées"
   ]
  },
  {
   "cell_type": "code",
   "execution_count": 14,
   "metadata": {},
   "outputs": [
    {
     "name": "stdout",
     "output_type": "stream",
     "text": [
      "Exception CustomValueError ! La valeur doit être comprise entre 1 et 10.\n"
     ]
    }
   ],
   "source": [
    "class CustomValueError(ValueError):\n",
    "   def __init__(self, arg):\n",
    "      self.strerror = arg\n",
    "      self.args = {arg}\n",
    "try:\n",
    "   raise CustomValueError(\"La valeur doit être comprise entre 1 et 10.\")\n",
    "except CustomValueError as e:\n",
    "   print(\"Exception CustomValueError !\", e.strerror)"
   ]
  },
  {
   "cell_type": "markdown",
   "metadata": {},
   "source": [
    "# Utiliser la clause finally"
   ]
  },
  {
   "cell_type": "code",
   "execution_count": 15,
   "metadata": {},
   "outputs": [
    {
     "name": "stderr",
     "output_type": "stream",
     "text": [
      "ERROR:root:Internal Python error in the inspect module.\n",
      "Below is the traceback from this internal error.\n",
      "\n"
     ]
    },
    {
     "name": "stdout",
     "output_type": "stream",
     "text": [
      "Exception ValueError !\n",
      "Prenez soin des détails de dernière minute.\n",
      "Traceback (most recent call last):\n",
      "  File \"C:\\Users\\Dom\\AppData\\Local\\Temp/ipykernel_13580/1878487527.py\", line 3, in <module>\n",
      "    raise ValueError\n",
      "ValueError\n",
      "\n",
      "During handling of the above exception, another exception occurred:\n",
      "\n",
      "Traceback (most recent call last):\n",
      "  File \"C:\\ProgramData\\Anaconda3\\envs\\xl38\\lib\\site-packages\\IPython\\core\\interactiveshell.py\", line 3441, in run_code\n",
      "    exec(code_obj, self.user_global_ns, self.user_ns)\n",
      "  File \"C:\\Users\\Dom\\AppData\\Local\\Temp/ipykernel_13580/1878487527.py\", line 7, in <module>\n",
      "    sys.exit()\n",
      "SystemExit\n",
      "\n",
      "During handling of the above exception, another exception occurred:\n",
      "\n",
      "Traceback (most recent call last):\n",
      "  File \"C:\\ProgramData\\Anaconda3\\envs\\xl38\\lib\\site-packages\\IPython\\core\\ultratb.py\", line 1101, in get_records\n",
      "    return _fixed_getinnerframes(etb, number_of_lines_of_context, tb_offset)\n",
      "  File \"C:\\ProgramData\\Anaconda3\\envs\\xl38\\lib\\site-packages\\IPython\\core\\ultratb.py\", line 248, in wrapped\n",
      "    return f(*args, **kwargs)\n",
      "  File \"C:\\ProgramData\\Anaconda3\\envs\\xl38\\lib\\site-packages\\IPython\\core\\ultratb.py\", line 281, in _fixed_getinnerframes\n",
      "    records = fix_frame_records_filenames(inspect.getinnerframes(etb, context))\n",
      "  File \"C:\\ProgramData\\Anaconda3\\envs\\xl38\\lib\\inspect.py\", line 1515, in getinnerframes\n",
      "    frameinfo = (tb.tb_frame,) + getframeinfo(tb, context)\n",
      "AttributeError: 'tuple' object has no attribute 'tb_frame'\n"
     ]
    },
    {
     "ename": "TypeError",
     "evalue": "object of type 'NoneType' has no len()",
     "output_type": "error",
     "traceback": [
      "\u001b[1;31m---------------------------------------------------------------------------\u001b[0m",
      "\u001b[1;31mValueError\u001b[0m                                Traceback (most recent call last)",
      "\u001b[1;32m~\\AppData\\Local\\Temp/ipykernel_13580/1878487527.py\u001b[0m in \u001b[0;36m<module>\u001b[1;34m\u001b[0m\n\u001b[0;32m      2\u001b[0m \u001b[1;32mtry\u001b[0m\u001b[1;33m:\u001b[0m\u001b[1;33m\u001b[0m\u001b[1;33m\u001b[0m\u001b[0m\n\u001b[1;32m----> 3\u001b[1;33m    \u001b[1;32mraise\u001b[0m \u001b[0mValueError\u001b[0m\u001b[1;33m\u001b[0m\u001b[1;33m\u001b[0m\u001b[0m\n\u001b[0m\u001b[0;32m      4\u001b[0m    \u001b[0mprint\u001b[0m\u001b[1;33m(\u001b[0m\u001b[1;34m\"Exception levée.\"\u001b[0m\u001b[1;33m)\u001b[0m\u001b[1;33m\u001b[0m\u001b[1;33m\u001b[0m\u001b[0m\n",
      "\u001b[1;31mValueError\u001b[0m: ",
      "\nDuring handling of the above exception, another exception occurred:\n",
      "\u001b[1;31mSystemExit\u001b[0m                                Traceback (most recent call last)",
      "    \u001b[1;31m[... skipping hidden 1 frame]\u001b[0m\n",
      "\u001b[1;32m~\\AppData\\Local\\Temp/ipykernel_13580/1878487527.py\u001b[0m in \u001b[0;36m<module>\u001b[1;34m\u001b[0m\n\u001b[0;32m      6\u001b[0m    \u001b[0mprint\u001b[0m\u001b[1;33m(\u001b[0m\u001b[1;34m\"Exception ValueError !\"\u001b[0m\u001b[1;33m)\u001b[0m\u001b[1;33m\u001b[0m\u001b[1;33m\u001b[0m\u001b[0m\n\u001b[1;32m----> 7\u001b[1;33m    \u001b[0msys\u001b[0m\u001b[1;33m.\u001b[0m\u001b[0mexit\u001b[0m\u001b[1;33m(\u001b[0m\u001b[1;33m)\u001b[0m\u001b[1;33m\u001b[0m\u001b[1;33m\u001b[0m\u001b[0m\n\u001b[0m\u001b[0;32m      8\u001b[0m \u001b[1;32mfinally\u001b[0m\u001b[1;33m:\u001b[0m\u001b[1;33m\u001b[0m\u001b[1;33m\u001b[0m\u001b[0m\n",
      "\u001b[1;31mSystemExit\u001b[0m: ",
      "\nDuring handling of the above exception, another exception occurred:\n",
      "\u001b[1;31mTypeError\u001b[0m                                 Traceback (most recent call last)",
      "    \u001b[1;31m[... skipping hidden 1 frame]\u001b[0m\n",
      "\u001b[1;32mC:\\ProgramData\\Anaconda3\\envs\\xl38\\lib\\site-packages\\IPython\\core\\interactiveshell.py\u001b[0m in \u001b[0;36mshowtraceback\u001b[1;34m(self, exc_tuple, filename, tb_offset, exception_only, running_compiled_code)\u001b[0m\n\u001b[0;32m   2052\u001b[0m                     stb = ['An exception has occurred, use %tb to see '\n\u001b[0;32m   2053\u001b[0m                            'the full traceback.\\n']\n\u001b[1;32m-> 2054\u001b[1;33m                     stb.extend(self.InteractiveTB.get_exception_only(etype,\n\u001b[0m\u001b[0;32m   2055\u001b[0m                                                                      value))\n\u001b[0;32m   2056\u001b[0m                 \u001b[1;32melse\u001b[0m\u001b[1;33m:\u001b[0m\u001b[1;33m\u001b[0m\u001b[1;33m\u001b[0m\u001b[0m\n",
      "\u001b[1;32mC:\\ProgramData\\Anaconda3\\envs\\xl38\\lib\\site-packages\\IPython\\core\\ultratb.py\u001b[0m in \u001b[0;36mget_exception_only\u001b[1;34m(self, etype, value)\u001b[0m\n\u001b[0;32m    752\u001b[0m         \u001b[0mvalue\u001b[0m \u001b[1;33m:\u001b[0m \u001b[0mexception\u001b[0m \u001b[0mvalue\u001b[0m\u001b[1;33m\u001b[0m\u001b[1;33m\u001b[0m\u001b[0m\n\u001b[0;32m    753\u001b[0m         \"\"\"\n\u001b[1;32m--> 754\u001b[1;33m         \u001b[1;32mreturn\u001b[0m \u001b[0mListTB\u001b[0m\u001b[1;33m.\u001b[0m\u001b[0mstructured_traceback\u001b[0m\u001b[1;33m(\u001b[0m\u001b[0mself\u001b[0m\u001b[1;33m,\u001b[0m \u001b[0metype\u001b[0m\u001b[1;33m,\u001b[0m \u001b[0mvalue\u001b[0m\u001b[1;33m)\u001b[0m\u001b[1;33m\u001b[0m\u001b[1;33m\u001b[0m\u001b[0m\n\u001b[0m\u001b[0;32m    755\u001b[0m \u001b[1;33m\u001b[0m\u001b[0m\n\u001b[0;32m    756\u001b[0m     \u001b[1;32mdef\u001b[0m \u001b[0mshow_exception_only\u001b[0m\u001b[1;33m(\u001b[0m\u001b[0mself\u001b[0m\u001b[1;33m,\u001b[0m \u001b[0metype\u001b[0m\u001b[1;33m,\u001b[0m \u001b[0mevalue\u001b[0m\u001b[1;33m)\u001b[0m\u001b[1;33m:\u001b[0m\u001b[1;33m\u001b[0m\u001b[1;33m\u001b[0m\u001b[0m\n",
      "\u001b[1;32mC:\\ProgramData\\Anaconda3\\envs\\xl38\\lib\\site-packages\\IPython\\core\\ultratb.py\u001b[0m in \u001b[0;36mstructured_traceback\u001b[1;34m(self, etype, evalue, etb, tb_offset, context)\u001b[0m\n\u001b[0;32m    627\u001b[0m             \u001b[0mchained_exceptions_tb_offset\u001b[0m \u001b[1;33m=\u001b[0m \u001b[1;36m0\u001b[0m\u001b[1;33m\u001b[0m\u001b[1;33m\u001b[0m\u001b[0m\n\u001b[0;32m    628\u001b[0m             out_list = (\n\u001b[1;32m--> 629\u001b[1;33m                 self.structured_traceback(\n\u001b[0m\u001b[0;32m    630\u001b[0m                     \u001b[0metype\u001b[0m\u001b[1;33m,\u001b[0m \u001b[0mevalue\u001b[0m\u001b[1;33m,\u001b[0m \u001b[1;33m(\u001b[0m\u001b[0metb\u001b[0m\u001b[1;33m,\u001b[0m \u001b[0mchained_exc_ids\u001b[0m\u001b[1;33m)\u001b[0m\u001b[1;33m,\u001b[0m\u001b[1;33m\u001b[0m\u001b[1;33m\u001b[0m\u001b[0m\n\u001b[0;32m    631\u001b[0m                     chained_exceptions_tb_offset, context)\n",
      "\u001b[1;32mC:\\ProgramData\\Anaconda3\\envs\\xl38\\lib\\site-packages\\IPython\\core\\ultratb.py\u001b[0m in \u001b[0;36mstructured_traceback\u001b[1;34m(self, etype, value, tb, tb_offset, number_of_lines_of_context)\u001b[0m\n\u001b[0;32m   1365\u001b[0m         \u001b[1;32melse\u001b[0m\u001b[1;33m:\u001b[0m\u001b[1;33m\u001b[0m\u001b[1;33m\u001b[0m\u001b[0m\n\u001b[0;32m   1366\u001b[0m             \u001b[0mself\u001b[0m\u001b[1;33m.\u001b[0m\u001b[0mtb\u001b[0m \u001b[1;33m=\u001b[0m \u001b[0mtb\u001b[0m\u001b[1;33m\u001b[0m\u001b[1;33m\u001b[0m\u001b[0m\n\u001b[1;32m-> 1367\u001b[1;33m         return FormattedTB.structured_traceback(\n\u001b[0m\u001b[0;32m   1368\u001b[0m             self, etype, value, tb, tb_offset, number_of_lines_of_context)\n\u001b[0;32m   1369\u001b[0m \u001b[1;33m\u001b[0m\u001b[0m\n",
      "\u001b[1;32mC:\\ProgramData\\Anaconda3\\envs\\xl38\\lib\\site-packages\\IPython\\core\\ultratb.py\u001b[0m in \u001b[0;36mstructured_traceback\u001b[1;34m(self, etype, value, tb, tb_offset, number_of_lines_of_context)\u001b[0m\n\u001b[0;32m   1265\u001b[0m         \u001b[1;32mif\u001b[0m \u001b[0mmode\u001b[0m \u001b[1;32min\u001b[0m \u001b[0mself\u001b[0m\u001b[1;33m.\u001b[0m\u001b[0mverbose_modes\u001b[0m\u001b[1;33m:\u001b[0m\u001b[1;33m\u001b[0m\u001b[1;33m\u001b[0m\u001b[0m\n\u001b[0;32m   1266\u001b[0m             \u001b[1;31m# Verbose modes need a full traceback\u001b[0m\u001b[1;33m\u001b[0m\u001b[1;33m\u001b[0m\u001b[1;33m\u001b[0m\u001b[0m\n\u001b[1;32m-> 1267\u001b[1;33m             return VerboseTB.structured_traceback(\n\u001b[0m\u001b[0;32m   1268\u001b[0m                 \u001b[0mself\u001b[0m\u001b[1;33m,\u001b[0m \u001b[0metype\u001b[0m\u001b[1;33m,\u001b[0m \u001b[0mvalue\u001b[0m\u001b[1;33m,\u001b[0m \u001b[0mtb\u001b[0m\u001b[1;33m,\u001b[0m \u001b[0mtb_offset\u001b[0m\u001b[1;33m,\u001b[0m \u001b[0mnumber_of_lines_of_context\u001b[0m\u001b[1;33m\u001b[0m\u001b[1;33m\u001b[0m\u001b[0m\n\u001b[0;32m   1269\u001b[0m             )\n",
      "\u001b[1;32mC:\\ProgramData\\Anaconda3\\envs\\xl38\\lib\\site-packages\\IPython\\core\\ultratb.py\u001b[0m in \u001b[0;36mstructured_traceback\u001b[1;34m(self, etype, evalue, etb, tb_offset, number_of_lines_of_context)\u001b[0m\n\u001b[0;32m   1122\u001b[0m         \u001b[1;34m\"\"\"Return a nice text document describing the traceback.\"\"\"\u001b[0m\u001b[1;33m\u001b[0m\u001b[1;33m\u001b[0m\u001b[0m\n\u001b[0;32m   1123\u001b[0m \u001b[1;33m\u001b[0m\u001b[0m\n\u001b[1;32m-> 1124\u001b[1;33m         formatted_exception = self.format_exception_as_a_whole(etype, evalue, etb, number_of_lines_of_context,\n\u001b[0m\u001b[0;32m   1125\u001b[0m                                                                tb_offset)\n\u001b[0;32m   1126\u001b[0m \u001b[1;33m\u001b[0m\u001b[0m\n",
      "\u001b[1;32mC:\\ProgramData\\Anaconda3\\envs\\xl38\\lib\\site-packages\\IPython\\core\\ultratb.py\u001b[0m in \u001b[0;36mformat_exception_as_a_whole\u001b[1;34m(self, etype, evalue, etb, number_of_lines_of_context, tb_offset)\u001b[0m\n\u001b[0;32m   1080\u001b[0m \u001b[1;33m\u001b[0m\u001b[0m\n\u001b[0;32m   1081\u001b[0m \u001b[1;33m\u001b[0m\u001b[0m\n\u001b[1;32m-> 1082\u001b[1;33m         \u001b[0mlast_unique\u001b[0m\u001b[1;33m,\u001b[0m \u001b[0mrecursion_repeat\u001b[0m \u001b[1;33m=\u001b[0m \u001b[0mfind_recursion\u001b[0m\u001b[1;33m(\u001b[0m\u001b[0morig_etype\u001b[0m\u001b[1;33m,\u001b[0m \u001b[0mevalue\u001b[0m\u001b[1;33m,\u001b[0m \u001b[0mrecords\u001b[0m\u001b[1;33m)\u001b[0m\u001b[1;33m\u001b[0m\u001b[1;33m\u001b[0m\u001b[0m\n\u001b[0m\u001b[0;32m   1083\u001b[0m \u001b[1;33m\u001b[0m\u001b[0m\n\u001b[0;32m   1084\u001b[0m         \u001b[0mframes\u001b[0m \u001b[1;33m=\u001b[0m \u001b[0mself\u001b[0m\u001b[1;33m.\u001b[0m\u001b[0mformat_records\u001b[0m\u001b[1;33m(\u001b[0m\u001b[0mrecords\u001b[0m\u001b[1;33m,\u001b[0m \u001b[0mlast_unique\u001b[0m\u001b[1;33m,\u001b[0m \u001b[0mrecursion_repeat\u001b[0m\u001b[1;33m)\u001b[0m\u001b[1;33m\u001b[0m\u001b[1;33m\u001b[0m\u001b[0m\n",
      "\u001b[1;32mC:\\ProgramData\\Anaconda3\\envs\\xl38\\lib\\site-packages\\IPython\\core\\ultratb.py\u001b[0m in \u001b[0;36mfind_recursion\u001b[1;34m(etype, value, records)\u001b[0m\n\u001b[0;32m    380\u001b[0m     \u001b[1;31m# first frame (from in to out) that looks different.\u001b[0m\u001b[1;33m\u001b[0m\u001b[1;33m\u001b[0m\u001b[1;33m\u001b[0m\u001b[0m\n\u001b[0;32m    381\u001b[0m     \u001b[1;32mif\u001b[0m \u001b[1;32mnot\u001b[0m \u001b[0mis_recursion_error\u001b[0m\u001b[1;33m(\u001b[0m\u001b[0metype\u001b[0m\u001b[1;33m,\u001b[0m \u001b[0mvalue\u001b[0m\u001b[1;33m,\u001b[0m \u001b[0mrecords\u001b[0m\u001b[1;33m)\u001b[0m\u001b[1;33m:\u001b[0m\u001b[1;33m\u001b[0m\u001b[1;33m\u001b[0m\u001b[0m\n\u001b[1;32m--> 382\u001b[1;33m         \u001b[1;32mreturn\u001b[0m \u001b[0mlen\u001b[0m\u001b[1;33m(\u001b[0m\u001b[0mrecords\u001b[0m\u001b[1;33m)\u001b[0m\u001b[1;33m,\u001b[0m \u001b[1;36m0\u001b[0m\u001b[1;33m\u001b[0m\u001b[1;33m\u001b[0m\u001b[0m\n\u001b[0m\u001b[0;32m    383\u001b[0m \u001b[1;33m\u001b[0m\u001b[0m\n\u001b[0;32m    384\u001b[0m     \u001b[1;31m# Select filename, lineno, func_name to track frames with\u001b[0m\u001b[1;33m\u001b[0m\u001b[1;33m\u001b[0m\u001b[1;33m\u001b[0m\u001b[0m\n",
      "\u001b[1;31mTypeError\u001b[0m: object of type 'NoneType' has no len()"
     ]
    }
   ],
   "source": [
    "import sys\n",
    "try:\n",
    "   raise ValueError\n",
    "   print(\"Exception levée.\")\n",
    "except ValueError:\n",
    "   print(\"Exception ValueError !\")\n",
    "   sys.exit()\n",
    "finally:\n",
    "   print(\"Prenez soin des détails de dernière minute.\")\n",
    "   \n",
    "print(\"Ce code ne sera jamais exécuté.\")"
   ]
  },
  {
   "cell_type": "code",
   "execution_count": 16,
   "metadata": {},
   "outputs": [
    {
     "name": "stdout",
     "output_type": "stream",
     "text": [
      "Exception levée.\n",
      "Prenez soin des détails de dernière minute.\n",
      "Ce code ne sera jamais exécuté.\n"
     ]
    }
   ],
   "source": [
    "import sys\n",
    "try:\n",
    "   ## raise ValueError\n",
    "   print(\"Exception levée.\")\n",
    "except ValueError:\n",
    "   print(\"Exception ValueError !\")\n",
    "   sys.exit()\n",
    "finally:\n",
    "   print(\"Prenez soin des détails de dernière minute.\")\n",
    "   \n",
    "print(\"Ce code ne sera jamais exécuté.\")\n"
   ]
  },
  {
   "cell_type": "code",
   "execution_count": null,
   "metadata": {
    "collapsed": true
   },
   "outputs": [],
   "source": []
  }
 ],
 "metadata": {
  "kernelspec": {
   "display_name": "Python 3 (ipykernel)",
   "language": "python",
   "name": "python3"
  },
  "language_info": {
   "codemirror_mode": {
    "name": "ipython",
    "version": 3
   },
   "file_extension": ".py",
   "mimetype": "text/x-python",
   "name": "python",
   "nbconvert_exporter": "python",
   "pygments_lexer": "ipython3",
   "version": "3.8.11"
  }
 },
 "nbformat": 4,
 "nbformat_minor": 2
}
