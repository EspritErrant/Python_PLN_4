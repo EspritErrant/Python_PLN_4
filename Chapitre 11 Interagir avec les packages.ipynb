{
 "cells": [
  {
   "cell_type": "markdown",
   "metadata": {},
   "source": [
    "# Importer des packages"
   ]
  },
  {
   "cell_type": "markdown",
   "metadata": {},
   "source": [
    "# **Encadré :_** Changer le dossier courant de Python"
   ]
  },
  {
   "cell_type": "code",
   "execution_count": 1,
   "metadata": {},
   "outputs": [
    {
     "name": "stdout",
     "output_type": "stream",
     "text": [
      "C:\\Users\\Dom\\Documents\\Python_PLN_4\n"
     ]
    }
   ],
   "source": [
    "import os\n",
    "print(os.getcwd())"
   ]
  },
  {
   "cell_type": "code",
   "execution_count": 2,
   "metadata": {},
   "outputs": [
    {
     "name": "stdout",
     "output_type": "stream",
     "text": [
      ".ipynb_checkpoints\n",
      "Chapitre 02 Exemples Colab.ipynb\n",
      "Chapitre 03 Travailler avec les commandes.ipynb\n",
      "Chapitre 04 Commentaires.ipynb\n",
      "Chapitre 04 Exemples.ipynb\n",
      "Chapitre 04 Indentation.ipynb\n",
      "Chapitre 05 Commandes magiques.ipynb\n",
      "Chapitre 06 Stockage et modification des informations.ipynb\n",
      "Chapitre 07 Gérer l'information.ipynb\n",
      "Chapitre 08 Prendre des décisions.ipynb\n",
      "Chapitre 09 Accomplir des tâches répétitives.ipynb\n",
      "Chapitre 10 Gérer les erreurs.ipynb\n",
      "Chapitre 11 Interagir avec les packages.ipynb\n",
      "Chapitre 11 Packages.ipynb\n",
      "Chapitre 11 _Packages.py\n",
      "Chapitre 12 Travailler avec des chaînes.ipynb\n",
      "Chapitre 13 Gérer des listes.ipynb\n",
      "Chapitre 14 Collecter toutes sortes de données.ipynb\n",
      "Chapitre 15 Créer et utiliser des classes.ipynb\n",
      "Chapitre 15 MyClass.ipynb\n",
      "Chapitre 16 Stocker des données dans des fichiers.ipynb\n",
      "Chapitre 17 Envoyer un courriel.ipynb\n",
      "Chapitre_15_MyClass.py\n",
      "README.md\n",
      "TestFile.csv\n"
     ]
    }
   ],
   "source": [
    "for entry in os.listdir(): print(entry)"
   ]
  },
  {
   "cell_type": "markdown",
   "metadata": {},
   "source": [
    "## Utiliser l’instruction import"
   ]
  },
  {
   "cell_type": "code",
   "execution_count": 9,
   "metadata": {},
   "outputs": [
    {
     "data": {
      "text/plain": [
       "['SayGoodbye',\n",
       " 'SayHello',\n",
       " '__builtins__',\n",
       " '__cached__',\n",
       " '__doc__',\n",
       " '__file__',\n",
       " '__loader__',\n",
       " '__name__',\n",
       " '__package__',\n",
       " '__spec__']"
      ]
     },
     "execution_count": 9,
     "metadata": {},
     "output_type": "execute_result"
    }
   ],
   "source": [
    "import Chapitre_11_Packages\n",
    "dir(Chapitre_11_Packages)"
   ]
  },
  {
   "cell_type": "code",
   "execution_count": 10,
   "metadata": {},
   "outputs": [
    {
     "name": "stdout",
     "output_type": "stream",
     "text": [
      "Hello  Jean-Pierre\n",
      "Goodbye  Marie\n"
     ]
    }
   ],
   "source": [
    "Chapitre_11_Packages.SayHello(\"Jean-Pierre\")\n",
    "Chapitre_11_Packages.SayGoodbye(\"Marie\")"
   ]
  },
  {
   "cell_type": "markdown",
   "metadata": {},
   "source": [
    "## Utiliser l’instruction from…import"
   ]
  },
  {
   "cell_type": "code",
   "execution_count": 5,
   "metadata": {},
   "outputs": [
    {
     "ename": "NameError",
     "evalue": "name 'BPP4D3E_11_Packages' is not defined",
     "output_type": "error",
     "traceback": [
      "\u001b[1;31m---------------------------------------------------------------------------\u001b[0m",
      "\u001b[1;31mNameError\u001b[0m                                 Traceback (most recent call last)",
      "\u001b[1;32m<ipython-input-5-07e9ca6ae946>\u001b[0m in \u001b[0;36m<module>\u001b[1;34m\u001b[0m\n\u001b[0;32m      2\u001b[0m \u001b[1;32mdel\u001b[0m \u001b[0msys\u001b[0m\u001b[1;33m.\u001b[0m\u001b[0mmodules\u001b[0m\u001b[1;33m[\u001b[0m\u001b[1;34m\"BPP4D3E_11_Packages\"\u001b[0m\u001b[1;33m]\u001b[0m\u001b[1;33m\u001b[0m\u001b[1;33m\u001b[0m\u001b[0m\n\u001b[0;32m      3\u001b[0m \u001b[1;32mdel\u001b[0m \u001b[0mBPP4D3E_11_Packages\u001b[0m\u001b[1;33m\u001b[0m\u001b[1;33m\u001b[0m\u001b[0m\n\u001b[1;32m----> 4\u001b[1;33m \u001b[0mdir\u001b[0m\u001b[1;33m(\u001b[0m\u001b[0mBPP4D3E_11_Packages\u001b[0m\u001b[1;33m)\u001b[0m\u001b[1;33m\u001b[0m\u001b[1;33m\u001b[0m\u001b[0m\n\u001b[0m",
      "\u001b[1;31mNameError\u001b[0m: name 'BPP4D3E_11_Packages' is not defined"
     ]
    }
   ],
   "source": [
    "import sys\n",
    "del sys.modules[\"Chapitre_11_Packages\"]\n",
    "del Chapitre_11_Packages\n",
    "dir(Chapitre_11_Packages)"
   ]
  },
  {
   "cell_type": "code",
   "execution_count": 11,
   "metadata": {},
   "outputs": [
    {
     "data": {
      "text/plain": [
       "['SayGoodbye',\n",
       " 'SayHello',\n",
       " '__builtins__',\n",
       " '__cached__',\n",
       " '__doc__',\n",
       " '__file__',\n",
       " '__loader__',\n",
       " '__name__',\n",
       " '__package__',\n",
       " '__spec__']"
      ]
     },
     "execution_count": 11,
     "metadata": {},
     "output_type": "execute_result"
    }
   ],
   "source": [
    "from Chapitre_11_Packages import SayHello\n",
    "dir(Chapitre_11_Packages)"
   ]
  },
  {
   "cell_type": "code",
   "execution_count": 12,
   "metadata": {},
   "outputs": [
    {
     "data": {
      "text/plain": [
       "['__annotations__',\n",
       " '__call__',\n",
       " '__class__',\n",
       " '__closure__',\n",
       " '__code__',\n",
       " '__defaults__',\n",
       " '__delattr__',\n",
       " '__dict__',\n",
       " '__dir__',\n",
       " '__doc__',\n",
       " '__eq__',\n",
       " '__format__',\n",
       " '__ge__',\n",
       " '__get__',\n",
       " '__getattribute__',\n",
       " '__globals__',\n",
       " '__gt__',\n",
       " '__hash__',\n",
       " '__init__',\n",
       " '__init_subclass__',\n",
       " '__kwdefaults__',\n",
       " '__le__',\n",
       " '__lt__',\n",
       " '__module__',\n",
       " '__name__',\n",
       " '__ne__',\n",
       " '__new__',\n",
       " '__qualname__',\n",
       " '__reduce__',\n",
       " '__reduce_ex__',\n",
       " '__repr__',\n",
       " '__setattr__',\n",
       " '__sizeof__',\n",
       " '__str__',\n",
       " '__subclasshook__']"
      ]
     },
     "execution_count": 12,
     "metadata": {},
     "output_type": "execute_result"
    }
   ],
   "source": [
    "dir(SayHello)"
   ]
  },
  {
   "cell_type": "code",
   "execution_count": 13,
   "metadata": {},
   "outputs": [
    {
     "name": "stdout",
     "output_type": "stream",
     "text": [
      "Hello  Albert\n"
     ]
    }
   ],
   "source": [
    "SayHello(\"Albert\")"
   ]
  },
  {
   "cell_type": "code",
   "execution_count": 14,
   "metadata": {},
   "outputs": [
    {
     "ename": "NameError",
     "evalue": "name 'SayGoodbye' is not defined",
     "output_type": "error",
     "traceback": [
      "\u001b[1;31m---------------------------------------------------------------------------\u001b[0m",
      "\u001b[1;31mNameError\u001b[0m                                 Traceback (most recent call last)",
      "\u001b[1;32m~\\AppData\\Local\\Temp/ipykernel_14108/3273738947.py\u001b[0m in \u001b[0;36m<module>\u001b[1;34m\u001b[0m\n\u001b[1;32m----> 1\u001b[1;33m \u001b[0mSayGoodbye\u001b[0m\u001b[1;33m(\u001b[0m\u001b[1;34m\"Diane\"\u001b[0m\u001b[1;33m)\u001b[0m\u001b[1;33m\u001b[0m\u001b[1;33m\u001b[0m\u001b[0m\n\u001b[0m",
      "\u001b[1;31mNameError\u001b[0m: name 'SayGoodbye' is not defined"
     ]
    }
   ],
   "source": [
    "SayGoodbye(\"Diane\")"
   ]
  },
  {
   "cell_type": "markdown",
   "metadata": {},
   "source": [
    "## Utilisation de l’instruction import...as"
   ]
  },
  {
   "cell_type": "code",
   "execution_count": 15,
   "metadata": {},
   "outputs": [
    {
     "data": {
      "text/plain": [
       "['SayGoodbye',\n",
       " 'SayHello',\n",
       " '__builtins__',\n",
       " '__cached__',\n",
       " '__doc__',\n",
       " '__file__',\n",
       " '__loader__',\n",
       " '__name__',\n",
       " '__package__',\n",
       " '__spec__']"
      ]
     },
     "execution_count": 15,
     "metadata": {},
     "output_type": "execute_result"
    }
   ],
   "source": [
    "import Chapitre_11_Packages as BPP\n",
    "dir(BPP)"
   ]
  },
  {
   "cell_type": "code",
   "execution_count": 16,
   "metadata": {},
   "outputs": [
    {
     "name": "stdout",
     "output_type": "stream",
     "text": [
      "Hello  Albert\n",
      "Goodbye  Diane\n"
     ]
    }
   ],
   "source": [
    "BPP.SayHello(\"Albert\")\n",
    "BPP.SayGoodbye(\"Diane\")"
   ]
  },
  {
   "cell_type": "markdown",
   "metadata": {},
   "source": [
    "# Trouver des packages"
   ]
  },
  {
   "cell_type": "markdown",
   "metadata": {},
   "source": [
    "## Localiser les packages sur le disque"
   ]
  },
  {
   "cell_type": "code",
   "execution_count": 17,
   "metadata": {},
   "outputs": [
    {
     "name": "stdout",
     "output_type": "stream",
     "text": [
      "C:\\Users\\Dom\\Documents\\Python_PLN_4\n",
      "C:\\ProgramData\\Anaconda3\\envs\\xl38\\python38.zip\n",
      "C:\\ProgramData\\Anaconda3\\envs\\xl38\\DLLs\n",
      "C:\\ProgramData\\Anaconda3\\envs\\xl38\\lib\n",
      "C:\\ProgramData\\Anaconda3\\envs\\xl38\n",
      "\n",
      "C:\\ProgramData\\Anaconda3\\envs\\xl38\\lib\\site-packages\n",
      "C:\\ProgramData\\Anaconda3\\envs\\xl38\\lib\\site-packages\\win32\n",
      "C:\\ProgramData\\Anaconda3\\envs\\xl38\\lib\\site-packages\\win32\\lib\n",
      "C:\\ProgramData\\Anaconda3\\envs\\xl38\\lib\\site-packages\\Pythonwin\n",
      "C:\\ProgramData\\Anaconda3\\envs\\xl38\\lib\\site-packages\\IPython\\extensions\n",
      "C:\\Users\\Dom\\.ipython\n"
     ]
    }
   ],
   "source": [
    "import sys\n",
    "for p in sys.path: print(p)"
   ]
  },
  {
   "cell_type": "code",
   "execution_count": 18,
   "metadata": {},
   "outputs": [
    {
     "ename": "KeyError",
     "evalue": "'PYTHONPATH'",
     "output_type": "error",
     "traceback": [
      "\u001b[1;31m---------------------------------------------------------------------------\u001b[0m",
      "\u001b[1;31mKeyError\u001b[0m                                  Traceback (most recent call last)",
      "\u001b[1;32m~\\AppData\\Local\\Temp/ipykernel_14108/2915257752.py\u001b[0m in \u001b[0;36m<module>\u001b[1;34m\u001b[0m\n\u001b[0;32m      1\u001b[0m \u001b[1;32mimport\u001b[0m \u001b[0mos\u001b[0m\u001b[1;33m\u001b[0m\u001b[1;33m\u001b[0m\u001b[0m\n\u001b[1;32m----> 2\u001b[1;33m \u001b[0mos\u001b[0m\u001b[1;33m.\u001b[0m\u001b[0menviron\u001b[0m\u001b[1;33m[\u001b[0m\u001b[1;34m'PYTHONPATH'\u001b[0m\u001b[1;33m]\u001b[0m\u001b[1;33m.\u001b[0m\u001b[0msplit\u001b[0m\u001b[1;33m(\u001b[0m\u001b[0mos\u001b[0m\u001b[1;33m.\u001b[0m\u001b[0mpathsep\u001b[0m\u001b[1;33m)\u001b[0m\u001b[1;33m\u001b[0m\u001b[1;33m\u001b[0m\u001b[0m\n\u001b[0m",
      "\u001b[1;32mC:\\ProgramData\\Anaconda3\\envs\\xl38\\lib\\os.py\u001b[0m in \u001b[0;36m__getitem__\u001b[1;34m(self, key)\u001b[0m\n\u001b[0;32m    673\u001b[0m         \u001b[1;32mexcept\u001b[0m \u001b[0mKeyError\u001b[0m\u001b[1;33m:\u001b[0m\u001b[1;33m\u001b[0m\u001b[1;33m\u001b[0m\u001b[0m\n\u001b[0;32m    674\u001b[0m             \u001b[1;31m# raise KeyError with the original key value\u001b[0m\u001b[1;33m\u001b[0m\u001b[1;33m\u001b[0m\u001b[1;33m\u001b[0m\u001b[0m\n\u001b[1;32m--> 675\u001b[1;33m             \u001b[1;32mraise\u001b[0m \u001b[0mKeyError\u001b[0m\u001b[1;33m(\u001b[0m\u001b[0mkey\u001b[0m\u001b[1;33m)\u001b[0m \u001b[1;32mfrom\u001b[0m \u001b[1;32mNone\u001b[0m\u001b[1;33m\u001b[0m\u001b[1;33m\u001b[0m\u001b[0m\n\u001b[0m\u001b[0;32m    676\u001b[0m         \u001b[1;32mreturn\u001b[0m \u001b[0mself\u001b[0m\u001b[1;33m.\u001b[0m\u001b[0mdecodevalue\u001b[0m\u001b[1;33m(\u001b[0m\u001b[0mvalue\u001b[0m\u001b[1;33m)\u001b[0m\u001b[1;33m\u001b[0m\u001b[1;33m\u001b[0m\u001b[0m\n\u001b[0;32m    677\u001b[0m \u001b[1;33m\u001b[0m\u001b[0m\n",
      "\u001b[1;31mKeyError\u001b[0m: 'PYTHONPATH'"
     ]
    }
   ],
   "source": [
    "import os\n",
    "os.environ['PYTHONPATH'].split(os.pathsep)"
   ]
  },
  {
   "cell_type": "code",
   "execution_count": 19,
   "metadata": {},
   "outputs": [
    {
     "name": "stdout",
     "output_type": "stream",
     "text": [
      "C:\\Users\\Dom\\Documents\\Python_PLN_4\n",
      "C:\\ProgramData\\Anaconda3\\envs\\xl38\\python38.zip\n",
      "C:\\ProgramData\\Anaconda3\\envs\\xl38\\DLLs\n",
      "C:\\ProgramData\\Anaconda3\\envs\\xl38\\lib\n",
      "C:\\ProgramData\\Anaconda3\\envs\\xl38\n",
      "\n",
      "C:\\ProgramData\\Anaconda3\\envs\\xl38\\lib\\site-packages\n",
      "C:\\ProgramData\\Anaconda3\\envs\\xl38\\lib\\site-packages\\win32\n",
      "C:\\ProgramData\\Anaconda3\\envs\\xl38\\lib\\site-packages\\win32\\lib\n",
      "C:\\ProgramData\\Anaconda3\\envs\\xl38\\lib\\site-packages\\Pythonwin\n",
      "C:\\ProgramData\\Anaconda3\\envs\\xl38\\lib\\site-packages\\IPython\\extensions\n",
      "C:\\Users\\Dom\\.ipython\n",
      "C:\\Users\\Dom\\Documents\\Python_PLN_4\n"
     ]
    }
   ],
   "source": [
    "sys.path.append(os.getcwd())\n",
    "for p in sys.path: print(p)"
   ]
  },
  {
   "cell_type": "code",
   "execution_count": 20,
   "metadata": {},
   "outputs": [
    {
     "name": "stdout",
     "output_type": "stream",
     "text": [
      "C:\\ProgramData\\Anaconda3\\envs\\xl38\\python38.zip\n",
      "C:\\ProgramData\\Anaconda3\\envs\\xl38\\DLLs\n",
      "C:\\ProgramData\\Anaconda3\\envs\\xl38\\lib\n",
      "C:\\ProgramData\\Anaconda3\\envs\\xl38\n",
      "\n",
      "C:\\ProgramData\\Anaconda3\\envs\\xl38\\lib\\site-packages\n",
      "C:\\ProgramData\\Anaconda3\\envs\\xl38\\lib\\site-packages\\win32\n",
      "C:\\ProgramData\\Anaconda3\\envs\\xl38\\lib\\site-packages\\win32\\lib\n",
      "C:\\ProgramData\\Anaconda3\\envs\\xl38\\lib\\site-packages\\Pythonwin\n",
      "C:\\ProgramData\\Anaconda3\\envs\\xl38\\lib\\site-packages\\IPython\\extensions\n",
      "C:\\Users\\Dom\\.ipython\n",
      "C:\\Users\\Dom\\Documents\\Python_PLN_4\n"
     ]
    }
   ],
   "source": [
    "sys.path.remove(os.getcwd())\n",
    "for p in sys.path: print(p)"
   ]
  },
  {
   "cell_type": "markdown",
   "metadata": {},
   "source": [
    "## Trouver des packages en ligne"
   ]
  },
  {
   "cell_type": "code",
   "execution_count": 22,
   "metadata": {},
   "outputs": [
    {
     "name": "stdout",
     "output_type": "stream",
     "text": [
      "%PYTHONPATH%   ## Windows\n",
      "$PTYHONPATH    ## Linux et macOS\n"
     ]
    }
   ],
   "source": [
    "!echo %PYTHONPATH%   ## Windows\n",
    "!echo $PTYHONPATH    ## Linux et macOS"
   ]
  },
  {
   "cell_type": "markdown",
   "metadata": {},
   "source": [
    "# Télécharger des packages à partir d’autres sources"
   ]
  },
  {
   "cell_type": "markdown",
   "metadata": {},
   "source": [
    "## Installer des packages à l’aide de pip"
   ]
  },
  {
   "cell_type": "code",
   "execution_count": 23,
   "metadata": {},
   "outputs": [
    {
     "name": "stdout",
     "output_type": "stream",
     "text": [
      "Package             Version             Latest    Type\n",
      "------------------- ------------------- --------- -----\n",
      "argon2-cffi         20.1.0              21.3.0    wheel\n",
      "attrs               21.2.0              23.1.0    wheel\n",
      "bleach              4.0.0               6.0.0     wheel\n",
      "certifi             2021.5.30           2022.12.7 wheel\n",
      "cffi                1.14.6              1.15.1    wheel\n",
      "chardet             3.0.4               5.1.0     wheel\n",
      "colorama            0.4.4               0.4.6     wheel\n",
      "comtypes            1.1.10              1.1.14    wheel\n",
      "cryptography        3.4.7               40.0.2    wheel\n",
      "cycler              0.10.0              0.11.0    wheel\n",
      "debugpy             1.4.1               1.6.7     wheel\n",
      "decorator           5.0.9               5.1.1     wheel\n",
      "entrypoints         0.3                 0.4       wheel\n",
      "flake8              3.8.4               6.0.0     wheel\n",
      "idna                2.10                3.4       wheel\n",
      "importlib-metadata  3.10.0              6.4.1     wheel\n",
      "ipykernel           6.2.0               6.22.0    wheel\n",
      "ipython             7.26.0              8.12.0    wheel\n",
      "jedi                0.18.0              0.18.2    wheel\n",
      "Jinja2              3.0.1               3.1.2     wheel\n",
      "jsonschema          3.2.0               4.17.3    wheel\n",
      "jupyter-client      7.0.1               8.2.0     wheel\n",
      "jupyter-core        4.7.1               5.3.0     wheel\n",
      "jupyterlab-pygments 0.1.2               0.2.2     wheel\n",
      "kiwisolver          1.3.1               1.4.4     wheel\n",
      "lxml                4.6.1               4.9.2     wheel\n",
      "MarkupSafe          2.0.1               2.1.2     wheel\n",
      "matplotlib          3.3.2               3.7.1     wheel\n",
      "matplotlib-inline   0.1.2               0.1.6     wheel\n",
      "mccabe              0.6.1               0.7.0     wheel\n",
      "mistune             0.8.4               2.0.5     wheel\n",
      "mkl-fft             1.3.0               1.3.1     wheel\n",
      "nbclient            0.5.3               0.7.3     wheel\n",
      "nbconvert           6.1.0               7.3.1     wheel\n",
      "nbformat            5.1.3               5.8.0     wheel\n",
      "nest-asyncio        1.5.1               1.5.6     wheel\n",
      "notebook            6.1.4               6.5.4     wheel\n",
      "numpy               1.20.3              1.24.2    wheel\n",
      "openpyxl            3.0.5               3.1.2     wheel\n",
      "packaging           21.0                23.1      wheel\n",
      "pandas              1.1.3               2.0.0     wheel\n",
      "pandocfilters       1.4.3               1.5.0     wheel\n",
      "parso               0.8.2               0.8.3     wheel\n",
      "Pillow              8.0.1               9.5.0     wheel\n",
      "pip                 21.0.1              23.1      wheel\n",
      "plotly              4.14.1              5.14.1    wheel\n",
      "prometheus-client   0.11.0              0.16.0    wheel\n",
      "prompt-toolkit      3.0.17              3.0.38    wheel\n",
      "pycodestyle         2.6.0               2.10.0    wheel\n",
      "pycparser           2.20                2.21      wheel\n",
      "pyflakes            2.2.0               3.0.1     wheel\n",
      "Pygments            2.10.0              2.15.0    wheel\n",
      "pyOpenSSL           20.0.1              23.1.1    wheel\n",
      "pyparsing           2.4.7               3.0.9     wheel\n",
      "pyrsistent          0.17.3              0.19.3    wheel\n",
      "python-dateutil     2.8.1               2.8.2     wheel\n",
      "pytrends            4.7.3               4.9.2     wheel\n",
      "pytz                2021.1              2023.3    wheel\n",
      "pywin32             228                 306       wheel\n",
      "pywinpty            0.5.7               2.0.10    wheel\n",
      "pyxlsb              1.0.7               1.0.10    wheel\n",
      "pyzmq               22.2.1              25.0.2    wheel\n",
      "requests            2.24.0              2.28.2    wheel\n",
      "retrying            1.3.3               1.3.4     wheel\n",
      "Send2Trash          1.5.0               1.8.0     wheel\n",
      "setuptools          52.0.0.post20210125 67.6.1    wheel\n",
      "sip                 4.19.13             6.7.8     wheel\n",
      "SQLAlchemy          1.3.20              2.0.9     wheel\n",
      "terminado           0.9.4               0.17.1    wheel\n",
      "testpath            0.5.0               0.6.0     wheel\n",
      "tornado             6.1                 6.2       wheel\n",
      "traitlets           5.0.5               5.9.0     wheel\n",
      "urllib3             1.25.11             1.26.15   wheel\n",
      "wcwidth             0.2.5               0.2.6     wheel\n",
      "wheel               0.37.0              0.40.0    wheel\n",
      "xlrd                1.2.0               2.0.1     wheel\n",
      "XlsxWriter          1.3.7               3.1.0     wheel\n",
      "xlwings             0.20.8              0.30.4    wheel\n",
      "zipp                3.5.0               3.15.0    wheel\n"
     ]
    }
   ],
   "source": [
    "!pip list --outdated"
   ]
  },
  {
   "cell_type": "markdown",
   "metadata": {},
   "source": [
    "## Installer des packages à l’aide de la commande magique %pip"
   ]
  },
  {
   "cell_type": "code",
   "execution_count": 24,
   "metadata": {},
   "outputs": [
    {
     "name": "stdout",
     "output_type": "stream",
     "text": [
      "Note: you may need to restart the kernel to use updated packages.\n"
     ]
    },
    {
     "name": "stderr",
     "output_type": "stream",
     "text": [
      "La syntaxe du nom de fichier, de r‚pertoire ou de volume est incorrecte.\n"
     ]
    }
   ],
   "source": [
    "%pip list --outdated"
   ]
  },
  {
   "cell_type": "markdown",
   "metadata": {
    "collapsed": true
   },
   "source": [
    "# Voir le contenu d’un package"
   ]
  },
  {
   "cell_type": "code",
   "execution_count": 25,
   "metadata": {},
   "outputs": [
    {
     "name": "stdout",
     "output_type": "stream",
     "text": [
      "OS routines for NT or Posix depending on what system we're on.\n",
      "\n",
      "This exports:\n",
      "  - all functions from posix or nt, e.g. unlink, stat, etc.\n",
      "  - os.path is either posixpath or ntpath\n",
      "  - os.name is either 'posix' or 'nt'\n",
      "  - os.curdir is a string representing the current directory (always '.')\n",
      "  - os.pardir is a string representing the parent directory (always '..')\n",
      "  - os.sep is the (or a most common) pathname separator ('/' or '\\\\')\n",
      "  - os.extsep is the extension separator (always '.')\n",
      "  - os.altsep is the alternate pathname separator (None or '/')\n",
      "  - os.pathsep is the component separator used in $PATH etc\n",
      "  - os.linesep is the line separator in text files ('\\r' or '\\n' or '\\r\\n')\n",
      "  - os.defpath is the default search path for executables\n",
      "  - os.devnull is the file path of the null device ('/dev/null', etc.)\n",
      "\n",
      "Programs that import and use 'os' stand a better chance of being\n",
      "portable between different platforms.  Of course, they must then\n",
      "only use functions that are defined by all platforms (e.g., unlink\n",
      "and opendir), and leave all pathname manipulation to os.path\n",
      "(e.g., split and join).\n",
      "\n"
     ]
    }
   ],
   "source": [
    "import os\n",
    "print(os.__doc__)"
   ]
  },
  {
   "cell_type": "code",
   "execution_count": 26,
   "metadata": {},
   "outputs": [
    {
     "data": {
      "text/plain": [
       "['__annotations__',\n",
       " '__call__',\n",
       " '__class__',\n",
       " '__closure__',\n",
       " '__code__',\n",
       " '__defaults__',\n",
       " '__delattr__',\n",
       " '__dict__',\n",
       " '__dir__',\n",
       " '__doc__',\n",
       " '__eq__',\n",
       " '__format__',\n",
       " '__ge__',\n",
       " '__get__',\n",
       " '__getattribute__',\n",
       " '__globals__',\n",
       " '__gt__',\n",
       " '__hash__',\n",
       " '__init__',\n",
       " '__init_subclass__',\n",
       " '__kwdefaults__',\n",
       " '__le__',\n",
       " '__lt__',\n",
       " '__module__',\n",
       " '__name__',\n",
       " '__ne__',\n",
       " '__new__',\n",
       " '__qualname__',\n",
       " '__reduce__',\n",
       " '__reduce_ex__',\n",
       " '__repr__',\n",
       " '__setattr__',\n",
       " '__sizeof__',\n",
       " '__str__',\n",
       " '__subclasshook__']"
      ]
     },
     "execution_count": 26,
     "metadata": {},
     "output_type": "execute_result"
    }
   ],
   "source": [
    "import Chapitre_11_Packages\n",
    "dir(Chapitre_11_Packages.SayHello)"
   ]
  },
  {
   "cell_type": "code",
   "execution_count": 27,
   "metadata": {},
   "outputs": [
    {
     "name": "stdout",
     "output_type": "stream",
     "text": [
      "Help on built-in function __sizeof__:\n",
      "\n",
      "__sizeof__()\n",
      "    Size of object in memory, in bytes.\n",
      "\n"
     ]
    }
   ],
   "source": [
    "help(\"__sizeof__\")"
   ]
  },
  {
   "cell_type": "code",
   "execution_count": 28,
   "metadata": {},
   "outputs": [
    {
     "data": {
      "text/plain": [
       "120"
      ]
     },
     "execution_count": 28,
     "metadata": {},
     "output_type": "execute_result"
    }
   ],
   "source": [
    "Chapitre_11_Packages.SayHello.__sizeof__()"
   ]
  },
  {
   "cell_type": "markdown",
   "metadata": {
    "collapsed": true
   },
   "source": [
    "# Afficher la documentation des packages de Python"
   ]
  },
  {
   "cell_type": "markdown",
   "metadata": {},
   "source": [
    "## Utiliser !pydoc pour accéder à PyDoc"
   ]
  },
  {
   "cell_type": "code",
   "execution_count": 29,
   "metadata": {},
   "outputs": [
    {
     "name": "stdout",
     "output_type": "stream",
     "text": [
      "pydoc - the Python documentation tool\n",
      "\n",
      "pydoc-script <name> ...\n",
      "    Show text documentation on something.  <name> may be the name of a\n",
      "    Python keyword, topic, function, module, or package, or a dotted\n",
      "    reference to a class or function within a module or module in a\n",
      "    package.  If <name> contains a '\\', it is used as the path to a\n",
      "    Python source file to document. If name is 'keywords', 'topics',\n",
      "    or 'modules', a listing of these things is displayed.\n",
      "\n",
      "pydoc-script -k <keyword>\n",
      "    Search for a keyword in the synopsis lines of all available modules.\n",
      "\n",
      "pydoc-script -n <hostname>\n",
      "    Start an HTTP server with the given hostname (default: localhost).\n",
      "\n",
      "pydoc-script -p <port>\n",
      "    Start an HTTP server on the given port on the local machine.  Port\n",
      "    number 0 can be used to get an arbitrary unused port.\n",
      "\n",
      "pydoc-script -b\n",
      "    Start an HTTP server on an arbitrary unused port and open a Web browser\n",
      "    to interactively browse documentation.  This option can be used in\n",
      "    combination with -n and/or -p.\n",
      "\n",
      "pydoc-script -w <name> ...\n",
      "    Write out the HTML documentation for a module to a file in the current\n",
      "    directory.  If <name> contains a '\\', it is treated as a filename; if\n",
      "    it names a directory, documentation is written for all the contents.\n",
      "\n"
     ]
    }
   ],
   "source": [
    "!pydoc"
   ]
  },
  {
   "cell_type": "markdown",
   "metadata": {},
   "source": [
    "## Taper un terme à rechercher"
   ]
  },
  {
   "cell_type": "code",
   "execution_count": 30,
   "metadata": {},
   "outputs": [
    {
     "name": "stdout",
     "output_type": "stream",
     "text": [
      "Help on built-in function print in module builtins:\n",
      "\n",
      "print(...)\n",
      "    print(value, ..., sep=' ', end='\\n', file=sys.stdout, flush=False)\n",
      "    \n",
      "    Prints the values to a stream, or to sys.stdout by default.\n",
      "    Optional keyword arguments:\n",
      "    file:  a file-like object (stream); defaults to the current sys.stdout.\n",
      "    sep:   string inserted between values, default a space.\n",
      "    end:   string appended after the last value, default a newline.\n",
      "    flush: whether to forcibly flush the stream.\n",
      "\n"
     ]
    }
   ],
   "source": [
    "!pydoc print"
   ]
  },
  {
   "cell_type": "code",
   "execution_count": 31,
   "metadata": {},
   "outputs": [
    {
     "name": "stdout",
     "output_type": "stream",
     "text": [
      "_io - The io module provides the Python interfaces to stream handling. The\n",
      "asyncio.streams \n",
      "io - The io module provides the Python interfaces to stream handling. The\n",
      "subprocess - Subprocesses with accessible I/O streams\n",
      "bleach._vendor.html5lib._inputstream \n",
      "ipykernel.iostream - Wrappers for forwarding stdout/stderr over zmq\n",
      "matplotlib.streamplot - Streamline plotting for 2D vector fields.\n",
      "nbconvert.preprocessors.coalescestreams - Preprocessor for merging consecutive stream outputs for easier handling.\n",
      "nbconvert.preprocessors.tests.test_coalescestreams - Tests for the coalescestreams preprocessor\n",
      "numpy.compat._inspect - Subset of inspect module from upstream python\n",
      "pandas._config - pandas._config is considered explicitly upstream of everything else in pandas,\n",
      "pandas.tests.test_downstream - Testing that we work in the downstream packages\n",
      "pip._vendor.html5lib._inputstream \n",
      "plotly.figure_factory._streamline \n",
      "plotly.graph_objs._streamtube \n",
      "plotly.graph_objs.area._stream \n",
      "plotly.graph_objs.bar._stream \n",
      "plotly.graph_objs.barpolar._stream \n",
      "plotly.graph_objs.box._stream \n",
      "plotly.graph_objs.candlestick._stream \n",
      "plotly.graph_objs.carpet._stream \n",
      "plotly.graph_objs.choropleth._stream \n",
      "plotly.graph_objs.choroplethmapbox._stream \n",
      "plotly.graph_objs.cone._stream \n",
      "plotly.graph_objs.contour._stream \n",
      "plotly.graph_objs.contourcarpet._stream \n",
      "plotly.graph_objs.densitymapbox._stream \n",
      "plotly.graph_objs.funnel._stream \n",
      "plotly.graph_objs.funnelarea._stream \n",
      "plotly.graph_objs.heatmap._stream \n",
      "plotly.graph_objs.heatmapgl._stream \n",
      "plotly.graph_objs.histogram._stream \n",
      "plotly.graph_objs.histogram2d._stream \n",
      "plotly.graph_objs.histogram2dcontour._stream \n",
      "plotly.graph_objs.image._stream \n",
      "plotly.graph_objs.indicator._stream \n",
      "plotly.graph_objs.isosurface._stream \n",
      "plotly.graph_objs.layout.template.data._streamtube \n",
      "plotly.graph_objs.mesh3d._stream \n",
      "plotly.graph_objs.ohlc._stream \n",
      "plotly.graph_objs.parcats._stream \n",
      "plotly.graph_objs.parcoords._stream \n",
      "plotly.graph_objs.pie._stream \n",
      "plotly.graph_objs.pointcloud._stream \n",
      "plotly.graph_objs.sankey._stream \n",
      "plotly.graph_objs.scatter._stream \n",
      "plotly.graph_objs.scatter3d._stream \n",
      "plotly.graph_objs.scattercarpet._stream \n",
      "plotly.graph_objs.scattergeo._stream \n",
      "plotly.graph_objs.scattergl._stream \n",
      "plotly.graph_objs.scattermapbox._stream \n",
      "plotly.graph_objs.scatterpolar._stream \n",
      "plotly.graph_objs.scatterpolargl._stream \n",
      "plotly.graph_objs.scatterternary._stream \n",
      "plotly.graph_objs.splom._stream \n",
      "plotly.graph_objs.streamtube \n",
      "plotly.graph_objs.streamtube._colorbar \n",
      "plotly.graph_objs.streamtube._hoverlabel \n",
      "plotly.graph_objs.streamtube._lighting \n",
      "plotly.graph_objs.streamtube._lightposition \n",
      "plotly.graph_objs.streamtube._starts \n",
      "plotly.graph_objs.streamtube._stream \n",
      "plotly.graph_objs.streamtube.colorbar \n",
      "plotly.graph_objs.streamtube.colorbar._tickfont \n",
      "plotly.graph_objs.streamtube.colorbar._tickformatstop \n",
      "plotly.graph_objs.streamtube.colorbar._title \n",
      "plotly.graph_objs.streamtube.colorbar.title \n",
      "plotly.graph_objs.streamtube.colorbar.title._font \n",
      "plotly.graph_objs.streamtube.hoverlabel \n",
      "plotly.graph_objs.streamtube.hoverlabel._font \n",
      "plotly.graph_objs.sunburst._stream \n",
      "plotly.graph_objs.surface._stream \n",
      "plotly.graph_objs.table._stream \n",
      "plotly.graph_objs.treemap._stream \n",
      "plotly.graph_objs.violin._stream \n",
      "plotly.graph_objs.volume._stream \n",
      "plotly.graph_objs.waterfall._stream \n",
      "plotly.validators._streamtube \n",
      "plotly.validators.area._stream \n",
      "plotly.validators.area.stream \n",
      "plotly.validators.area.stream._maxpoints \n",
      "plotly.validators.area.stream._token \n",
      "plotly.validators.bar._stream \n",
      "plotly.validators.bar.stream \n",
      "plotly.validators.bar.stream._maxpoints \n",
      "plotly.validators.bar.stream._token \n",
      "plotly.validators.barpolar._stream \n",
      "plotly.validators.barpolar.stream \n",
      "plotly.validators.barpolar.stream._maxpoints \n",
      "plotly.validators.barpolar.stream._token \n",
      "plotly.validators.box._stream \n",
      "plotly.validators.box.stream \n",
      "plotly.validators.box.stream._maxpoints \n",
      "plotly.validators.box.stream._token \n",
      "plotly.validators.candlestick._stream \n",
      "plotly.validators.candlestick.stream \n",
      "plotly.validators.candlestick.stream._maxpoints \n",
      "plotly.validators.candlestick.stream._token \n",
      "plotly.validators.carpet._stream \n",
      "plotly.validators.carpet.stream \n",
      "plotly.validators.carpet.stream._maxpoints \n",
      "plotly.validators.carpet.stream._token \n",
      "plotly.validators.choropleth._stream \n",
      "plotly.validators.choropleth.stream \n",
      "plotly.validators.choropleth.stream._maxpoints \n",
      "plotly.validators.choropleth.stream._token \n",
      "plotly.validators.choroplethmapbox._stream \n",
      "plotly.validators.choroplethmapbox.stream \n",
      "plotly.validators.choroplethmapbox.stream._maxpoints \n",
      "plotly.validators.choroplethmapbox.stream._token \n",
      "plotly.validators.cone._stream \n",
      "plotly.validators.cone.stream \n",
      "plotly.validators.cone.stream._maxpoints \n",
      "plotly.validators.cone.stream._token \n",
      "plotly.validators.contour._stream \n",
      "plotly.validators.contour.stream \n",
      "plotly.validators.contour.stream._maxpoints \n",
      "plotly.validators.contour.stream._token \n",
      "plotly.validators.contourcarpet._stream \n",
      "plotly.validators.contourcarpet.stream \n",
      "plotly.validators.contourcarpet.stream._maxpoints \n",
      "plotly.validators.contourcarpet.stream._token \n",
      "plotly.validators.densitymapbox._stream \n",
      "plotly.validators.densitymapbox.stream \n",
      "plotly.validators.densitymapbox.stream._maxpoints \n",
      "plotly.validators.densitymapbox.stream._token \n",
      "plotly.validators.funnel._stream \n",
      "plotly.validators.funnel.stream \n",
      "plotly.validators.funnel.stream._maxpoints \n",
      "plotly.validators.funnel.stream._token \n",
      "plotly.validators.funnelarea._stream \n",
      "plotly.validators.funnelarea.stream \n",
      "plotly.validators.funnelarea.stream._maxpoints \n",
      "plotly.validators.funnelarea.stream._token \n",
      "plotly.validators.heatmap._stream \n",
      "plotly.validators.heatmap.stream \n",
      "plotly.validators.heatmap.stream._maxpoints \n",
      "plotly.validators.heatmap.stream._token \n",
      "plotly.validators.heatmapgl._stream \n",
      "plotly.validators.heatmapgl.stream \n",
      "plotly.validators.heatmapgl.stream._maxpoints \n",
      "plotly.validators.heatmapgl.stream._token \n",
      "plotly.validators.histogram._stream \n",
      "plotly.validators.histogram.stream \n",
      "plotly.validators.histogram.stream._maxpoints \n",
      "plotly.validators.histogram.stream._token \n",
      "plotly.validators.histogram2d._stream \n",
      "plotly.validators.histogram2d.stream \n",
      "plotly.validators.histogram2d.stream._maxpoints \n",
      "plotly.validators.histogram2d.stream._token \n",
      "plotly.validators.histogram2dcontour._stream \n",
      "plotly.validators.histogram2dcontour.stream \n",
      "plotly.validators.histogram2dcontour.stream._maxpoints \n",
      "plotly.validators.histogram2dcontour.stream._token \n",
      "plotly.validators.image._stream \n",
      "plotly.validators.image.stream \n",
      "plotly.validators.image.stream._maxpoints \n",
      "plotly.validators.image.stream._token \n",
      "plotly.validators.indicator._stream \n",
      "plotly.validators.indicator.stream \n",
      "plotly.validators.indicator.stream._maxpoints \n",
      "plotly.validators.indicator.stream._token \n",
      "plotly.validators.isosurface._stream \n",
      "plotly.validators.isosurface.stream \n",
      "plotly.validators.isosurface.stream._maxpoints \n",
      "plotly.validators.isosurface.stream._token \n",
      "plotly.validators.layout.template.data._streamtube \n",
      "plotly.validators.mesh3d._stream \n",
      "plotly.validators.mesh3d.stream \n",
      "plotly.validators.mesh3d.stream._maxpoints \n",
      "plotly.validators.mesh3d.stream._token \n",
      "plotly.validators.ohlc._stream \n",
      "plotly.validators.ohlc.stream \n",
      "plotly.validators.ohlc.stream._maxpoints \n",
      "plotly.validators.ohlc.stream._token \n",
      "plotly.validators.parcats._stream \n",
      "plotly.validators.parcats.stream \n",
      "plotly.validators.parcats.stream._maxpoints \n",
      "plotly.validators.parcats.stream._token \n",
      "plotly.validators.parcoords._stream \n",
      "plotly.validators.parcoords.stream \n",
      "plotly.validators.parcoords.stream._maxpoints \n",
      "plotly.validators.parcoords.stream._token \n",
      "plotly.validators.pie._stream \n",
      "plotly.validators.pie.stream \n",
      "plotly.validators.pie.stream._maxpoints \n",
      "plotly.validators.pie.stream._token \n",
      "plotly.validators.pointcloud._stream \n",
      "plotly.validators.pointcloud.stream \n",
      "plotly.validators.pointcloud.stream._maxpoints \n",
      "plotly.validators.pointcloud.stream._token \n",
      "plotly.validators.sankey._stream \n",
      "plotly.validators.sankey.stream \n",
      "plotly.validators.sankey.stream._maxpoints \n",
      "plotly.validators.sankey.stream._token \n",
      "plotly.validators.scatter._stream \n",
      "plotly.validators.scatter.stream \n",
      "plotly.validators.scatter.stream._maxpoints \n",
      "plotly.validators.scatter.stream._token \n",
      "plotly.validators.scatter3d._stream \n",
      "plotly.validators.scatter3d.stream \n",
      "plotly.validators.scatter3d.stream._maxpoints \n",
      "plotly.validators.scatter3d.stream._token \n",
      "plotly.validators.scattercarpet._stream \n",
      "plotly.validators.scattercarpet.stream \n",
      "plotly.validators.scattercarpet.stream._maxpoints \n",
      "plotly.validators.scattercarpet.stream._token \n",
      "plotly.validators.scattergeo._stream \n",
      "plotly.validators.scattergeo.stream \n",
      "plotly.validators.scattergeo.stream._maxpoints \n",
      "plotly.validators.scattergeo.stream._token \n",
      "plotly.validators.scattergl._stream \n",
      "plotly.validators.scattergl.stream \n",
      "plotly.validators.scattergl.stream._maxpoints \n",
      "plotly.validators.scattergl.stream._token \n",
      "plotly.validators.scattermapbox._stream \n",
      "plotly.validators.scattermapbox.stream \n",
      "plotly.validators.scattermapbox.stream._maxpoints \n",
      "plotly.validators.scattermapbox.stream._token \n",
      "plotly.validators.scatterpolar._stream \n",
      "plotly.validators.scatterpolar.stream \n",
      "plotly.validators.scatterpolar.stream._maxpoints \n",
      "plotly.validators.scatterpolar.stream._token \n",
      "plotly.validators.scatterpolargl._stream \n",
      "plotly.validators.scatterpolargl.stream \n",
      "plotly.validators.scatterpolargl.stream._maxpoints \n",
      "plotly.validators.scatterpolargl.stream._token \n",
      "plotly.validators.scatterternary._stream \n",
      "plotly.validators.scatterternary.stream \n",
      "plotly.validators.scatterternary.stream._maxpoints \n",
      "plotly.validators.scatterternary.stream._token \n",
      "plotly.validators.splom._stream \n",
      "plotly.validators.splom.stream \n",
      "plotly.validators.splom.stream._maxpoints \n",
      "plotly.validators.splom.stream._token \n",
      "plotly.validators.streamtube \n",
      "plotly.validators.streamtube._autocolorscale \n",
      "plotly.validators.streamtube._cauto \n",
      "plotly.validators.streamtube._cmax \n",
      "plotly.validators.streamtube._cmid \n",
      "plotly.validators.streamtube._cmin \n",
      "plotly.validators.streamtube._coloraxis \n",
      "plotly.validators.streamtube._colorbar \n",
      "plotly.validators.streamtube._colorscale \n",
      "plotly.validators.streamtube._customdata \n",
      "plotly.validators.streamtube._customdatasrc \n",
      "plotly.validators.streamtube._hoverinfo \n",
      "plotly.validators.streamtube._hoverinfosrc \n",
      "plotly.validators.streamtube._hoverlabel \n",
      "plotly.validators.streamtube._hovertemplate \n",
      "plotly.validators.streamtube._hovertemplatesrc \n",
      "plotly.validators.streamtube._hovertext \n",
      "plotly.validators.streamtube._ids \n",
      "plotly.validators.streamtube._idssrc \n",
      "plotly.validators.streamtube._legendgroup \n",
      "plotly.validators.streamtube._lighting \n",
      "plotly.validators.streamtube._lightposition \n",
      "plotly.validators.streamtube._maxdisplayed \n",
      "plotly.validators.streamtube._meta \n",
      "plotly.validators.streamtube._metasrc \n",
      "plotly.validators.streamtube._name \n",
      "plotly.validators.streamtube._opacity \n",
      "plotly.validators.streamtube._reversescale \n",
      "plotly.validators.streamtube._scene \n",
      "plotly.validators.streamtube._showlegend \n",
      "plotly.validators.streamtube._showscale \n",
      "plotly.validators.streamtube._sizeref \n",
      "plotly.validators.streamtube._starts \n",
      "plotly.validators.streamtube._stream \n",
      "plotly.validators.streamtube._text \n",
      "plotly.validators.streamtube._u \n",
      "plotly.validators.streamtube._uid \n",
      "plotly.validators.streamtube._uirevision \n",
      "plotly.validators.streamtube._usrc \n",
      "plotly.validators.streamtube._v \n",
      "plotly.validators.streamtube._visible \n",
      "plotly.validators.streamtube._vsrc \n",
      "plotly.validators.streamtube._w \n"
     ]
    },
    {
     "name": "stdout",
     "output_type": "stream",
     "text": [
      "plotly.validators.streamtube._wsrc \n",
      "plotly.validators.streamtube._x \n",
      "plotly.validators.streamtube._xsrc \n",
      "plotly.validators.streamtube._y \n",
      "plotly.validators.streamtube._ysrc \n",
      "plotly.validators.streamtube._z \n",
      "plotly.validators.streamtube._zsrc \n",
      "plotly.validators.streamtube.colorbar \n",
      "plotly.validators.streamtube.colorbar._bgcolor \n",
      "plotly.validators.streamtube.colorbar._bordercolor \n",
      "plotly.validators.streamtube.colorbar._borderwidth \n",
      "plotly.validators.streamtube.colorbar._dtick \n",
      "plotly.validators.streamtube.colorbar._exponentformat \n",
      "plotly.validators.streamtube.colorbar._len \n",
      "plotly.validators.streamtube.colorbar._lenmode \n",
      "plotly.validators.streamtube.colorbar._minexponent \n",
      "plotly.validators.streamtube.colorbar._nticks \n",
      "plotly.validators.streamtube.colorbar._outlinecolor \n",
      "plotly.validators.streamtube.colorbar._outlinewidth \n",
      "plotly.validators.streamtube.colorbar._separatethousands \n",
      "plotly.validators.streamtube.colorbar._showexponent \n",
      "plotly.validators.streamtube.colorbar._showticklabels \n",
      "plotly.validators.streamtube.colorbar._showtickprefix \n",
      "plotly.validators.streamtube.colorbar._showticksuffix \n",
      "plotly.validators.streamtube.colorbar._thickness \n",
      "plotly.validators.streamtube.colorbar._thicknessmode \n",
      "plotly.validators.streamtube.colorbar._tick0 \n",
      "plotly.validators.streamtube.colorbar._tickangle \n",
      "plotly.validators.streamtube.colorbar._tickcolor \n",
      "plotly.validators.streamtube.colorbar._tickfont \n",
      "plotly.validators.streamtube.colorbar._tickformat \n",
      "plotly.validators.streamtube.colorbar._tickformatstopdefaults \n",
      "plotly.validators.streamtube.colorbar._tickformatstops \n",
      "plotly.validators.streamtube.colorbar._ticklabelposition \n",
      "plotly.validators.streamtube.colorbar._ticklen \n",
      "plotly.validators.streamtube.colorbar._tickmode \n",
      "plotly.validators.streamtube.colorbar._tickprefix \n",
      "plotly.validators.streamtube.colorbar._ticks \n",
      "plotly.validators.streamtube.colorbar._ticksuffix \n",
      "plotly.validators.streamtube.colorbar._ticktext \n",
      "plotly.validators.streamtube.colorbar._ticktextsrc \n",
      "plotly.validators.streamtube.colorbar._tickvals \n",
      "plotly.validators.streamtube.colorbar._tickvalssrc \n",
      "plotly.validators.streamtube.colorbar._tickwidth \n",
      "plotly.validators.streamtube.colorbar._title \n",
      "plotly.validators.streamtube.colorbar._x \n",
      "plotly.validators.streamtube.colorbar._xanchor \n",
      "plotly.validators.streamtube.colorbar._xpad \n",
      "plotly.validators.streamtube.colorbar._y \n",
      "plotly.validators.streamtube.colorbar._yanchor \n",
      "plotly.validators.streamtube.colorbar._ypad \n",
      "plotly.validators.streamtube.colorbar.tickfont \n",
      "plotly.validators.streamtube.colorbar.tickfont._color \n",
      "plotly.validators.streamtube.colorbar.tickfont._family \n",
      "plotly.validators.streamtube.colorbar.tickfont._size \n",
      "plotly.validators.streamtube.colorbar.tickformatstop \n",
      "plotly.validators.streamtube.colorbar.tickformatstop._dtickrange \n",
      "plotly.validators.streamtube.colorbar.tickformatstop._enabled \n",
      "plotly.validators.streamtube.colorbar.tickformatstop._name \n",
      "plotly.validators.streamtube.colorbar.tickformatstop._templateitemname \n",
      "plotly.validators.streamtube.colorbar.tickformatstop._value \n",
      "plotly.validators.streamtube.colorbar.title \n",
      "plotly.validators.streamtube.colorbar.title._font \n",
      "plotly.validators.streamtube.colorbar.title._side \n",
      "plotly.validators.streamtube.colorbar.title._text \n",
      "plotly.validators.streamtube.colorbar.title.font \n",
      "plotly.validators.streamtube.colorbar.title.font._color \n",
      "plotly.validators.streamtube.colorbar.title.font._family \n",
      "plotly.validators.streamtube.colorbar.title.font._size \n",
      "plotly.validators.streamtube.hoverlabel \n",
      "plotly.validators.streamtube.hoverlabel._align \n",
      "plotly.validators.streamtube.hoverlabel._alignsrc \n",
      "plotly.validators.streamtube.hoverlabel._bgcolor \n",
      "plotly.validators.streamtube.hoverlabel._bgcolorsrc \n",
      "plotly.validators.streamtube.hoverlabel._bordercolor \n",
      "plotly.validators.streamtube.hoverlabel._bordercolorsrc \n",
      "plotly.validators.streamtube.hoverlabel._font \n",
      "plotly.validators.streamtube.hoverlabel._namelength \n",
      "plotly.validators.streamtube.hoverlabel._namelengthsrc \n",
      "plotly.validators.streamtube.hoverlabel.font \n",
      "plotly.validators.streamtube.hoverlabel.font._color \n",
      "plotly.validators.streamtube.hoverlabel.font._colorsrc \n",
      "plotly.validators.streamtube.hoverlabel.font._family \n",
      "plotly.validators.streamtube.hoverlabel.font._familysrc \n",
      "plotly.validators.streamtube.hoverlabel.font._size \n",
      "plotly.validators.streamtube.hoverlabel.font._sizesrc \n",
      "plotly.validators.streamtube.lighting \n",
      "plotly.validators.streamtube.lighting._ambient \n",
      "plotly.validators.streamtube.lighting._diffuse \n",
      "plotly.validators.streamtube.lighting._facenormalsepsilon \n",
      "plotly.validators.streamtube.lighting._fresnel \n",
      "plotly.validators.streamtube.lighting._roughness \n",
      "plotly.validators.streamtube.lighting._specular \n",
      "plotly.validators.streamtube.lighting._vertexnormalsepsilon \n",
      "plotly.validators.streamtube.lightposition \n",
      "plotly.validators.streamtube.lightposition._x \n",
      "plotly.validators.streamtube.lightposition._y \n",
      "plotly.validators.streamtube.lightposition._z \n",
      "plotly.validators.streamtube.starts \n",
      "plotly.validators.streamtube.starts._x \n",
      "plotly.validators.streamtube.starts._xsrc \n",
      "plotly.validators.streamtube.starts._y \n",
      "plotly.validators.streamtube.starts._ysrc \n",
      "plotly.validators.streamtube.starts._z \n",
      "plotly.validators.streamtube.starts._zsrc \n",
      "plotly.validators.streamtube.stream \n",
      "plotly.validators.streamtube.stream._maxpoints \n",
      "plotly.validators.streamtube.stream._token \n",
      "plotly.validators.sunburst._stream \n",
      "plotly.validators.sunburst.stream \n",
      "plotly.validators.sunburst.stream._maxpoints \n",
      "plotly.validators.sunburst.stream._token \n",
      "plotly.validators.surface._stream \n",
      "plotly.validators.surface.stream \n",
      "plotly.validators.surface.stream._maxpoints \n",
      "plotly.validators.surface.stream._token \n",
      "plotly.validators.table._stream \n",
      "plotly.validators.table.stream \n",
      "plotly.validators.table.stream._maxpoints \n",
      "plotly.validators.table.stream._token \n",
      "plotly.validators.treemap._stream \n",
      "plotly.validators.treemap.stream \n",
      "plotly.validators.treemap.stream._maxpoints \n",
      "plotly.validators.treemap.stream._token \n",
      "plotly.validators.violin._stream \n",
      "plotly.validators.violin.stream \n",
      "plotly.validators.violin.stream._maxpoints \n",
      "plotly.validators.violin.stream._token \n",
      "plotly.validators.volume._stream \n",
      "plotly.validators.volume.stream \n",
      "plotly.validators.volume.stream._maxpoints \n",
      "plotly.validators.volume.stream._token \n",
      "plotly.validators.waterfall._stream \n",
      "plotly.validators.waterfall.stream \n",
      "plotly.validators.waterfall.stream._maxpoints \n",
      "plotly.validators.waterfall.stream._token \n",
      "prompt_toolkit.input.vt100_parser - Parser for VT100 input stream.\n",
      "tornado.iostream - Utility classes to write to and read from non-blocking files and sockets.\n",
      "win32com.test.testStreams \n",
      "zmq.eventloop.zmqstream - A utility class to send to and recv from a non-blocking socket,\n"
     ]
    }
   ],
   "source": [
    "!pydoc -k stream"
   ]
  },
  {
   "cell_type": "code",
   "execution_count": null,
   "metadata": {},
   "outputs": [],
   "source": []
  }
 ],
 "metadata": {
  "kernelspec": {
   "display_name": "Python 3 (ipykernel)",
   "language": "python",
   "name": "python3"
  },
  "language_info": {
   "codemirror_mode": {
    "name": "ipython",
    "version": 3
   },
   "file_extension": ".py",
   "mimetype": "text/x-python",
   "name": "python",
   "nbconvert_exporter": "python",
   "pygments_lexer": "ipython3",
   "version": "3.8.11"
  }
 },
 "nbformat": 4,
 "nbformat_minor": 2
}
