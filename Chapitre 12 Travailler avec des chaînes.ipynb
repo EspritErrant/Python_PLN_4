{
 "cells": [
  {
   "cell_type": "markdown",
   "metadata": {},
   "source": [
    "# Comprendre que les chaînes sont différentes"
   ]
  },
  {
   "cell_type": "markdown",
   "metadata": {},
   "source": [
    "## Utiliser des caractères pour créer des chaînes"
   ]
  },
  {
   "cell_type": "code",
   "execution_count": 1,
   "metadata": {},
   "outputs": [
    {
     "name": "stdout",
     "output_type": "stream",
     "text": [
      "Bonjour la Terre(Apostrophes simples)!\n",
      "Bonjour la Terre (Guillemets)!\n",
      "Ceci est une ligne multiple\n",
      "utilisant trois guillemets,\n",
      "mais vous pourriez également utiliser trois apostrophes simples.\n"
     ]
    }
   ],
   "source": [
    "print('Bonjour la Terre(Apostrophes simples)!')\n",
    "print(\"Bonjour la Terre (Guillemets)!\")\n",
    "print(\"\"\"Ceci est une ligne multiple\n",
    "utilisant trois guillemets,\n",
    "mais vous pourriez également utiliser trois apostrophes simples.\"\"\")"
   ]
  },
  {
   "cell_type": "markdown",
   "metadata": {},
   "source": [
    "# Créer des chaînes comportant des caractères spéciaux"
   ]
  },
  {
   "cell_type": "code",
   "execution_count": 2,
   "metadata": {},
   "outputs": [
    {
     "name": "stdout",
     "output_type": "stream",
     "text": [
      "Une partie de ce texte\r\n",
      "se trouve sur la ligne suivante.\n",
      "Ceci est un A avec un accent grave : À.\n",
      "Ceci est un caractère dessiné : ╢.\n",
      "Et voici un retour chariot: ¶.\n",
      "Ceci est le signe de la division : ÷.\n"
     ]
    }
   ],
   "source": [
    "print(\"Une partie de ce texte\\r\\nse trouve sur la ligne suivante.\")\n",
    "print(\"Ceci est un A avec un accent grave : \\xC0.\")\n",
    "print(\"Ceci est un caractère dessiné : \\u2562.\")\n",
    "print(\"Et voici un retour chariot: \\266.\")\n",
    "print(\"Ceci est le signe de la division : \\xF7.\")"
   ]
  },
  {
   "cell_type": "markdown",
   "metadata": {},
   "source": [
    "# Sélectionner des caractères individuels"
   ]
  },
  {
   "cell_type": "code",
   "execution_count": 3,
   "metadata": {},
   "outputs": [
    {
     "name": "stdout",
     "output_type": "stream",
     "text": [
      "B\n",
      "Bonjo\n",
      "Bonjo\n",
      "r la Terre\n",
      "BonjouIci Py\n",
      "Ici PytIci PytIci PytIci PytIci Pyt\n"
     ]
    }
   ],
   "source": [
    "String1 = \"Bonjour la Terre\"\n",
    "String2 = \"Ici Python\"\n",
    "print(String1[0])\n",
    "print(String1[0:5])\n",
    "print(String1[:5])\n",
    "print(String1[6:])\n",
    "String3 = String1[:6] + String2[:6]\n",
    "print(String3)\n",
    "print(String2[:7]*5)"
   ]
  },
  {
   "cell_type": "markdown",
   "metadata": {},
   "source": [
    "# Trancher et couper les chaînes de caractères"
   ]
  },
  {
   "cell_type": "code",
   "execution_count": 4,
   "metadata": {},
   "outputs": [
    {
     "name": "stdout",
     "output_type": "stream",
     "text": [
      "  BONJOUR LA TERRE  \n",
      "Bonjour la Terre\n",
      "*  Bonjour la Terre  \n",
      "***Bonjour la Terre**\n",
      "False\n",
      "False\n",
      "u\n",
      "['Bonjour', 'la', 'Terre']\n",
      "Bonjour\n"
     ]
    }
   ],
   "source": [
    "MyString = \"  Bonjour la Terre  \"\n",
    "print(MyString.upper())\n",
    "print(MyString.strip())\n",
    "print(MyString.center(21, \"*\"))\n",
    "print(MyString.strip().center(21, \"*\"))\n",
    "print(MyString.isdigit())\n",
    "print(MyString.istitle())\n",
    "print(max(MyString))\n",
    "print(MyString.split())\n",
    "print(MyString.split()[0])"
   ]
  },
  {
   "cell_type": "markdown",
   "metadata": {},
   "source": [
    "# Localiser une valeur dans une chaîne"
   ]
  },
  {
   "cell_type": "code",
   "execution_count": 5,
   "metadata": {},
   "outputs": [
    {
     "name": "stdout",
     "output_type": "stream",
     "text": [
      "9\n",
      "33\n",
      "2\n",
      "True\n",
      "False\n",
      "La voiture est rouge et la camionnette est verte !\n"
     ]
    }
   ],
   "source": [
    "SearchMe = \"La pomme est rouge et la luzerne est verte !\"\n",
    "print(SearchMe.find(\"est\"))\n",
    "print(SearchMe.rfind(\"est\"))\n",
    "print(SearchMe.count(\"est\"))\n",
    "print(SearchMe.startswith(\"La\"))\n",
    "print(SearchMe.endswith(\"La\"))\n",
    "print(SearchMe.replace(\"pomme\", \"voiture\")\n",
    "      .replace(\"luzerne\", \"camionnette\"))"
   ]
  },
  {
   "cell_type": "markdown",
   "metadata": {},
   "source": [
    "# Utilisation de l’interpolation des chaînes de caractères"
   ]
  },
  {
   "cell_type": "markdown",
   "metadata": {},
   "source": [
    "## Utiliser l’opérateur % (modulo)"
   ]
  },
  {
   "cell_type": "code",
   "execution_count": 6,
   "metadata": {},
   "outputs": [
    {
     "name": "stdout",
     "output_type": "stream",
     "text": [
      "a est la minuscule de A\n",
      "Les violets sont des bleus\n",
      "60 est égal à 0x3c en hexadécimal\n"
     ]
    }
   ],
   "source": [
    "print(\"%c est la minuscule de %c\" %('a', 65))\n",
    "print(\"%s sont %s\" %(\"Les violets\", \"des bleus\"))\n",
    "print(\"%d est égal à %#x en hexadécimal\" %(60, 60))"
   ]
  },
  {
   "cell_type": "code",
   "execution_count": 7,
   "metadata": {},
   "outputs": [
    {
     "name": "stdout",
     "output_type": "stream",
     "text": [
      " 1.000000e+02 est plus petit que INF.\n",
      "100.000 est plus petit que inf.\n",
      "00100\n"
     ]
    }
   ],
   "source": [
    "Valeur1 = 100\n",
    "Valeur2 = float('inf')\n",
    "print('% e est plus petit que %E.' %(Valeur1, Valeur2))\n",
    "print(\"%.3F est plus petit que %.2f.\" %(Valeur1, Valeur2))\n",
    "print(\"%05d\" %Valeur1)"
   ]
  },
  {
   "cell_type": "code",
   "execution_count": 8,
   "metadata": {},
   "outputs": [
    {
     "name": "stdout",
     "output_type": "stream",
     "text": [
      "Monique occupe la fonction de Designer dans le service Ingénierie.\n",
      "Samuel occupe la fonction de Programmeur dans le service DSI.\n"
     ]
    }
   ],
   "source": [
    "Employes = {\n",
    "    'Monique': {\n",
    "        'Fonction': \"Designer\",\n",
    "        'Nom': \"Monique\",\n",
    "        'Departement': \"Ingénierie\"\n",
    "    },\n",
    "    'Samuel': {\n",
    "        'Fonction': \"Programmeur\",\n",
    "        'Nom': \"Samuel\",\n",
    "        'Departement': \"DSI\"\n",
    "    }\n",
    "}\n",
    "\n",
    "for Item in Employes:\n",
    "    print(\"%(Nom)s occupe la fonction de %(Fonction)s dans le service \" \\\n",
    "        \"%(Departement)s.\" %Employes[Item])"
   ]
  },
  {
   "cell_type": "markdown",
   "metadata": {},
   "source": [
    "## Travailler avec la fonction format()"
   ]
  },
  {
   "cell_type": "code",
   "execution_count": 9,
   "metadata": {},
   "outputs": [
    {
     "name": "stdout",
     "output_type": "stream",
     "text": [
      "7000\n",
      "7,000\n",
      "     7,000     \n",
      "*****7,000*****\n",
      "****7000.00****\n",
      "***********1B58\n",
      "0x1b58*********\n",
      "Une voiture rouge et un camion rouge.\n"
     ]
    }
   ],
   "source": [
    "Formatted = \"{:d}\"\n",
    "print(Formatted.format(7000))\n",
    "Formatted = \"{:,d}\"\n",
    "print(Formatted.format(7000))\n",
    "Formatted = \"{:^15,d}\"\n",
    "print(Formatted.format(7000))\n",
    "Formatted = \"{:*^15,d}\"\n",
    "print(Formatted.format(7000))\n",
    "Formatted = \"{:*^15.2f}\"\n",
    "print(Formatted.format(7000))\n",
    "Formatted = \"{:*>15X}\"\n",
    "print(Formatted.format(7000))\n",
    "Formatted = \"{:*<#15x}\"\n",
    "print(Formatted.format(7000))\n",
    "Formatted = \"Une {1} {0} et un {2} {0}.\"\n",
    "print(Formatted.format(\"rouge\", \"voiture\", \"camion\"))"
   ]
  },
  {
   "cell_type": "markdown",
   "metadata": {
    "collapsed": true
   },
   "source": [
    "## Simplifier les choses en utilisant f-string"
   ]
  },
  {
   "cell_type": "code",
   "execution_count": 10,
   "metadata": {},
   "outputs": [
    {
     "name": "stdout",
     "output_type": "stream",
     "text": [
      "Valeur1 a une valeur de 22.\n",
      "22 + 33 = 55.\n",
      "Cette valeur :    22    est centrée.\n",
      "Valeur1 a une valeur hexadécimale de 16.\n"
     ]
    }
   ],
   "source": [
    "Valeur1 = 22\n",
    "Valeur2 = 33\n",
    "print(f\"Valeur1 a une valeur de {Valeur1}.\")\n",
    "print(f\"{Valeur1} + {Valeur2} = {Valeur1 + Valeur2}.\")\n",
    "print(f\"Cette valeur : {str(Valeur1).center(8)} est centrée.\")\n",
    "print(f\"Valeur1 a une valeur hexadécimale de {Valeur1:x}.\")"
   ]
  },
  {
   "cell_type": "markdown",
   "metadata": {},
   "source": [
    "## Créer et employer des modèles de chaînes"
   ]
  },
  {
   "cell_type": "code",
   "execution_count": 13,
   "metadata": {},
   "outputs": [
    {
     "name": "stdout",
     "output_type": "stream",
     "text": [
      "1 + 2 = 3\n"
     ]
    }
   ],
   "source": [
    "from string import Template\n",
    "X = 1\n",
    "Y = 2\n",
    "Sommes = Template(\"$Valeur1 + $Valeur2 = $Valeur3\")\n",
    "print(Sommes.substitute(Valeur1 = X, Valeur2 = Y, Valeur3 = X + Y))"
   ]
  },
  {
   "cell_type": "code",
   "execution_count": 14,
   "metadata": {},
   "outputs": [
    {
     "name": "stdout",
     "output_type": "stream",
     "text": [
      "A + 5a = True\n"
     ]
    }
   ],
   "source": [
    "print(Sommes.substitute(Valeur1 = 'A', Valeur2 = \"{:x}\".format(90), Valeur3 = True))"
   ]
  },
  {
   "cell_type": "code",
   "execution_count": null,
   "metadata": {},
   "outputs": [],
   "source": []
  }
 ],
 "metadata": {
  "kernelspec": {
   "display_name": "Python 3 (ipykernel)",
   "language": "python",
   "name": "python3"
  },
  "language_info": {
   "codemirror_mode": {
    "name": "ipython",
    "version": 3
   },
   "file_extension": ".py",
   "mimetype": "text/x-python",
   "name": "python",
   "nbconvert_exporter": "python",
   "pygments_lexer": "ipython3",
   "version": "3.8.11"
  }
 },
 "nbformat": 4,
 "nbformat_minor": 2
}
