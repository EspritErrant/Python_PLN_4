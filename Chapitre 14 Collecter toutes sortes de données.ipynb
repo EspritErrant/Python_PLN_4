{
 "cells": [
  {
   "cell_type": "markdown",
   "metadata": {},
   "source": [
    "# Travailler avec les tuples"
   ]
  },
  {
   "cell_type": "code",
   "execution_count": 1,
   "metadata": {
    "scrolled": true
   },
   "outputs": [
    {
     "data": {
      "text/plain": [
       "('Rouge', 'Bleu', 'Vert')"
      ]
     },
     "execution_count": 1,
     "metadata": {},
     "output_type": "execute_result"
    }
   ],
   "source": [
    "MyTuple = (\"Rouge\", \"Bleu\", \"Vert\")\n",
    "MyTuple"
   ]
  },
  {
   "cell_type": "code",
   "execution_count": 2,
   "metadata": {},
   "outputs": [
    {
     "name": "stdout",
     "output_type": "stream",
     "text": [
      "['__add__', '__class__', '__contains__', '__delattr__', '__dir__', '__doc__', '__eq__', '__format__', '__ge__', '__getattribute__', '__getitem__', '__getnewargs__', '__gt__', '__hash__', '__init__', '__init_subclass__', '__iter__', '__le__', '__len__', '__lt__', '__mul__', '__ne__', '__new__', '__reduce__', '__reduce_ex__', '__repr__', '__rmul__', '__setattr__', '__sizeof__', '__str__', '__subclasshook__', 'count', 'index']\n"
     ]
    }
   ],
   "source": [
    "print(dir(MyTuple))"
   ]
  },
  {
   "cell_type": "code",
   "execution_count": 3,
   "metadata": {
    "scrolled": false
   },
   "outputs": [
    {
     "data": {
      "text/plain": [
       "('Rouge', 'Bleu', 'Vert', 'Violet')"
      ]
     },
     "execution_count": 3,
     "metadata": {},
     "output_type": "execute_result"
    }
   ],
   "source": [
    "MyTuple = MyTuple.__add__((\"Violet\",))\n",
    "MyTuple"
   ]
  },
  {
   "cell_type": "code",
   "execution_count": 4,
   "metadata": {},
   "outputs": [
    {
     "data": {
      "text/plain": [
       "'Jaune'"
      ]
     },
     "execution_count": 4,
     "metadata": {},
     "output_type": "execute_result"
    }
   ],
   "source": [
    "MyTuple = MyTuple.__add__((\"Jaune\", \n",
    "                          (\"Orange\", \"Noir\")))\n",
    "MyTuple[4]"
   ]
  },
  {
   "cell_type": "code",
   "execution_count": 5,
   "metadata": {},
   "outputs": [
    {
     "data": {
      "text/plain": [
       "('Orange', 'Noir')"
      ]
     },
     "execution_count": 5,
     "metadata": {},
     "output_type": "execute_result"
    }
   ],
   "source": [
    "MyTuple[5]"
   ]
  },
  {
   "cell_type": "code",
   "execution_count": 6,
   "metadata": {},
   "outputs": [
    {
     "data": {
      "text/plain": [
       "True"
      ]
     },
     "execution_count": 6,
     "metadata": {},
     "output_type": "execute_result"
    }
   ],
   "source": [
    "type(MyTuple[5]) == tuple"
   ]
  },
  {
   "cell_type": "code",
   "execution_count": 7,
   "metadata": {},
   "outputs": [
    {
     "data": {
      "text/plain": [
       "'Orange'"
      ]
     },
     "execution_count": 7,
     "metadata": {},
     "output_type": "execute_result"
    }
   ],
   "source": [
    "MyTuple[5][0]"
   ]
  },
  {
   "cell_type": "markdown",
   "metadata": {},
   "source": [
    "# Travailler avec les dictionnaires"
   ]
  },
  {
   "cell_type": "markdown",
   "metadata": {},
   "source": [
    "## Créer et utiliser un dictionnaire"
   ]
  },
  {
   "cell_type": "code",
   "execution_count": 8,
   "metadata": {},
   "outputs": [
    {
     "data": {
      "text/plain": [
       "{'Sam': 'Bleu', 'Annie': 'Rouge', 'Sarah': 'Jaune'}"
      ]
     },
     "execution_count": 8,
     "metadata": {},
     "output_type": "execute_result"
    }
   ],
   "source": [
    "Colors = {\"Sam\": \"Bleu\", \"Annie\": \"Rouge\",\n",
    "          \"Sarah\": \"Jaune\"}\n",
    "Colors"
   ]
  },
  {
   "cell_type": "code",
   "execution_count": 9,
   "metadata": {},
   "outputs": [
    {
     "data": {
      "text/plain": [
       "'Jaune'"
      ]
     },
     "execution_count": 9,
     "metadata": {},
     "output_type": "execute_result"
    }
   ],
   "source": [
    "Colors[\"Sarah\"]"
   ]
  },
  {
   "cell_type": "code",
   "execution_count": 10,
   "metadata": {},
   "outputs": [
    {
     "data": {
      "text/plain": [
       "dict_keys(['Sam', 'Annie', 'Sarah'])"
      ]
     },
     "execution_count": 10,
     "metadata": {},
     "output_type": "execute_result"
    }
   ],
   "source": [
    "Colors.keys()"
   ]
  },
  {
   "cell_type": "code",
   "execution_count": 11,
   "metadata": {},
   "outputs": [
    {
     "name": "stdout",
     "output_type": "stream",
     "text": [
      "Sam aime la couleur Bleu.\n",
      "Annie aime la couleur Rouge.\n",
      "Sarah aime la couleur Jaune.\n"
     ]
    }
   ],
   "source": [
    "for Item in Colors.keys():\n",
    "    print(\"{0} aime la couleur {1}.\"\n",
    "          .format(Item, Colors[Item]))"
   ]
  },
  {
   "cell_type": "code",
   "execution_count": 12,
   "metadata": {},
   "outputs": [
    {
     "name": "stdout",
     "output_type": "stream",
     "text": [
      "Sam aime la couleur Bleu.\n",
      "Annie aime la couleur Rouge.\n",
      "Sarah aime la couleur Violet.\n",
      "Harry aime la couleur Orange.\n"
     ]
    }
   ],
   "source": [
    "Colors[\"Sarah\"] = \"Violet\"\n",
    "Colors.update({\"Harry\": \"Orange\"})\n",
    "for name, color in Colors.items():\n",
    "    print(\"{0} aime la couleur {1}.\"\n",
    "          .format(name, color))"
   ]
  },
  {
   "cell_type": "code",
   "execution_count": 13,
   "metadata": {},
   "outputs": [
    {
     "name": "stdout",
     "output_type": "stream",
     "text": [
      "Annie aime la couleur Rouge.\n",
      "Sarah aime la couleur Violet.\n",
      "Harry aime la couleur Orange.\n"
     ]
    }
   ],
   "source": [
    "del Colors[\"Sam\"]\n",
    "for name, color in Colors.items():\n",
    "    print(\"{0} aime la couleur {1}.\"\n",
    "          .format(name, color))"
   ]
  },
  {
   "cell_type": "code",
   "execution_count": 14,
   "metadata": {},
   "outputs": [
    {
     "data": {
      "text/plain": [
       "3"
      ]
     },
     "execution_count": 14,
     "metadata": {},
     "output_type": "execute_result"
    }
   ],
   "source": [
    "len(Colors)"
   ]
  },
  {
   "cell_type": "code",
   "execution_count": 15,
   "metadata": {},
   "outputs": [
    {
     "data": {
      "text/plain": [
       "0"
      ]
     },
     "execution_count": 15,
     "metadata": {},
     "output_type": "execute_result"
    }
   ],
   "source": [
    "Colors.clear()\n",
    "len(Colors)"
   ]
  },
  {
   "cell_type": "markdown",
   "metadata": {},
   "source": [
    "## Travailler avec des dictionnaires imbriqués"
   ]
  },
  {
   "cell_type": "code",
   "execution_count": 16,
   "metadata": {},
   "outputs": [
    {
     "data": {
      "text/plain": [
       "{'Propriétaire': 'Moi',\n",
       " 'Comptabilité': {151: 'Martha', 152: 'Jean'},\n",
       " 'Informatique': {251: 'Annie', 252: 'Albert'},\n",
       " 'Logistique': {351: 'Gilles', 352: 'Sylvie'}}"
      ]
     },
     "execution_count": 16,
     "metadata": {},
     "output_type": "execute_result"
    }
   ],
   "source": [
    "MonEntreprise = {\"Propriétaire\": \"Moi\",\n",
    "             \"Comptabilité\": {151: \"Martha\",\n",
    "                              152: \"Jean\"},\n",
    "             \"Informatique\": {251: \"Annie\",\n",
    "                              252: \"Albert\"},\n",
    "             \"Logistique\": {351: \"Gilles\",\n",
    "                            352: \"Sylvie\"}\n",
    "            }\n",
    "MonEntreprise"
   ]
  },
  {
   "cell_type": "code",
   "execution_count": 17,
   "metadata": {},
   "outputs": [
    {
     "name": "stdout",
     "output_type": "stream",
     "text": [
      "Moi est Propriétaire\n",
      "Le service Comptabilité est composé de :\n",
      "Martha est 151\n",
      "Jean est 152\n",
      "Le service Informatique est composé de :\n",
      "Annie est 251\n",
      "Albert est 252\n",
      "Le service Logistique est composé de :\n",
      "Gilles est 351\n",
      "Sylvie est 352\n"
     ]
    }
   ],
   "source": [
    "def DisplayDict(Dict):\n",
    "    for key, value in Dict.items():\n",
    "        if type(value) == dict:\n",
    "            print(f\"Le service {key} est composé de :\")\n",
    "            DisplayDict(value)\n",
    "        else:\n",
    "            print(f\"{value} est {key}\")\n",
    "\n",
    "DisplayDict(MonEntreprise)"
   ]
  },
  {
   "cell_type": "markdown",
   "metadata": {},
   "source": [
    "## Remplacer l’instruction switch par un dictionnaire"
   ]
  },
  {
   "cell_type": "code",
   "execution_count": 18,
   "metadata": {},
   "outputs": [
    {
     "name": "stdout",
     "output_type": "stream",
     "text": [
      "0. Bleu\n",
      "1. Rouge\n",
      "2. Orange\n",
      "3. Jaune\n",
      "4. Quitter\n",
      "Sélectionnez une option de couleur : 0\n",
      "Vous avez choisi bleu !\n",
      "\n",
      "0. Bleu\n",
      "1. Rouge\n",
      "2. Orange\n",
      "3. Jaune\n",
      "4. Quitter\n",
      "Sélectionnez une option de couleur : 4\n"
     ]
    }
   ],
   "source": [
    "def PrintBleu():\n",
    "   print(\"Vous avez choisi bleu !\\r\\n\")\n",
    "def PrintRouge():\n",
    "   print(\"Vous avez choisi rouge !\\r\\n\")\n",
    "def PrintOrange():\n",
    "   print(\"Vous avez choisi orange !\\r\\n\")\n",
    "def PrintJaune():\n",
    "   print(\"Vous avez choisi jaune !\\r\\n\")\n",
    "\n",
    "ColorSelect = {\n",
    "   0: PrintBleu,\n",
    "   1: PrintRouge,\n",
    "   2: PrintOrange,\n",
    "   3: PrintJaune\n",
    "}\n",
    "\n",
    "Selection = 0\n",
    "while (Selection != 4):\n",
    "   print(\"0. Bleu\")\n",
    "   print(\"1. Rouge\")\n",
    "   print(\"2. Orange\")\n",
    "   print(\"3. Jaune\")\n",
    "   print(\"4. Quitter\")\n",
    "   Selection = int(input(\"Sélectionnez une option de couleur : \"))\n",
    "   if (Selection >= 0) and (Selection < 4):\n",
    "      ColorSelect[Selection]()"
   ]
  },
  {
   "cell_type": "markdown",
   "metadata": {},
   "source": [
    "# Créer des piles en utilisant des listes"
   ]
  },
  {
   "cell_type": "code",
   "execution_count": 19,
   "metadata": {},
   "outputs": [
    {
     "name": "stdout",
     "output_type": "stream",
     "text": [
      "1 ajouté\n",
      "2 ajouté\n",
      "3 ajouté\n",
      "État courant de la pile :\n",
      "1\n",
      "2\n",
      "3\n",
      "Appuyez sur une touche quand vous êtes prêt...\n",
      "La pile est pleine !\n",
      "État courant de la pile :\n",
      "1\n",
      "2\n",
      "3\n",
      "Appuyez sur une touche quand vous êtes prêt...\n",
      "3 supprimé de la pile\n",
      "État courant de la pile :\n",
      "1\n",
      "2\n",
      "Appuyez sur une touche quand vous êtes prêt...\n",
      "2 supprimé de la pile\n",
      "1 supprimé de la pile\n",
      "La pile est vide.\n",
      "État courant de la pile :\n"
     ]
    }
   ],
   "source": [
    "MyStack = []\n",
    "StackSize = 3\n",
    "def DisplayStack():\n",
    "   print(\"État courant de la pile :\")\n",
    "   for Item in MyStack:\n",
    "      print(Item)\n",
    "def Push(Value):\n",
    "   if len(MyStack) < StackSize:\n",
    "      MyStack.append(Value)\n",
    "      print(f\"{Value} ajouté\")\n",
    "   else:\n",
    "      print(\"La pile est pleine !\")\n",
    "def Pop():\n",
    "   if len(MyStack) > 0:\n",
    "      Removed = MyStack.pop()\n",
    "      print(f\"{Removed} supprimé de la pile\")\n",
    "   else:\n",
    "      print(\"La pile est vide.\")\n",
    "        \n",
    "Push(1)\n",
    "Push(2)\n",
    "Push(3)\n",
    "DisplayStack()\n",
    "input(\"Appuyez sur une touche quand vous êtes prêt...\")\n",
    "Push(4)\n",
    "DisplayStack()\n",
    "input(\"Appuyez sur une touche quand vous êtes prêt...\")\n",
    "Pop()\n",
    "DisplayStack()\n",
    "input(\"Appuyez sur une touche quand vous êtes prêt...\")\n",
    "Pop()\n",
    "Pop()\n",
    "Pop()\n",
    "DisplayStack()"
   ]
  },
  {
   "cell_type": "markdown",
   "metadata": {},
   "source": [
    "# Travailler avec les files"
   ]
  },
  {
   "cell_type": "code",
   "execution_count": 20,
   "metadata": {},
   "outputs": [
    {
     "name": "stdout",
     "output_type": "stream",
     "text": [
      "True\n",
      "Appuyez sur une touche quand vous êtes prêt...\n",
      "False\n",
      "Appuyez sur une touche quand vous êtes prêt...\n",
      "True\n",
      "Appuyez sur une touche quand vous êtes prêt...\n",
      "1\n",
      "False\n",
      "False\n",
      "Appuyez sur une touche quand vous êtes prêt...\n",
      "2\n",
      "3\n"
     ]
    }
   ],
   "source": [
    "import queue\n",
    "MyQueue = queue.Queue(3)\n",
    "print(MyQueue.empty())\n",
    "input(\"Appuyez sur une touche quand vous êtes prêt...\")\n",
    "MyQueue.put(1)\n",
    "MyQueue.put(2)\n",
    "print(MyQueue.full())\n",
    "input(\"Appuyez sur une touche quand vous êtes prêt...\")\n",
    "MyQueue.put(3)\n",
    "print(MyQueue.full())\n",
    "input(\"Appuyez sur une touche quand vous êtes prêt...\")\n",
    "print(MyQueue.get())\n",
    "print(MyQueue.empty())\n",
    "print(MyQueue.full())\n",
    "input(\"Appuyez sur une touche quand vous êtes prêt...\")\n",
    "print(MyQueue.get())\n",
    "print(MyQueue.get())"
   ]
  },
  {
   "cell_type": "markdown",
   "metadata": {},
   "source": [
    "# Travailler avec des deques"
   ]
  },
  {
   "cell_type": "code",
   "execution_count": 21,
   "metadata": {},
   "outputs": [
    {
     "name": "stdout",
     "output_type": "stream",
     "text": [
      "État initial :\n",
      "a b c d e f \r\n",
      "\r\n",
      "Ajout et extension à droite\n",
      "a b c d e f h i j \r\n",
      "MyDeque contient 9 éléments.\n",
      "\r\n",
      "Pop à droite\n",
      "Pop de j\n",
      "a b c d e f h i \r\n",
      "\r\n",
      "Ajout et extension à gauche\n",
      "c b a a b c d e f h \r\n",
      "MyDeque contient 10 éléments.\n",
      "\r\n",
      "Pop à gauche\n",
      "Pop de c\n",
      "b a a b c d e f h \r\n",
      "\r\n",
      "Suppression\n",
      "b a b c d e f h "
     ]
    }
   ],
   "source": [
    "import collections\n",
    "MyDeque = collections.deque(\"abcdef\", 10)\n",
    "print(\"État initial :\")\n",
    "for Item in MyDeque:\n",
    "   print(Item, end=\" \")\n",
    "print(\"\\r\\n\\r\\nAjout et extension à droite\")\n",
    "MyDeque.append(\"h\")\n",
    "MyDeque.extend(\"ij\")\n",
    "for Item in MyDeque:\n",
    "   print(Item, end=\" \")\n",
    "print(\"\\r\\nMyDeque contient {0} éléments.\"\n",
    "      .format(len(MyDeque)))\n",
    "print(\"\\r\\nPop à droite\")\n",
    "print(\"Pop de {0}\".format(MyDeque.pop()))\n",
    "for Item in MyDeque:\n",
    "   print(Item, end=\" \")\n",
    "print(\"\\r\\n\\r\\nAjout et extension à gauche\")\n",
    "MyDeque.appendleft(\"a\")\n",
    "MyDeque.extendleft(\"bc\")\n",
    "for Item in MyDeque:\n",
    "   print(Item, end=\" \")\n",
    "print(\"\\r\\nMyDeque contient {0} éléments.\"\n",
    "      .format(len(MyDeque)))\n",
    "print(\"\\r\\nPop à gauche\")\n",
    "print(\"Pop de {0}\".format(MyDeque.popleft()))\n",
    "for Item in MyDeque:\n",
    "   print(Item, end=\" \")\n",
    "print(\"\\r\\n\\r\\nSuppression\")\n",
    "MyDeque.remove(\"a\")\n",
    "for Item in MyDeque:\n",
    "   print(Item, end=\" \")"
   ]
  },
  {
   "cell_type": "code",
   "execution_count": null,
   "metadata": {
    "collapsed": true
   },
   "outputs": [],
   "source": []
  }
 ],
 "metadata": {
  "kernelspec": {
   "display_name": "Python 3 (ipykernel)",
   "language": "python",
   "name": "python3"
  },
  "language_info": {
   "codemirror_mode": {
    "name": "ipython",
    "version": 3
   },
   "file_extension": ".py",
   "mimetype": "text/x-python",
   "name": "python",
   "nbconvert_exporter": "python",
   "pygments_lexer": "ipython3",
   "version": "3.8.11"
  }
 },
 "nbformat": 4,
 "nbformat_minor": 2
}
