{
 "cells": [
  {
   "cell_type": "markdown",
   "metadata": {},
   "source": [
    "# Comprendre les composants d’une classe"
   ]
  },
  {
   "cell_type": "markdown",
   "metadata": {},
   "source": [
    "## Créer la définition d’une classe"
   ]
  },
  {
   "cell_type": "code",
   "execution_count": 1,
   "metadata": {},
   "outputs": [
    {
     "data": {
      "text/plain": [
       "0"
      ]
     },
     "execution_count": 1,
     "metadata": {},
     "output_type": "execute_result"
    }
   ],
   "source": [
    "class MyClass:\n",
    "   MyVar = 0\n",
    "\n",
    "MyInstance = MyClass()\n",
    "\n",
    "MyInstance.MyVar"
   ]
  },
  {
   "cell_type": "code",
   "execution_count": 2,
   "metadata": {},
   "outputs": [
    {
     "data": {
      "text/plain": [
       "__main__.MyClass"
      ]
     },
     "execution_count": 2,
     "metadata": {},
     "output_type": "execute_result"
    }
   ],
   "source": [
    "MyInstance.__class__"
   ]
  },
  {
   "cell_type": "markdown",
   "metadata": {},
   "source": [
    "## Les classes et leurs attributs intégrés"
   ]
  },
  {
   "cell_type": "code",
   "execution_count": 3,
   "metadata": {},
   "outputs": [
    {
     "name": "stdout",
     "output_type": "stream",
     "text": [
      "['MyVar', '__class__', '__delattr__', '__dict__', '__dir__', '__doc__', '__eq__', '__format__', '__ge__', '__getattribute__', '__gt__', '__hash__', '__init__', '__init_subclass__', '__le__', '__lt__', '__module__', '__ne__', '__new__', '__reduce__', '__reduce_ex__', '__repr__', '__setattr__', '__sizeof__', '__str__', '__subclasshook__', '__weakref__']\n"
     ]
    }
   ],
   "source": [
    "print(dir(MyInstance))"
   ]
  },
  {
   "cell_type": "code",
   "execution_count": 4,
   "metadata": {},
   "outputs": [
    {
     "name": "stdout",
     "output_type": "stream",
     "text": [
      "Help on class module in module builtins:\n",
      "\n",
      "__class__ = class module(object)\n",
      " |  __class__(name, doc=None)\n",
      " |  \n",
      " |  Create a module object.\n",
      " |  \n",
      " |  The name must be a string; the optional doc argument can have any type.\n",
      " |  \n",
      " |  Methods defined here:\n",
      " |  \n",
      " |  __delattr__(self, name, /)\n",
      " |      Implement delattr(self, name).\n",
      " |  \n",
      " |  __dir__(...)\n",
      " |      __dir__() -> list\n",
      " |      specialized dir() implementation\n",
      " |  \n",
      " |  __getattribute__(self, name, /)\n",
      " |      Return getattr(self, name).\n",
      " |  \n",
      " |  __init__(self, /, *args, **kwargs)\n",
      " |      Initialize self.  See help(type(self)) for accurate signature.\n",
      " |  \n",
      " |  __repr__(self, /)\n",
      " |      Return repr(self).\n",
      " |  \n",
      " |  __setattr__(self, name, value, /)\n",
      " |      Implement setattr(self, name, value).\n",
      " |  \n",
      " |  ----------------------------------------------------------------------\n",
      " |  Static methods defined here:\n",
      " |  \n",
      " |  __new__(*args, **kwargs) from builtins.type\n",
      " |      Create and return a new object.  See help(type) for accurate signature.\n",
      " |  \n",
      " |  ----------------------------------------------------------------------\n",
      " |  Data descriptors defined here:\n",
      " |  \n",
      " |  __dict__\n",
      "\n"
     ]
    }
   ],
   "source": [
    "help('__class__')"
   ]
  },
  {
   "cell_type": "markdown",
   "metadata": {},
   "source": [
    "## Travailler avec les méthodes"
   ]
  },
  {
   "cell_type": "markdown",
   "metadata": {},
   "source": [
    "### Créer des méthodes de classe"
   ]
  },
  {
   "cell_type": "code",
   "execution_count": 5,
   "metadata": {},
   "outputs": [
    {
     "name": "stdout",
     "output_type": "stream",
     "text": [
      "Bonjour le monde !\n"
     ]
    }
   ],
   "source": [
    "class MyClass:\n",
    "    def SayHello():\n",
    "        print(\"Bonjour le monde !\")\n",
    "\n",
    "MyClass.SayHello()"
   ]
  },
  {
   "cell_type": "markdown",
   "metadata": {},
   "source": [
    "### Créer des méthodes d’instance"
   ]
  },
  {
   "cell_type": "code",
   "execution_count": 6,
   "metadata": {},
   "outputs": [
    {
     "name": "stdout",
     "output_type": "stream",
     "text": [
      "Bonjour le monde !\n"
     ]
    }
   ],
   "source": [
    "class MyClass:\n",
    "    def SayHello(self):\n",
    "        print(\"Bonjour le monde !\")\n",
    "\n",
    "MyInstance = MyClass()\n",
    "MyInstance.SayHello()"
   ]
  },
  {
   "cell_type": "markdown",
   "metadata": {},
   "source": [
    "## Travailler avec les constructeurs"
   ]
  },
  {
   "cell_type": "code",
   "execution_count": 7,
   "metadata": {},
   "outputs": [
    {
     "name": "stdout",
     "output_type": "stream",
     "text": [
      " Bonjour le monde  ! \n"
     ]
    }
   ],
   "source": [
    "class MyClass:\n",
    "    Greeting = \"\"\n",
    "    def __init__(self, Name= \"le monde \"):\n",
    "        self.Greeting = Name + \" !\"\n",
    "    def SayHello(self):\n",
    "        print(\" Bonjour {0} \".format(self.Greeting))\n",
    "\n",
    "MyInstance = MyClass()\n",
    "MyInstance.SayHello()"
   ]
  },
  {
   "cell_type": "code",
   "execution_count": 8,
   "metadata": {},
   "outputs": [
    {
     "name": "stdout",
     "output_type": "stream",
     "text": [
      " Bonjour Annie ! \n",
      " Bonjour Alain \n"
     ]
    }
   ],
   "source": [
    "MyInstance2 = MyClass(\"Annie\")\n",
    "MyInstance2.SayHello()\n",
    "MyInstance.Greeting = \"Alain\"\n",
    "MyInstance.SayHello()"
   ]
  },
  {
   "cell_type": "markdown",
   "metadata": {},
   "source": [
    "## Travailler avec les variables"
   ]
  },
  {
   "cell_type": "markdown",
   "metadata": {},
   "source": [
    "### Créer des variables de classe"
   ]
  },
  {
   "cell_type": "code",
   "execution_count": 9,
   "metadata": {},
   "outputs": [
    {
     "data": {
      "text/plain": [
       "'Elsa'"
      ]
     },
     "execution_count": 9,
     "metadata": {},
     "output_type": "execute_result"
    }
   ],
   "source": [
    "class MyClass():\n",
    "    Greeting = \"\"\n",
    "    def SayHello(self):\n",
    "        print(\"Bonjour {0}\".format(self.Greeting))\n",
    "\n",
    "MyClass.Greeting = \"Elsa\"\n",
    "MyClass.Greeting"
   ]
  },
  {
   "cell_type": "code",
   "execution_count": 10,
   "metadata": {},
   "outputs": [
    {
     "name": "stdout",
     "output_type": "stream",
     "text": [
      "Bonjour Elsa\n"
     ]
    }
   ],
   "source": [
    "MyInstance = MyClass()\n",
    "MyInstance.SayHello()"
   ]
  },
  {
   "cell_type": "markdown",
   "metadata": {},
   "source": [
    "### Créer des variables d’instance"
   ]
  },
  {
   "cell_type": "code",
   "execution_count": 11,
   "metadata": {},
   "outputs": [
    {
     "name": "stdout",
     "output_type": "stream",
     "text": [
      "La somme de 1 plus 4 est 5.\n"
     ]
    }
   ],
   "source": [
    "class MyClass:\n",
    "    def DoAdd(self, Value1=0, Value2=0):\n",
    "        Sum = Value1 + Value2\n",
    "        print(\"La somme de {0} plus {1} est {2}.\"\n",
    "            .format(Value1, Value2, Sum))\n",
    "\n",
    "MyInstance = MyClass()\n",
    "MyInstance.DoAdd(1, 4)"
   ]
  },
  {
   "cell_type": "markdown",
   "metadata": {},
   "source": [
    "## Utiliser des méthodes avec des listes d’arguments variables"
   ]
  },
  {
   "cell_type": "code",
   "execution_count": 12,
   "metadata": {},
   "outputs": [
    {
     "name": "stdout",
     "output_type": "stream",
     "text": [
      "0. Rouge\n",
      "1. Bleu\n",
      "2. Vert\n",
      "Georges aime le Rouge\n",
      "Annie aime le Bleu\n",
      "Sarah aime le Vert\n"
     ]
    }
   ],
   "source": [
    "class MyClass:\n",
    "   def PrintList1(*args):\n",
    "      for Count, Item in enumerate(args):\n",
    "         print(\"{0}. {1}\".format(Count, Item))\n",
    "\n",
    "   def PrintList2(**kwargs):\n",
    "      for Name, Value in kwargs.items():\n",
    "         print(\"{0} aime le {1}\".format(Name, Value))\n",
    "\n",
    "MyClass.PrintList1(\"Rouge\", \"Bleu\", \"Vert\")\n",
    "MyClass.PrintList2(Georges=\"Rouge\", Annie=\"Bleu\",\n",
    "                   Sarah=\"Vert\")"
   ]
  },
  {
   "cell_type": "markdown",
   "metadata": {},
   "source": [
    "## Surcharger les opérateurs"
   ]
  },
  {
   "cell_type": "code",
   "execution_count": 13,
   "metadata": {},
   "outputs": [
    {
     "name": "stdout",
     "output_type": "stream",
     "text": [
      "Rouge Vert Bleu  + Jaune Pourpre Cyan  = Rouge Vert Bleu Jaune Pourpre Cyan \n"
     ]
    }
   ],
   "source": [
    "class MyClass:\n",
    "   def __init__(self, *args):\n",
    "      self.Input = args\n",
    "\n",
    "   def __add__(self, Other):\n",
    "      Output = MyClass()\n",
    "      Output.Input = self.Input + Other.Input\n",
    "      return Output\n",
    "\n",
    "   def __str__(self):\n",
    "      Output = \"\"\n",
    "      for Item in self.Input:\n",
    "         Output += Item\n",
    "         Output += \" \"\n",
    "      return Output\n",
    "\n",
    "Value1 = MyClass(\"Rouge\", \"Vert\", \"Bleu\")\n",
    "Value2 = MyClass(\"Jaune\", \"Pourpre\", \"Cyan\")\n",
    "Value3 = Value1 + Value2\n",
    "\n",
    "print(\"{0} + {1} = {2}\"\n",
    "      .format(Value1, Value2, Value3))"
   ]
  },
  {
   "cell_type": "markdown",
   "metadata": {},
   "source": [
    "# Créer et utiliser une classe externe\n",
    "Le code de cette section ne fonctionnera qu'avec __Jupyter Notebook__.  Il n'est pas conçu pour être utilisé avec __Google Colab__ car il peut être difficile de créer et d'employer des fichiers externes  `.py` avec Google Colab."
   ]
  },
  {
   "cell_type": "markdown",
   "metadata": {},
   "source": [
    "## Développer la classe externe\n",
    "Ce code figure dans le fichier `Chapitre 15 MyClass.ipynb` et vous devez créer ce fichier avant de pouvoir l'exploiter dans cette section. Une fois que vous avez créé et importé le fichier de classe externe, alors vous pouvez vous en servir comme cela est expliqué dans les sections suivantes."
   ]
  },
  {
   "cell_type": "markdown",
   "metadata": {},
   "source": [
    "## Utiliser MyClass dans une application"
   ]
  },
  {
   "cell_type": "code",
   "execution_count": 14,
   "metadata": {},
   "outputs": [
    {
     "name": "stdout",
     "output_type": "stream",
     "text": [
      "32\n",
      "Annie\n",
      "Samuel est âgé(e) de 33 ans.\n",
      "Sophie est âgé(e) de 44 ans.\n"
     ]
    }
   ],
   "source": [
    "import Chapitre_15_MyClass\n",
    "\n",
    "SamuelRecord = Chapitre_15_MyClass.MyClass()\n",
    "AnnieRecord = Chapitre_15_MyClass.MyClass(\"Annie\", 44)\n",
    "\n",
    "print(SamuelRecord.GetAge())\n",
    "SamuelRecord.SetAge(33)\n",
    "\n",
    "print(AnnieRecord.GetName())\n",
    "AnnieRecord.SetName(\"Sophie\")\n",
    "\n",
    "print(SamuelRecord)\n",
    "print(AnnieRecord)"
   ]
  },
  {
   "cell_type": "markdown",
   "metadata": {},
   "source": [
    "# Étendre des classes pour en créer de nouvelles"
   ]
  },
  {
   "cell_type": "markdown",
   "metadata": {},
   "source": [
    "## Construire la classe enfant"
   ]
  },
  {
   "cell_type": "code",
   "execution_count": 16,
   "metadata": {},
   "outputs": [],
   "source": [
    "class Animal:\n",
    "   def __init__(self, Name=\"\", Age=0, Type=\"\"):\n",
    "      self.Name = Name\n",
    "      self.Age = Age\n",
    "      self.Type = Type\n",
    "\n",
    "   def GetName(self):\n",
    "      return self.Name\n",
    "\n",
    "   def SetName(self, Name):\n",
    "      self.Name = Name\n",
    "\n",
    "   def GetAge(self):\n",
    "      return self.Age\n",
    "\n",
    "   def SetAge(self, Age):\n",
    "      self.Age = Age\n",
    "\n",
    "   def GetType(self):\n",
    "      return self.Type\n",
    "\n",
    "   def SetType(self, Type):\n",
    "      self.Type = Type\n",
    "\n",
    "   def __str__(self):\n",
    "      return \"{0} est un {1} âgé de {2} ans.\".format(self.Name,\n",
    "                                            self.Type,\n",
    "                                            self.Age)\n",
    "\n",
    "class Chicken(Animal):\n",
    "   def __init__(self, Name=\"\", Age=0):\n",
    "      self.Name = Name\n",
    "      self.Age = Age\n",
    "      self.Type = \"poulet\"\n",
    "\n",
    "   def SetType(self, Type):\n",
    "      print(\"Désolé, {0} sera toujours un {1}.\"\n",
    "            .format(self.Name, self.Type))\n",
    "\n",
    "   def MakeSound(self):\n",
    "      print(\"{0} dit Cot, Cot, Cot, Codette !\".format(self.Name))"
   ]
  },
  {
   "cell_type": "markdown",
   "metadata": {},
   "source": [
    "## Tester l’héritage de classe dans une application"
   ]
  },
  {
   "cell_type": "code",
   "execution_count": 17,
   "metadata": {},
   "outputs": [
    {
     "name": "stdout",
     "output_type": "stream",
     "text": [
      "Arthur est un poulet âgé de 2 ans.\n",
      "Arthur est un poulet âgé de 3 ans.\n",
      "Désolé, Arthur sera toujours un poulet.\n",
      "Arthur est un poulet âgé de 3 ans.\n",
      "Arthur dit Cot, Cot, Cot, Codette !\n"
     ]
    }
   ],
   "source": [
    "MyChicken = Chicken(\"Arthur\", 2)\n",
    "print(MyChicken)\n",
    "\n",
    "MyChicken.SetAge(MyChicken.GetAge() + 1)\n",
    "print(MyChicken)\n",
    "\n",
    "MyChicken.SetType(\"Gorille\")\n",
    "print(MyChicken)\n",
    "\n",
    "MyChicken.MakeSound()"
   ]
  },
  {
   "cell_type": "code",
   "execution_count": null,
   "metadata": {},
   "outputs": [],
   "source": []
  }
 ],
 "metadata": {
  "kernelspec": {
   "display_name": "Python 3 (ipykernel)",
   "language": "python",
   "name": "python3"
  },
  "language_info": {
   "codemirror_mode": {
    "name": "ipython",
    "version": 3
   },
   "file_extension": ".py",
   "mimetype": "text/x-python",
   "name": "python",
   "nbconvert_exporter": "python",
   "pygments_lexer": "ipython3",
   "version": "3.8.11"
  }
 },
 "nbformat": 4,
 "nbformat_minor": 2
}
