{
 "cells": [
  {
   "cell_type": "markdown",
   "metadata": {},
   "source": [
    "# Créer et utiliser une classe externe"
   ]
  },
  {
   "cell_type": "markdown",
   "metadata": {},
   "source": [
    "## Développer la classe externe"
   ]
  },
  {
   "cell_type": "markdown",
   "metadata": {},
   "source": [
    "### Définir la classe MyClass"
   ]
  },
  {
   "cell_type": "code",
   "execution_count": 1,
   "metadata": {},
   "outputs": [],
   "source": [
    "class MyClass:\n",
    "   def __init__(self, Name=\"Samuel\", Age=32):\n",
    "      self.Name = Name\n",
    "      self.Age = Age\n",
    "\n",
    "   def GetName(self):\n",
    "      return self.Name\n",
    "\n",
    "   def SetName(self, Name):\n",
    "      self.Name = Name\n",
    "\n",
    "   def GetAge(self):\n",
    "      return self.Age\n",
    "\n",
    "   def SetAge(self, Age):\n",
    "      self.Age = Age\n",
    "\n",
    "   def __str__(self):\n",
    "      return \"{0} est âgé(e) de {1} ans.\".format(self.Name,\n",
    "                                       self.Age)"
   ]
  },
  {
   "cell_type": "code",
   "execution_count": null,
   "metadata": {
    "collapsed": true
   },
   "outputs": [],
   "source": []
  }
 ],
 "metadata": {
  "kernelspec": {
   "display_name": "Python 3 (ipykernel)",
   "language": "python",
   "name": "python3"
  },
  "language_info": {
   "codemirror_mode": {
    "name": "ipython",
    "version": 3
   },
   "file_extension": ".py",
   "mimetype": "text/x-python",
   "name": "python",
   "nbconvert_exporter": "python",
   "pygments_lexer": "ipython3",
   "version": "3.8.11"
  }
 },
 "nbformat": 4,
 "nbformat_minor": 2
}
