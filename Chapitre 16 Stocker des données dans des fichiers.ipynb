{
 "cells": [
  {
   "cell_type": "markdown",
   "metadata": {},
   "source": [
    "# Créer du contenu"
   ]
  },
  {
   "cell_type": "code",
   "execution_count": 1,
   "metadata": {},
   "outputs": [],
   "source": [
    "class FormatData:\n",
    "   def __init__(self, Name=\"\", Age=0, Married=False):\n",
    "      self.Name = Name\n",
    "      self.Age = Age\n",
    "      self.Married = Married\n",
    "\n",
    "   def __str__(self):\n",
    "      OutString = \"'{0}', {1}, {2}\".format(\n",
    "         self.Name,\n",
    "         self.Age,\n",
    "         self.Married)\n",
    "      return OutString"
   ]
  },
  {
   "cell_type": "code",
   "execution_count": 2,
   "metadata": {},
   "outputs": [
    {
     "name": "stdout",
     "output_type": "stream",
     "text": [
      "'Georges', 65, True\n",
      "'Sophie', 47, False\n",
      "'Pierre', 52, True\n"
     ]
    }
   ],
   "source": [
    "NewData = [FormatData(\"Georges\", 65, True),\n",
    "           FormatData(\"Sophie\", 47, False),\n",
    "           FormatData(\"Pierre\", 52, True)]\n",
    "\n",
    "for Entry in NewData:\n",
    "   print(Entry)"
   ]
  },
  {
   "cell_type": "markdown",
   "metadata": {},
   "source": [
    "# Créer un fichier"
   ]
  },
  {
   "cell_type": "code",
   "execution_count": 3,
   "metadata": {},
   "outputs": [],
   "source": [
    "import csv\n",
    "\n",
    "class FormatData2:\n",
    "   def __init__(self, Name=\"\", Age=0, Married=False):\n",
    "      self.Name = Name\n",
    "      self.Age = Age\n",
    "      self.Married = Married\n",
    "        \n",
    "   def __str__(self):\n",
    "      OutString = \"'{0}', {1}, {2}\".format(\n",
    "         self.Name,\n",
    "         self.Age,\n",
    "         self.Married)\n",
    "      return OutString\n",
    "\n",
    "   def SaveData(Filename = \"\", DataList = []):\n",
    "       with open(Filename,\n",
    "                 \"w\", newline='\\n') as csvfile:\n",
    "          DataWriter = csv.writer(\n",
    "             csvfile,\n",
    "             delimiter='\\n',\n",
    "             quotechar=\" \",\n",
    "             quoting=csv.QUOTE_NONNUMERIC)\n",
    "          DataWriter.writerow(DataList)\n",
    "          csvfile.close()\n",
    "          print(\"Données enregistrées !\")"
   ]
  },
  {
   "cell_type": "code",
   "execution_count": 4,
   "metadata": {},
   "outputs": [
    {
     "name": "stdout",
     "output_type": "stream",
     "text": [
      "Données enregistrées !\n"
     ]
    }
   ],
   "source": [
    "NewData = [FormatData2(\"Georges\", 65, True),\n",
    "           FormatData2(\"Sophie\", 47, False),\n",
    "           FormatData2(\"Pierre\", 52, True)]\n",
    "FormatData2.SaveData(\"TestFile.csv\", NewData)"
   ]
  },
  {
   "cell_type": "markdown",
   "metadata": {},
   "source": [
    "# Encadré : *Stockage local des fichiers : Colab versus Jupyter Notebook*"
   ]
  },
  {
   "cell_type": "code",
   "execution_count": 5,
   "metadata": {},
   "outputs": [
    {
     "name": "stdout",
     "output_type": "stream",
     "text": [
      "C:\\Users\\Dom\\Documents\\Python_PLN_4\n",
      "['.ipynb_checkpoints', 'Chapitre 02 Exemples Colab.ipynb', 'Chapitre 03 Travailler avec les commandes.ipynb', 'Chapitre 04 Commentaires.ipynb', 'Chapitre 04 Exemples.ipynb', 'Chapitre 04 Indentation.ipynb', 'Chapitre 05 Commandes magiques.ipynb', 'Chapitre 06 Stockage et modification des informations.ipynb', \"Chapitre 07 Gérer l'information.ipynb\", 'Chapitre 08 Prendre des décisions.ipynb', 'Chapitre 09 Accomplir des tâches répétitives.ipynb', 'Chapitre 10 Gérer les erreurs.ipynb', 'Chapitre 11 Interagir avec les packages.ipynb', 'Chapitre 11 Packages.ipynb', 'Chapitre 12 Travailler avec des chaînes.ipynb', 'Chapitre 13 Gérer des listes.ipynb', 'Chapitre 14 Collecter toutes sortes de données.ipynb', 'Chapitre 15 Créer et utiliser des classes.ipynb', 'Chapitre 15 MyClass.ipynb', 'Chapitre 16 Stocker des données dans des fichiers.ipynb', 'Chapitre 17 Envoyer un courriel.ipynb', 'Chapitre_11_Packages.py', 'Chapitre_15_MyClass.py', 'README.md', 'TestFile.csv', '__pycache__']\n",
      "True\n"
     ]
    }
   ],
   "source": [
    "import os\n",
    "\n",
    "print(os.getcwd())\n",
    "\n",
    "DirList = os.listdir()\n",
    "print(DirList)\n",
    "print(\"TestFile.csv\" in DirList)"
   ]
  },
  {
   "cell_type": "markdown",
   "metadata": {},
   "source": [
    "# Lire le contenu d’un fichier"
   ]
  },
  {
   "cell_type": "code",
   "execution_count": 6,
   "metadata": {},
   "outputs": [],
   "source": [
    "import csv\n",
    "\n",
    "class FormatData3:\n",
    "   def __init__(self, Name=\"\", Age=0, Married=False):\n",
    "      self.Name = Name\n",
    "      self.Age = Age\n",
    "      self.Married = Married\n",
    "        \n",
    "   def __str__(self):\n",
    "      OutString = \"'{0}', {1}, {2}\".format(\n",
    "         self.Name,\n",
    "         self.Age,\n",
    "         self.Married)\n",
    "      return OutString\n",
    "\n",
    "   def SaveData(Filename = \"\", DataList = []):\n",
    "       with open(Filename,\n",
    "                 \"w\", newline='\\n') as csvfile:\n",
    "          DataWriter = csv.writer(\n",
    "             csvfile,\n",
    "             delimiter='\\n',\n",
    "             quotechar=\" \",\n",
    "             quoting=csv.QUOTE_NONNUMERIC)\n",
    "          DataWriter.writerow(DataList)\n",
    "          csvfile.close()\n",
    "          print(\"Données enregistrées !\")\n",
    "    \n",
    "   def ReadData(Filename = \"\"):\n",
    "       with open(Filename,\n",
    "                 \"r\", newline='\\n') as csvfile:\n",
    "          DataReader = csv.reader(\n",
    "             csvfile,\n",
    "             delimiter=\"\\n\",\n",
    "             quotechar=\" \",\n",
    "             quoting=csv.QUOTE_NONNUMERIC)\n",
    "          Output = []\n",
    "          for Item in DataReader:\n",
    "             Output.append(Item[0])\n",
    "          csvfile.close()\n",
    "          print(\"Données lues !\")\n",
    "          return Output"
   ]
  },
  {
   "cell_type": "code",
   "execution_count": 7,
   "metadata": {},
   "outputs": [
    {
     "name": "stdout",
     "output_type": "stream",
     "text": [
      "Données lues !\n",
      "'Georges', 65, True\n",
      "'Sophie', 47, False\n",
      "'Pierre', 52, True\n"
     ]
    }
   ],
   "source": [
    "NewData = FormatData3.ReadData(\"TestFile.csv\")\n",
    "for Entry in NewData:\n",
    "   print(Entry)"
   ]
  },
  {
   "cell_type": "markdown",
   "metadata": {},
   "source": [
    "# Mettre à jour le contenu d’un fichier"
   ]
  },
  {
   "cell_type": "code",
   "execution_count": 8,
   "metadata": {},
   "outputs": [
    {
     "name": "stdout",
     "output_type": "stream",
     "text": [
      "Données lues !\n",
      "'Georges', 65, True\n",
      "'Sophie', 47, False\n",
      "'Pierre', 52, True\n",
      "\r\n",
      "Ajout d'un enregistrement pour Antoine.\n",
      "'Georges', 65, True\n",
      "'Sophie', 47, False\n",
      "'Pierre', 52, True\n",
      "'Antoine', 23, False\n",
      "\r\n",
      "Suppression de l'enregistrement de Pierre.\n",
      "'Georges', 65, True\n",
      "'Sophie', 47, False\n",
      "'Antoine', 23, False\n",
      "\r\n",
      "Modification de l'enregistrement de Sophie.\n",
      "'Georges', 65, True\n",
      "'Antoine', 23, False\n",
      "'Sophie', 48, True\n",
      "Données enregistrées !\n"
     ]
    }
   ],
   "source": [
    "import os.path\n",
    "\n",
    "if not os.path.isfile(\"Testfile.csv\"):\n",
    "   print(\"SVP exécutez le fichier d'exemple CreateFile.py !\")\n",
    "   quit()\n",
    "\n",
    "NewData = FormatData3.ReadData(\"TestFile.csv\")\n",
    "for Entry in NewData:\n",
    "   print(Entry)\n",
    "\n",
    "print(\"\\r\\nAjout d'un enregistrement pour Antoine.\")\n",
    "NewRecord = \"'Antoine', 23, False\"\n",
    "NewData.append(NewRecord)\n",
    "for Entry in NewData:\n",
    "   print(Entry)\n",
    "\n",
    "print(\"\\r\\nSuppression de l'enregistrement de Pierre.\")\n",
    "Location = NewData.index(\"'Pierre', 52, True\")\n",
    "Record = NewData[Location]\n",
    "NewData.remove(Record)\n",
    "for Entry in NewData:\n",
    "   print(Entry)\n",
    "\n",
    "print(\"\\r\\nModification de l'enregistrement de Sophie.\")\n",
    "Location = NewData.index(\"'Sophie', 47, False\")\n",
    "Record = NewData[Location]\n",
    "Split = Record.split(\",\")\n",
    "NewRecord = FormatData3(Split[0].replace(\"'\", \"\"),\n",
    "                       int(Split[1]),\n",
    "                       bool(Split[2]))\n",
    "NewRecord.Married = True\n",
    "NewRecord.Age = 48\n",
    "NewData.append(NewRecord.__str__())\n",
    "NewData.remove(Record)\n",
    "for Entry in NewData:\n",
    "   print(Entry)\n",
    "\n",
    "FormatData3.SaveData(\"ChangedFile.csv\", NewData)"
   ]
  },
  {
   "cell_type": "markdown",
   "metadata": {},
   "source": [
    "# Supprimer un fichier"
   ]
  },
  {
   "cell_type": "code",
   "execution_count": 9,
   "metadata": {},
   "outputs": [
    {
     "name": "stdout",
     "output_type": "stream",
     "text": [
      "Fichier supprimé !\n"
     ]
    }
   ],
   "source": [
    "import os\n",
    "\n",
    "os.remove(\"ChangedFile.csv\")\n",
    "print(\"Fichier supprimé !\")"
   ]
  },
  {
   "cell_type": "code",
   "execution_count": null,
   "metadata": {},
   "outputs": [],
   "source": []
  }
 ],
 "metadata": {
  "kernelspec": {
   "display_name": "Python 3 (ipykernel)",
   "language": "python",
   "name": "python3"
  },
  "language_info": {
   "codemirror_mode": {
    "name": "ipython",
    "version": 3
   },
   "file_extension": ".py",
   "mimetype": "text/x-python",
   "name": "python",
   "nbconvert_exporter": "python",
   "pygments_lexer": "ipython3",
   "version": "3.8.11"
  }
 },
 "nbformat": 4,
 "nbformat_minor": 2
}
