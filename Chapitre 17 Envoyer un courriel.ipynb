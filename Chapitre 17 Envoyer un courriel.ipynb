{
 "cells": [
  {
   "cell_type": "markdown",
   "metadata": {},
   "source": [
    "# Comprendre ce qui se passe lorsque vous envoyez un e-mail"
   ]
  },
  {
   "cell_type": "markdown",
   "metadata": {},
   "source": [
    "## Définir les parties de l’enveloppe"
   ]
  },
  {
   "cell_type": "markdown",
   "metadata": {},
   "source": [
    "### Hôte"
   ]
  },
  {
   "cell_type": "code",
   "execution_count": 1,
   "metadata": {},
   "outputs": [
    {
     "name": "stdout",
     "output_type": "stream",
     "text": [
      "127.0.0.1\n",
      "('kubernetes.docker.internal', [], ['127.0.0.1'])\n"
     ]
    }
   ],
   "source": [
    "import socket\n",
    "print(socket.gethostbyname(\"localhost\"))\n",
    "print(socket.gethostbyaddr(\"127.0.0.1\"))"
   ]
  },
  {
   "cell_type": "code",
   "execution_count": 2,
   "metadata": {},
   "outputs": [
    {
     "name": "stdout",
     "output_type": "stream",
     "text": [
      "89.185.41.217\n"
     ]
    }
   ],
   "source": [
    "print(socket.gethostbyname(\"www.pourlesnuls.fr\"))"
   ]
  },
  {
   "cell_type": "markdown",
   "metadata": {},
   "source": [
    "### Port"
   ]
  },
  {
   "cell_type": "code",
   "execution_count": 3,
   "metadata": {},
   "outputs": [
    {
     "data": {
      "text/plain": [
       "[(<AddressFamily.AF_INET6: 23>, 0, 0, '', ('::1', 110, 0, 0)),\n",
       " (<AddressFamily.AF_INET: 2>, 0, 0, '', ('127.0.0.1', 110))]"
      ]
     },
     "execution_count": 3,
     "metadata": {},
     "output_type": "execute_result"
    }
   ],
   "source": [
    "import socket\n",
    "socket.getaddrinfo(\"localhost\", 110)"
   ]
  },
  {
   "cell_type": "code",
   "execution_count": 4,
   "metadata": {},
   "outputs": [
    {
     "data": {
      "text/plain": [
       "[(<AddressFamily.AF_INET: 2>, 0, 0, '', ('89.185.41.217', 80))]"
      ]
     },
     "execution_count": 4,
     "metadata": {},
     "output_type": "execute_result"
    }
   ],
   "source": [
    "socket.getaddrinfo(\"www.pourlesnuls.fr\", 80)"
   ]
  },
  {
   "cell_type": "code",
   "execution_count": 5,
   "metadata": {},
   "outputs": [
    {
     "data": {
      "text/plain": [
       "'smtp'"
      ]
     },
     "execution_count": 5,
     "metadata": {},
     "output_type": "execute_result"
    }
   ],
   "source": [
    "socket.getservbyport(25)"
   ]
  },
  {
   "cell_type": "markdown",
   "metadata": {},
   "source": [
    "### Nom d’hôte local"
   ]
  },
  {
   "cell_type": "code",
   "execution_count": 6,
   "metadata": {},
   "outputs": [
    {
     "data": {
      "text/plain": [
       "'Surface'"
      ]
     },
     "execution_count": 6,
     "metadata": {},
     "output_type": "execute_result"
    }
   ],
   "source": [
    "import socket\n",
    "socket.gethostname()"
   ]
  },
  {
   "cell_type": "code",
   "execution_count": 7,
   "metadata": {},
   "outputs": [
    {
     "data": {
      "text/plain": [
       "'192.168.1.119'"
      ]
     },
     "execution_count": 7,
     "metadata": {},
     "output_type": "execute_result"
    }
   ],
   "source": [
    "socket.gethostbyname(socket.gethostname())"
   ]
  },
  {
   "cell_type": "markdown",
   "metadata": {},
   "source": [
    "## Définir les parties du courrier"
   ]
  },
  {
   "cell_type": "markdown",
   "metadata": {},
   "source": [
    "### Définir le message"
   ]
  },
  {
   "cell_type": "code",
   "execution_count": 8,
   "metadata": {},
   "outputs": [
    {
     "data": {
      "text/plain": [
       "'Content-Type: text/plain; charset=\"us-ascii\"\\nMIME-Version: 1.0\\nContent-Transfer-Encoding: 7bit\\nSubject: Message de test\\nFrom: John Mueller <John@JohnMuellerBooks.com>\\nTo: John Mueller <John@JohnMuellerBooks.com>\\n\\nBonjour le monde !'"
      ]
     },
     "execution_count": 8,
     "metadata": {},
     "output_type": "execute_result"
    }
   ],
   "source": [
    "from email.mime.text import MIMEText\n",
    "msg = MIMEText(\"Bonjour le monde !\")\n",
    "msg['Subject'] = \"Message de test\"\n",
    "msg['From']='John Mueller ' + \\\n",
    "    '<John@JohnMuellerBooks.com>'\n",
    "msg['To'] = 'John Mueller ' + \\\n",
    "    '<John@JohnMuellerBooks.com>'\n",
    "\n",
    "msg.as_string()"
   ]
  },
  {
   "cell_type": "markdown",
   "metadata": {},
   "source": [
    "### Spécifier la méthode de transmission\n",
    "Pour que cette partie du code fonctionne, vous devez créer un serveur SMTP sur un autre port (1025 dans cet exemple), plutôt que de vous fier au port 25, en ouvrant une invite Anaconda et en saisissant `python -m smtpd -n -c DebuggingServer localhost:1025` sur la ligne de commande, puis en validant par l'appui sur la touche Entrée."
   ]
  },
  {
   "cell_type": "code",
   "execution_count": 9,
   "metadata": {},
   "outputs": [
    {
     "data": {
      "text/plain": [
       "{}"
      ]
     },
     "execution_count": 9,
     "metadata": {},
     "output_type": "execute_result"
    }
   ],
   "source": [
    "import smtplib\n",
    "s = smtplib.SMTP('localhost', 1025)\n",
    "\n",
    "s.sendmail('SenderAddress', \n",
    "           ['RecipientAddress'], \n",
    "           msg.as_string())"
   ]
  },
  {
   "cell_type": "markdown",
   "metadata": {},
   "source": [
    "## Envoyer un message texte"
   ]
  },
  {
   "cell_type": "code",
   "execution_count": 10,
   "metadata": {},
   "outputs": [
    {
     "name": "stdout",
     "output_type": "stream",
     "text": [
      "Message Sent!\n"
     ]
    }
   ],
   "source": [
    "from email.mime.text import MIMEText\n",
    "import smtplib\n",
    "\n",
    "msg = MIMEText(\"Bonjour le monde !\")\n",
    "\n",
    "msg['Subject'] = 'Message de test'\n",
    "msg['From']='AdresseExpéditeur'\n",
    "msg['To'] = 'AdresseDestinataire'\n",
    "\n",
    "s = smtplib.SMTP('localhost', 1025)\n",
    "\n",
    "s.sendmail('AdresseExpéditeur',\n",
    "           ['AdresseDestinataire'],\n",
    "           msg.as_string())\n",
    "\n",
    "print(\"Message envoyé !\")"
   ]
  },
  {
   "cell_type": "markdown",
   "metadata": {},
   "source": [
    "## Travailler avec un message HTML"
   ]
  },
  {
   "cell_type": "code",
   "execution_count": 11,
   "metadata": {},
   "outputs": [
    {
     "name": "stdout",
     "output_type": "stream",
     "text": [
      "Message Sent!\n"
     ]
    }
   ],
   "source": [
    "from email.mime.text import MIMEText\n",
    "import smtplib\n",
    "\n",
    "msg = MIMEText(\n",
    "   \"<h1>Titre</h1><p>Bonjour le monde !</p>\",\"html\")\n",
    "\n",
    "msg['Subject'] = 'Test de message HTML'\n",
    "msg['From']='AdresseExpéditeur'\n",
    "msg['To'] = 'AdresseDestinataire'\n",
    "\n",
    "s = smtplib.SMTP('localhost', 1025)\n",
    "s.sendmail('AdresseExpéditeur',\n",
    "           ['AdresseDestinataire'],\n",
    "           msg.as_string())\n",
    "\n",
    "print(\"Message envoyé !\")"
   ]
  },
  {
   "cell_type": "code",
   "execution_count": null,
   "metadata": {},
   "outputs": [],
   "source": []
  }
 ],
 "metadata": {
  "kernelspec": {
   "display_name": "Python 3 (ipykernel)",
   "language": "python",
   "name": "python3"
  },
  "language_info": {
   "codemirror_mode": {
    "name": "ipython",
    "version": 3
   },
   "file_extension": ".py",
   "mimetype": "text/x-python",
   "name": "python",
   "nbconvert_exporter": "python",
   "pygments_lexer": "ipython3",
   "version": "3.8.11"
  }
 },
 "nbformat": 4,
 "nbformat_minor": 2
}
